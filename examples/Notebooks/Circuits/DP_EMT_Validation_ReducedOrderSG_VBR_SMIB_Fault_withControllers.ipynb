{
 "cells": [
  {
   "cell_type": "markdown",
   "metadata": {},
   "source": [
    "# Validation of the DP and EMT 3th, 4th and 6th Order VBR SynGen with Exciter against SP domain"
   ]
  },
  {
   "cell_type": "markdown",
   "metadata": {},
   "source": [
    "## Run C++ examples with exciter"
   ]
  },
  {
   "cell_type": "code",
   "execution_count": null,
   "metadata": {},
   "outputs": [],
   "source": [
    "import os\n",
    "import subprocess\n",
    "\n",
    "#%matplotlib widget\n",
    "\n",
    "name = ['SP_ReducedOrderSG_VBR_Load_Fault', 'DP_ReducedOrderSG_VBR_Load_Fault', 'EMT_ReducedOrderSG_VBR_Load_Fault']\n",
    "options = ['SGModel=3', 'SGModel=4', 'SGModel=6a', 'SGModel=6b']\n",
    "\n",
    "dpsim_path = subprocess.Popen(['git', 'rev-parse', '--show-toplevel'], stdout=subprocess.PIPE).communicate()[0].rstrip().decode('utf-8')\n",
    "\n",
    "path_exec = dpsim_path + '/build/dpsim/examples/cxx/'\n",
    "for i in range(len(name)):\n",
    "    for j in range (len(options)):\n",
    "        sim = subprocess.Popen([path_exec + name[i], '-o', options[j], '-o', 'WITHEXCITER=true'], stdout=subprocess.PIPE, stderr=subprocess.STDOUT)\n",
    "        print(sim.communicate()[0].decode())"
   ]
  },
  {
   "cell_type": "markdown",
   "metadata": {},
   "source": [
    "### Load Results"
   ]
  },
  {
   "cell_type": "code",
   "execution_count": null,
   "metadata": {},
   "outputs": [],
   "source": [
    "from villas.dataprocessing.readtools import *\n",
    "from villas.dataprocessing.timeseries import *\n",
    "from villas.dataprocessing.timeseries import TimeSeries as ts\n",
    "import matplotlib.pyplot as plt\n",
    "import re\n",
    "import numpy as np\n",
    "import math\n",
    "import os\n",
    "\n",
    "work_dir = os.getcwd() + \"/logs/\"\n",
    "file_name_3Order = 'SynGen3Order_VBR_Load_Fault'\n",
    "file_name_4Order = 'SynGen4Order_VBR_Load_Fault'\n",
    "file_name_6aOrder = 'SynGen6aOrder_VBR_Load_Fault'\n",
    "file_name_6bOrder = 'SynGen6bOrder_VBR_Load_Fault'\n",
    "\n",
    "ts_dpsim_SP = []\n",
    "ts_dpsim_SP_shift = []\n",
    "ts_dpsim_DP = []\n",
    "ts_dpsim_DP_shift = []\n",
    "ts_dpsim_EMT = []\n",
    "file_names = [file_name_3Order, file_name_4Order, file_name_6aOrder, file_name_6bOrder]\n",
    "for i in range(len(file_names)):\n",
    "    path_logfile = work_dir + \"SP_\" + file_names[i] + \"/\" + \"SP_\" + file_names[i] + \".csv\"\n",
    "    ts_dpsim_SP.append(read_timeseries_dpsim(path_logfile))\n",
    "    ts_dpsim_SP_shift.append(ts.frequency_shift_list(ts_dpsim_SP[i], 60))\n",
    "    \n",
    "    path_logfile = work_dir + \"DP_\" + file_names[i] + \"/\" + \"DP_\" + file_names[i] + \".csv\"\n",
    "    ts_dpsim_DP.append(read_timeseries_dpsim(path_logfile))\n",
    "    ts_dpsim_DP_shift.append(ts.frequency_shift_list(ts_dpsim_DP[i], 60))\n",
    "    \n",
    "    path_logfile = work_dir + \"EMT_\" + file_names[i] + \"/\" + \"EMT_\" + file_names[i] + \".csv\"\n",
    "    ts_dpsim_EMT.append(read_timeseries_dpsim(path_logfile))"
   ]
  },
  {
   "cell_type": "markdown",
   "metadata": {},
   "source": [
    "### Declare plot function"
   ]
  },
  {
   "cell_type": "code",
   "execution_count": null,
   "metadata": {},
   "outputs": [],
   "source": [
    "width = 16\n",
    "height = 4\n",
    "color_EMT = 'black'\n",
    "color_SP = 'C10'\n",
    "color_DP = 'C11'\n",
    "linestyle_EMT = '-'\n",
    "linestyle_SP = '-'\n",
    "linestyle_DP = 'dashed'\n",
    "common_time=50e-6\n",
    "roi_start=0\n",
    "roi_end=4.5\n",
    "roi = range(int(roi_start/common_time), int(roi_end/common_time))\n",
    "\n",
    "def plot_mechVar(SGOrder, varname, ylabel):\n",
    "    if SGOrder==3:\n",
    "        idx=0\n",
    "    if SGOrder==4:\n",
    "        idx=1\n",
    "    if SGOrder==6:\n",
    "        # Marconato's model\n",
    "        idx=2\n",
    "    if SGOrder==7:\n",
    "        # Anderson's model\n",
    "        idx=3\n",
    "        \n",
    "    time = ts_dpsim_EMT[idx][varname].interpolate(common_time).time[roi]\n",
    "    values_emt = ts_dpsim_EMT[idx][varname].interpolate(common_time).values[roi]\n",
    "    values_sp = ts_dpsim_SP[idx][varname].interpolate(common_time).values[roi]\n",
    "    values_dp = ts_dpsim_DP[idx][varname].interpolate(common_time).values[roi]\n",
    "        \n",
    "    fig = plt.figure(figsize=(width, height))\n",
    "    plt.plot(time, values_emt, label='EMT', linestyle=linestyle_EMT, color=color_EMT, linewidth=3)    \n",
    "    plt.plot(time, values_sp, label='SP',  color=color_SP, linestyle=linestyle_SP,  linewidth=3) \n",
    "    plt.plot(time, values_dp, label='DP',  color=color_DP, linestyle=linestyle_DP, linewidth=3)     \n",
    "    plt.ylabel(ylabel)\n",
    "    plt.xlabel('Time (s)')\n",
    "    plt.xlim(0, 4.5)\n",
    "    plt.grid()\n",
    "    plt.legend(loc='lower right')\n",
    "    plt.show()\n",
    "    \n",
    "    #calculate RMSE\n",
    "    nom_value = 0.540541 # power flow result\n",
    "    rmse_emt = ts_dpsim_SP[idx][varname].rmse(ts_dpsim_SP[idx][varname].interpolate(common_time), ts_dpsim_EMT[idx][varname].interpolate(common_time))\n",
    "    print('RMSE EMT = {:.6f} (pu), which is {:.3f}% of the nominal value = {:.3f} (pu) '.format(rmse_emt, rmse_emt/nom_value*100, nom_value))\n",
    "    rmse_dp = ts_dpsim_SP[idx][varname].rmse(ts_dpsim_SP[idx][varname].interpolate(common_time), ts_dpsim_DP[idx][varname].interpolate(common_time))\n",
    "    print('RMSE DP = {:.6f} (pu), which is {:.3f}% of the nominal value = {:.3f} (pu) '.format(rmse_dp, rmse_dp/nom_value*100, nom_value))\n",
    "    \n",
    "    return (rmse_emt/nom_value*100, rmse_dp/nom_value*100)\n",
    "    \n",
    "    \n",
    "def plot_elecVar(SGOrder, variable_EMT, variable_SP, variable_DP, ylabel):\n",
    "    if SGOrder==3:\n",
    "        idx=0\n",
    "    if SGOrder==4:\n",
    "        idx=1\n",
    "    if SGOrder==6:\n",
    "        # Marconato's model\n",
    "        idx=2\n",
    "    if SGOrder==7:\n",
    "        # Anderson's model\n",
    "        idx=3\n",
    "    \n",
    "    time = ts_dpsim_EMT[idx][variable_EMT].interpolate(common_time).time[roi]\n",
    "    values_emt = ts_dpsim_EMT[idx][variable_EMT].interpolate(common_time).values[roi]\n",
    "    values_sp = np.sqrt(2/3) * ts_dpsim_SP_shift[idx][variable_SP].interpolate(common_time).values[roi]\n",
    "    values_dp = np.sqrt(2/3) * ts_dpsim_DP_shift[idx][variable_DP].interpolate(common_time).values[roi] \n",
    "        \n",
    "    fig = plt.figure(figsize=(width, height))\n",
    "    plt.plot(time, values_emt, label='EMT', linestyle=linestyle_EMT, color=color_EMT, linewidth=3)    \n",
    "    plt.plot(time, values_sp, label='SP',  color=color_SP, linestyle=linestyle_SP,  linewidth=3) \n",
    "    plt.plot(time, values_dp, label='DP',  color=color_DP, linestyle=linestyle_DP, linewidth=3) \n",
    "    plt.ylabel(ylabel)\n",
    "    plt.xlabel('Time (s)')\n",
    "    plt.xlim(0.9, 1.2)\n",
    "    plt.grid()\n",
    "    plt.legend(loc='lower right')\n",
    "    plt.show()\n",
    "    \n",
    "    #calculate RMSE\n",
    "    ts_dpsim_SP_real = TimeSeries(variable_SP, ts_dpsim_SP_shift[idx][variable_SP].time, np.sqrt(2/3) * ts_dpsim_SP_shift[idx][variable_SP].values.real)\n",
    "    rmse_emt = ts_dpsim_SP_real.rmse(ts_dpsim_SP_real.interpolate(common_time), ts_dpsim_EMT[idx][variable_EMT].interpolate(common_time))\n",
    "    nom_value = abs(max(ts_dpsim_SP_shift[idx][variable_SP].values[0:int(0.5/common_time)]))\n",
    "    print('RMSE EMT = {:.6f} (pu), which is {:.3f}% of the nominal value = {:.3f} (pu) '.format(rmse_emt, rmse_emt/nom_value*100, nom_value))\n",
    "    \n",
    "    ts_dpsim_DP_real = TimeSeries(variable_DP, ts_dpsim_DP_shift[idx][variable_DP].time, np.sqrt(2/3) * ts_dpsim_DP_shift[idx][variable_DP].values.real)\n",
    "    rmse_dp = ts_dpsim_SP_real.rmse(ts_dpsim_SP_real.interpolate(common_time), ts_dpsim_DP_real.interpolate(common_time))\n",
    "    print('RMSE DP = {:.6f} (pu), which is {:.3f}% of the nominal value = {:.3f} (pu) '.format(rmse_dp, rmse_dp/nom_value*100, nom_value))\n",
    "    \n",
    "    return (rmse_emt/nom_value*100, rmse_dp/nom_value*100)\n",
    "\n",
    "def plot_elecVar2(SGOrder, variable_EMT, variable_SP, variable_DP, ylabel):\n",
    "    if SGOrder==3:\n",
    "        idx=0\n",
    "    if SGOrder==4:\n",
    "        idx=1\n",
    "    if SGOrder==6:\n",
    "        # Marconato's model\n",
    "        idx=2\n",
    "    if SGOrder==7:\n",
    "        # Anderson's model\n",
    "        idx=3\n",
    "    \n",
    "    time = ts_dpsim_EMT[idx][variable_EMT].interpolate(common_time).time[roi]\n",
    "    values_emt = ts_dpsim_EMT[idx][variable_EMT].interpolate(common_time).values[roi]\n",
    "    values_sp = ts_dpsim_SP[idx][variable_SP].interpolate(common_time).values[roi]\n",
    "    values_dp = ts_dpsim_DP[idx][variable_DP].interpolate(common_time).values[roi] \n",
    "        \n",
    "    fig = plt.figure(figsize=(width, height))\n",
    "    plt.plot(time, values_emt, label='EMT', linestyle=linestyle_EMT, color=color_EMT, linewidth=3)    \n",
    "    plt.plot(time, values_sp, label='SP',  color=color_SP, linestyle=linestyle_SP,  linewidth=3) \n",
    "    plt.plot(time, values_dp, label='DP',  color=color_DP, linestyle=linestyle_DP, linewidth=3) \n",
    "    plt.ylabel(ylabel)\n",
    "    plt.xlabel('Time (s)')\n",
    "    plt.xlim(0.9, 4.5)\n",
    "    plt.grid()\n",
    "    plt.legend(loc='lower right')\n",
    "    plt.show()\n",
    "    \n",
    "    #calculate RMSE\n",
    "    ts_dpsim_SP_real = TimeSeries(variable_SP, ts_dpsim_SP[idx][variable_SP].time, ts_dpsim_SP[idx][variable_SP].values.real)\n",
    "    rmse_emt = ts_dpsim_SP_real.rmse(ts_dpsim_SP_real.interpolate(common_time), ts_dpsim_EMT[idx][variable_EMT].interpolate(common_time))\n",
    "    nom_value = abs(max(ts_dpsim_SP[idx][variable_SP].values[0:int(0.5/common_time)]))\n",
    "    print('RMSE EMT = {:.6f} (pu), which is {:.3f}% of the nominal value = {:.3f} (pu) '.format(rmse_emt, rmse_emt/nom_value*100, nom_value))\n",
    "    \n",
    "    ts_dpsim_DP_real = TimeSeries(variable_DP, ts_dpsim_DP[idx][variable_DP].time, ts_dpsim_DP[idx][variable_DP].values.real)\n",
    "    rmse_dp = ts_dpsim_SP_real.rmse(ts_dpsim_SP_real.interpolate(common_time), ts_dpsim_DP_real.interpolate(common_time))\n",
    "    print('RMSE DP = {:.6f} (pu), which is {:.3f}% of the nominal value = {:.3f} (pu) '.format(rmse_dp, rmse_dp/nom_value*100, nom_value))\n",
    "    \n",
    "    return (rmse_emt/nom_value*100, rmse_dp/nom_value*100)"
   ]
  },
  {
   "cell_type": "markdown",
   "metadata": {},
   "source": [
    "### Electrical torque"
   ]
  },
  {
   "cell_type": "markdown",
   "metadata": {},
   "source": [
    "#### 3th order SG"
   ]
  },
  {
   "cell_type": "code",
   "execution_count": null,
   "metadata": {},
   "outputs": [],
   "source": [
    "rmse_emt_3order, rmse_dp_3order = plot_mechVar(3, \"Te\", \"Electrical torque (p.u)\")"
   ]
  },
  {
   "cell_type": "markdown",
   "metadata": {},
   "source": [
    "#### 4th order SG"
   ]
  },
  {
   "cell_type": "code",
   "execution_count": null,
   "metadata": {},
   "outputs": [],
   "source": [
    "rmse_emt_4order, rmse_dp_4order = plot_mechVar(4, \"Te\", \"Electrical torque (p.u)\")"
   ]
  },
  {
   "cell_type": "markdown",
   "metadata": {},
   "source": [
    "#### 6th order SG (Marconato's model)"
   ]
  },
  {
   "cell_type": "code",
   "execution_count": null,
   "metadata": {},
   "outputs": [],
   "source": [
    "rmse_emt_6aorder, rmse_dp_6aorder = plot_mechVar(6, \"Te\", \"Electrical torque (p.u)\")"
   ]
  },
  {
   "cell_type": "markdown",
   "metadata": {},
   "source": [
    "#### 6th order SG (Anderson-Fouad's model)"
   ]
  },
  {
   "cell_type": "code",
   "execution_count": null,
   "metadata": {},
   "outputs": [],
   "source": [
    "rmse_emt_6border, rmse_dp_6border = plot_mechVar(7, \"Te\", \"Electrical torque (p.u)\")"
   ]
  },
  {
   "cell_type": "markdown",
   "metadata": {},
   "source": [
    "### Assert"
   ]
  },
  {
   "cell_type": "code",
   "execution_count": null,
   "metadata": {},
   "outputs": [],
   "source": [
    "tol = 0.001 # %\n",
    "\n",
    "assert(rmse_emt_3order<tol)\n",
    "assert(rmse_emt_4order<tol)\n",
    "assert(rmse_emt_6aorder<tol)\n",
    "assert(rmse_emt_6border<tol)\n",
    "assert(rmse_dp_3order<tol)\n",
    "assert(rmse_dp_4order<tol)\n",
    "assert(rmse_dp_6aorder<tol)\n",
    "assert(rmse_emt_6border<tol)"
   ]
  },
  {
   "cell_type": "markdown",
   "metadata": {},
   "source": [
    "### Generator current"
   ]
  },
  {
   "cell_type": "markdown",
   "metadata": {},
   "source": [
    "#### 3th order SG"
   ]
  },
  {
   "cell_type": "code",
   "execution_count": null,
   "metadata": {},
   "outputs": [],
   "source": [
    "rmse_emt_3order, rmse_dp_3order = plot_elecVar(3, 'i_gen_0', 'i_gen_shift', 'i_gen_shift', 'Current (A)')"
   ]
  },
  {
   "cell_type": "markdown",
   "metadata": {},
   "source": [
    "#### 4th order SG"
   ]
  },
  {
   "cell_type": "code",
   "execution_count": null,
   "metadata": {},
   "outputs": [],
   "source": [
    "rmse_emt_4order, rmse_dp_4order = plot_elecVar(4, 'i_gen_0', 'i_gen_shift', 'i_gen_shift', 'Current (A)')"
   ]
  },
  {
   "cell_type": "markdown",
   "metadata": {},
   "source": [
    "#### 6th order SG (Marconato's model)"
   ]
  },
  {
   "cell_type": "code",
   "execution_count": null,
   "metadata": {},
   "outputs": [],
   "source": [
    "rmse_emt_6aorder, rmse_dp_6aorder = plot_elecVar(6, 'i_gen_0', 'i_gen_shift', 'i_gen_shift', 'Current (A)')"
   ]
  },
  {
   "cell_type": "markdown",
   "metadata": {},
   "source": [
    "#### 6th order SG (Andeson-Fouad's model)"
   ]
  },
  {
   "cell_type": "code",
   "execution_count": null,
   "metadata": {},
   "outputs": [],
   "source": [
    "rmse_emt_6border, rmse_dp_6aorder = plot_elecVar(7, 'i_gen_0', 'i_gen_shift', 'i_gen_shift', 'Current (A)')"
   ]
  },
  {
   "cell_type": "markdown",
   "metadata": {},
   "source": [
    "### Assert"
   ]
  },
  {
   "cell_type": "code",
   "execution_count": null,
   "metadata": {},
   "outputs": [],
   "source": [
    "tol = 0.001 # %\n",
    "\n",
    "assert(rmse_emt_3order<tol)\n",
    "assert(rmse_emt_4order<tol)\n",
    "assert(rmse_emt_6aorder<tol)\n",
    "assert(rmse_emt_6border<tol)\n",
    "assert(rmse_dp_3order<tol)\n",
    "assert(rmse_dp_4order<tol)\n",
    "assert(rmse_dp_6aorder<tol)\n",
    "assert(rmse_dp_6border<tol)"
   ]
  },
  {
   "cell_type": "markdown",
   "metadata": {},
   "source": [
    "### Generator voltage"
   ]
  },
  {
   "cell_type": "markdown",
   "metadata": {},
   "source": [
    "#### 3th order SG"
   ]
  },
  {
   "cell_type": "code",
   "execution_count": null,
   "metadata": {},
   "outputs": [],
   "source": [
    "rmse_emt_3order, rmse_dp_3order = plot_elecVar(3, 'v_gen_0', 'v_gen_shift', 'v_gen_shift', 'Voltage (V)')"
   ]
  },
  {
   "cell_type": "markdown",
   "metadata": {},
   "source": [
    "#### 4th order SG"
   ]
  },
  {
   "cell_type": "code",
   "execution_count": null,
   "metadata": {},
   "outputs": [],
   "source": [
    "rmse_emt_4order, rmse_dp_4order = plot_elecVar(4, 'v_gen_0', 'v_gen_shift', 'v_gen_shift', 'Voltage (V)')"
   ]
  },
  {
   "cell_type": "markdown",
   "metadata": {},
   "source": [
    "#### 6th order SG (Marconato's model)"
   ]
  },
  {
   "cell_type": "code",
   "execution_count": null,
   "metadata": {},
   "outputs": [],
   "source": [
    "rmse_emt_6aorder, rmse_dp_6aorder = plot_elecVar(6, 'v_gen_0', 'v_gen_shift', 'v_gen_shift', 'Voltage (V)')"
   ]
  },
  {
   "cell_type": "markdown",
   "metadata": {},
   "source": [
    "#### 6th order SG (Anderson-Fouad's model)"
   ]
  },
  {
   "cell_type": "code",
   "execution_count": null,
   "metadata": {},
   "outputs": [],
   "source": [
    "rmse_emt_6border, rmse_dp_6border = plot_elecVar(7, 'v_gen_0', 'v_gen_shift', 'v_gen_shift', 'Voltage (V)')"
   ]
  },
  {
   "cell_type": "markdown",
   "metadata": {},
   "source": [
    "### Exciter output (Ef)"
   ]
  },
  {
   "cell_type": "markdown",
   "metadata": {},
   "source": [
    "#### 3th order SG"
   ]
  },
  {
   "cell_type": "code",
   "execution_count": null,
   "metadata": {},
   "outputs": [],
   "source": [
    "rmse_emt_3order, rmse_dp_3order = plot_elecVar2(3, 'Ef', 'Ef', 'Ef', 'EMF (p.u.)')"
   ]
  },
  {
   "cell_type": "markdown",
   "metadata": {},
   "source": [
    "#### 4th order SG"
   ]
  },
  {
   "cell_type": "code",
   "execution_count": null,
   "metadata": {},
   "outputs": [],
   "source": [
    "rmse_emt_3order, rmse_dp_3order = plot_elecVar2(4, 'Ef', 'Ef', 'Ef', 'EMF (p.u.)')"
   ]
  },
  {
   "cell_type": "markdown",
   "metadata": {},
   "source": [
    "#### 6th order SG (Marconato's model)"
   ]
  },
  {
   "cell_type": "code",
   "execution_count": null,
   "metadata": {},
   "outputs": [],
   "source": [
    "rmse_emt_6aorder, rmse_dp_6aorder = plot_elecVar2(6, 'Ef', 'Ef', 'Ef', 'EMF (p.u.)')"
   ]
  },
  {
   "cell_type": "markdown",
   "metadata": {},
   "source": [
    "#### 6th order SG (Anderson-Fouad's model)"
   ]
  },
  {
   "cell_type": "code",
   "execution_count": null,
   "metadata": {},
   "outputs": [],
   "source": [
    "rmse_emt_6border, rmse_dp_6border = plot_elecVar2(7, 'Ef', 'Ef', 'Ef', 'EMF (p.u.)')"
   ]
  },
  {
   "cell_type": "markdown",
   "metadata": {},
   "source": [
    "### Assert"
   ]
  },
  {
   "cell_type": "code",
   "execution_count": null,
   "metadata": {},
   "outputs": [],
   "source": [
    "tol = 0.001 # %\n",
    "\n",
    "assert(rmse_emt_3order<tol)\n",
    "assert(rmse_emt_4order<tol)\n",
    "assert(rmse_emt_6aorder<tol)\n",
    "assert(rmse_emt_6border<tol)\n",
    "assert(rmse_dp_3order<tol)\n",
    "assert(rmse_dp_4order<tol)\n",
    "assert(rmse_dp_6aorder<tol)\n",
    "assert(rmse_dp_6border<tol)"
   ]
  },
  {
   "cell_type": "markdown",
   "metadata": {},
   "source": [
    "## Run C++ examples with Governor"
   ]
  },
  {
   "cell_type": "code",
   "execution_count": null,
   "metadata": {},
   "outputs": [],
   "source": [
    "import os\n",
    "import subprocess\n",
    "\n",
    "#%matplotlib widget\n",
    "\n",
    "name = ['SP_ReducedOrderSG_VBR_Load_Fault', 'DP_ReducedOrderSG_VBR_Load_Fault', 'EMT_ReducedOrderSG_VBR_Load_Fault']\n",
    "options = ['SGModel=3', 'SGModel=4', 'SGModel=6a', 'SGModel=6b']\n",
    "\n",
    "dpsim_path = subprocess.Popen(['git', 'rev-parse', '--show-toplevel'], stdout=subprocess.PIPE).communicate()[0].rstrip().decode('utf-8')\n",
    "\n",
    "path_exec = dpsim_path + '/build/dpsim/examples/cxx/'\n",
    "for i in range(len(name)):\n",
    "    for j in range (len(options)):\n",
    "        sim = subprocess.Popen([path_exec + name[i], '-o', options[j], '-o', 'WithTurbineGovernor=true'], stdout=subprocess.PIPE, stderr=subprocess.STDOUT)\n",
    "        print(sim.communicate()[0].decode())"
   ]
  },
  {
   "cell_type": "markdown",
   "metadata": {},
   "source": [
    "### Load Results"
   ]
  },
  {
   "cell_type": "code",
   "execution_count": null,
   "metadata": {},
   "outputs": [],
   "source": [
    "from villas.dataprocessing.readtools import *\n",
    "from villas.dataprocessing.timeseries import *\n",
    "from villas.dataprocessing.timeseries import TimeSeries as ts\n",
    "import matplotlib.pyplot as plt\n",
    "import re\n",
    "import numpy as np\n",
    "import math\n",
    "import os\n",
    "\n",
    "work_dir = os.getcwd() + \"/logs/\"\n",
    "file_name_3Order = 'SynGen3Order_VBR_Load_Fault'\n",
    "file_name_4Order = 'SynGen4Order_VBR_Load_Fault'\n",
    "file_name_6aOrder = 'SynGen6aOrder_VBR_Load_Fault'\n",
    "file_name_6bOrder = 'SynGen6bOrder_VBR_Load_Fault'\n",
    "\n",
    "ts_dpsim_SP = []\n",
    "ts_dpsim_SP_shift = []\n",
    "ts_dpsim_DP = []\n",
    "ts_dpsim_DP_shift = []\n",
    "ts_dpsim_EMT = []\n",
    "file_names = [file_name_3Order, file_name_4Order, file_name_6aOrder, file_name_6bOrder]\n",
    "for i in range(len(file_names)):\n",
    "    path_logfile = work_dir + \"SP_\" + file_names[i] + \"/\" + \"SP_\" + file_names[i] + \".csv\"\n",
    "    ts_dpsim_SP.append(read_timeseries_dpsim(path_logfile))\n",
    "    ts_dpsim_SP_shift.append(ts.frequency_shift_list(ts_dpsim_SP[i], 60))\n",
    "    \n",
    "    path_logfile = work_dir + \"DP_\" + file_names[i] + \"/\" + \"DP_\" + file_names[i] + \".csv\"\n",
    "    ts_dpsim_DP.append(read_timeseries_dpsim(path_logfile))\n",
    "    ts_dpsim_DP_shift.append(ts.frequency_shift_list(ts_dpsim_DP[i], 60))\n",
    "    \n",
    "    path_logfile = work_dir + \"EMT_\" + file_names[i] + \"/\" + \"EMT_\" + file_names[i] + \".csv\"\n",
    "    ts_dpsim_EMT.append(read_timeseries_dpsim(path_logfile))"
   ]
  },
  {
   "cell_type": "markdown",
   "metadata": {},
   "source": [
    "### Electrical torque"
   ]
  },
  {
   "cell_type": "markdown",
   "metadata": {},
   "source": [
    "#### 3th order SG"
   ]
  },
  {
   "cell_type": "code",
   "execution_count": null,
   "metadata": {},
   "outputs": [],
   "source": [
    "rmse_emt_3order, rmse_dp_3order = plot_mechVar(3, \"Te\", \"Electrical torque (p.u)\")"
   ]
  },
  {
   "cell_type": "markdown",
   "metadata": {},
   "source": [
    "#### 4th order SG"
   ]
  },
  {
   "cell_type": "code",
   "execution_count": null,
   "metadata": {},
   "outputs": [],
   "source": [
    "rmse_emt_4order, rmse_dp_4order = plot_mechVar(4, \"Te\", \"Electrical torque (p.u)\")"
   ]
  },
  {
   "cell_type": "markdown",
   "metadata": {},
   "source": [
    "#### 6th order SG (Marconato's model)"
   ]
  },
  {
   "cell_type": "code",
   "execution_count": null,
   "metadata": {},
   "outputs": [],
   "source": [
    "rmse_emt_6aorder, rmse_dp_6aorder = plot_mechVar(6, \"Te\", \"Electrical torque (p.u)\")"
   ]
  },
  {
   "cell_type": "markdown",
   "metadata": {},
   "source": [
    "#### 6th order SG (Andeson-Fouad's model)"
   ]
  },
  {
   "cell_type": "code",
   "execution_count": null,
   "metadata": {},
   "outputs": [],
   "source": [
    "rmse_emt_6border, rmse_dp_6border = plot_mechVar(7, \"Te\", \"Electrical torque (p.u)\")"
   ]
  },
  {
   "cell_type": "markdown",
   "metadata": {},
   "source": [
    "### Assert"
   ]
  },
  {
   "cell_type": "code",
   "execution_count": null,
   "metadata": {},
   "outputs": [],
   "source": [
    "tol = 0.001 # %\n",
    "\n",
    "assert(rmse_emt_3order<tol)\n",
    "assert(rmse_emt_4order<tol)\n",
    "assert(rmse_emt_6aorder<tol)\n",
    "assert(rmse_emt_6border<tol)\n",
    "assert(rmse_dp_3order<tol)\n",
    "assert(rmse_dp_4order<tol)\n",
    "assert(rmse_dp_6aorder<tol)\n",
    "assert(rmse_dp_6border<tol)"
   ]
  },
  {
   "cell_type": "markdown",
   "metadata": {},
   "source": [
    "### Generator current"
   ]
  },
  {
   "cell_type": "markdown",
   "metadata": {},
   "source": [
    "#### 3th order SG"
   ]
  },
  {
   "cell_type": "code",
   "execution_count": null,
   "metadata": {},
   "outputs": [],
   "source": [
    "rmse_emt_3order, rmse_dp_3order = plot_elecVar(3, 'i_gen_0', 'i_gen_shift', 'i_gen_shift', 'Current (A)')"
   ]
  },
  {
   "cell_type": "markdown",
   "metadata": {},
   "source": [
    "#### 4th order SG"
   ]
  },
  {
   "cell_type": "code",
   "execution_count": null,
   "metadata": {},
   "outputs": [],
   "source": [
    "rmse_emt_4order, rmse_dp_4order = plot_elecVar(4, 'i_gen_0', 'i_gen_shift', 'i_gen_shift', 'Current (A)')"
   ]
  },
  {
   "cell_type": "markdown",
   "metadata": {},
   "source": [
    "#### 6th order SG (Marconato's model)"
   ]
  },
  {
   "cell_type": "code",
   "execution_count": null,
   "metadata": {},
   "outputs": [],
   "source": [
    "rmse_emt_6aorder, rmse_dp_6aorder = plot_elecVar(6, 'i_gen_0', 'i_gen_shift', 'i_gen_shift', 'Current (A)')"
   ]
  },
  {
   "cell_type": "markdown",
   "metadata": {},
   "source": [
    "#### 6th order SG (Andeson-Fouad's model)"
   ]
  },
  {
   "cell_type": "code",
   "execution_count": null,
   "metadata": {},
   "outputs": [],
   "source": [
    "rmse_emt_6border, rmse_dp_6border = plot_elecVar(7, 'i_gen_0', 'i_gen_shift', 'i_gen_shift', 'Current (A)')"
   ]
  },
  {
   "cell_type": "markdown",
   "metadata": {},
   "source": [
    "### Assert"
   ]
  },
  {
   "cell_type": "code",
   "execution_count": null,
   "metadata": {},
   "outputs": [],
   "source": [
    "tol = 0.001 # %\n",
    "\n",
    "assert(rmse_emt_3order<tol)\n",
    "assert(rmse_emt_4order<tol)\n",
    "assert(rmse_emt_6aorder<tol)\n",
    "assert(rmse_emt_6border<tol)\n",
    "assert(rmse_dp_3order<tol)\n",
    "assert(rmse_dp_4order<tol)\n",
    "assert(rmse_dp_6aorder<tol)\n",
    "assert(rmse_dp_6border<tol)"
   ]
  },
  {
   "cell_type": "markdown",
   "metadata": {},
   "source": [
    "### Generator voltage"
   ]
  },
  {
   "cell_type": "markdown",
   "metadata": {},
   "source": [
    "#### 3th order SG"
   ]
  },
  {
   "cell_type": "code",
   "execution_count": null,
   "metadata": {},
   "outputs": [],
   "source": [
    "rmse_emt_3order, rmse_dp_3order = plot_elecVar(3, 'v_gen_0', 'v_gen_shift', 'v_gen_shift', 'Voltage (V)')"
   ]
  },
  {
   "cell_type": "markdown",
   "metadata": {},
   "source": [
    "#### 4th order SG"
   ]
  },
  {
   "cell_type": "code",
   "execution_count": null,
   "metadata": {},
   "outputs": [],
   "source": [
    "rmse_emt_4order, rmse_dp_4order = plot_elecVar(4, 'v_gen_0', 'v_gen_shift', 'v_gen_shift', 'Voltage (V)')"
   ]
  },
  {
   "cell_type": "markdown",
   "metadata": {},
   "source": [
    "#### 6th order SG (Marconato's model)"
   ]
  },
  {
   "cell_type": "code",
   "execution_count": null,
   "metadata": {},
   "outputs": [],
   "source": [
    "rmse_emt_6aorder, rmse_dp_6aorder = plot_elecVar(6, 'v_gen_0', 'v_gen_shift', 'v_gen_shift', 'Voltage (V)')"
   ]
  },
  {
   "cell_type": "markdown",
   "metadata": {},
   "source": [
    "#### 6th order SG (Andeson-Fouad's model)"
   ]
  },
  {
   "cell_type": "code",
   "execution_count": null,
   "metadata": {},
   "outputs": [],
   "source": [
    "rmse_emt_6border, rmse_dp_6border = plot_elecVar(6, 'v_gen_0', 'v_gen_shift', 'v_gen_shift', 'Voltage (V)')"
   ]
  },
  {
   "cell_type": "markdown",
   "metadata": {},
   "source": [
    "### Governor output (Tm)"
   ]
  },
  {
   "cell_type": "markdown",
   "metadata": {},
   "source": [
    "#### 3th order SG"
   ]
  },
  {
   "cell_type": "code",
   "execution_count": null,
   "metadata": {},
   "outputs": [],
   "source": [
    "rmse_emt_3order, rmse_dp_3order = plot_mechVar(3, \"Tm\", \"Mechanical torque (p.u)\")"
   ]
  },
  {
   "cell_type": "markdown",
   "metadata": {},
   "source": [
    "#### 4th order SG"
   ]
  },
  {
   "cell_type": "code",
   "execution_count": null,
   "metadata": {},
   "outputs": [],
   "source": [
    "rmse_emt_4order, rmse_dp_4order = plot_mechVar(4, \"Tm\", \"Mechanical torque (p.u)\")"
   ]
  },
  {
   "cell_type": "markdown",
   "metadata": {},
   "source": [
    "#### 6th order SG (Marconato's model)"
   ]
  },
  {
   "cell_type": "code",
   "execution_count": null,
   "metadata": {},
   "outputs": [],
   "source": [
    "rmse_emt_6aorder, rmse_dp_6aorder = plot_mechVar(6, \"Tm\", \"Mechanical torque (p.u)\")"
   ]
  },
  {
   "cell_type": "markdown",
   "metadata": {},
   "source": [
    "#### 6th order SG (Andeson-Fouad's model)"
   ]
  },
  {
   "cell_type": "code",
   "execution_count": null,
   "metadata": {},
   "outputs": [],
   "source": [
    "rmse_emt_6border, rmse_dp_6border = plot_mechVar(4, \"Tm\", \"Mechanical torque (p.u)\")"
   ]
  },
  {
   "cell_type": "markdown",
   "metadata": {},
   "source": [
    "### Assert"
   ]
  },
  {
   "cell_type": "code",
   "execution_count": null,
   "metadata": {},
   "outputs": [],
   "source": [
    "tol = 0.001 # %\n",
    "\n",
    "assert(rmse_emt_3order<tol)\n",
    "assert(rmse_emt_4order<tol)\n",
    "assert(rmse_emt_6aorder<tol)\n",
    "assert(rmse_emt_6border<tol)\n",
    "assert(rmse_dp_3order<tol)\n",
    "assert(rmse_dp_4order<tol)\n",
    "assert(rmse_dp_6aorder<tol)\n",
    "assert(rmse_dp_6border<tol)"
   ]
  }
 ],
 "metadata": {
  "kernelspec": {
   "display_name": "Python 3.9.10 64-bit",
   "language": "python",
   "name": "python3"
  },
  "language_info": {
   "codemirror_mode": {
    "name": "ipython",
    "version": 3
   },
   "file_extension": ".py",
   "mimetype": "text/x-python",
   "name": "python",
   "nbconvert_exporter": "python",
   "pygments_lexer": "ipython3",
   "version": "3.9.10"
  },
  "tests": {
   "skip": false
  },
  "vscode": {
   "interpreter": {
    "hash": "e7370f93d1d0cde622a1f8e1c04877d8463912d04d973331ad4851f04de6915a"
   }
  }
 },
 "nbformat": 4,
 "nbformat_minor": 4
}
