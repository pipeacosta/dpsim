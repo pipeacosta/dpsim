{
 "cells": [
  {
   "cell_type": "markdown",
   "source": [
    "# SMIB Fault SP vs DP"
   ],
   "metadata": {}
  },
  {
   "cell_type": "code",
   "execution_count": null,
   "source": [
    "import villas.dataprocessing.readtools as rt\n",
    "from villas.dataprocessing.timeseries import TimeSeries as ts\n",
    "import matplotlib.pyplot as plt\n",
    "import re\n",
    "import numpy as np\n",
    "import math\n",
    "import os\n",
    "import dpsimpy\n",
    "\n",
    "#%matplotlib widget"
   ],
   "outputs": [],
   "metadata": {}
  },
  {
   "cell_type": "markdown",
   "source": [
    "## DP Simulation"
   ],
   "metadata": {}
  },
  {
   "cell_type": "markdown",
   "source": [
    "### Parametrization"
   ],
   "metadata": {}
  },
  {
   "cell_type": "code",
   "execution_count": null,
   "source": [
    "# Power System\n",
    "V_nom = 230e3\n",
    "\n",
    "# Generator\n",
    "nom_power = 500e6\n",
    "nom_ph_ph_volt_RMS = 22e3\n",
    "nom_freq = 60\n",
    "nom_omega = nom_freq * 2 * math.pi\n",
    "H = 5\n",
    "Xpd = 0.31\n",
    "Rs = 0.003 * 0\n",
    "D=1.5\n",
    "\n",
    "# Initialization parameters\n",
    "init_mech_power = 300e6\n",
    "init_active_power = 300e6\n",
    "set_point_voltage = nom_ph_ph_volt_RMS * 1.05\n",
    "\n",
    "# Transformer\n",
    "t_ratio = V_nom / nom_ph_ph_volt_RMS\n",
    "\n",
    "# PiLine parameters calculated from CIGRE Benchmark system\n",
    "line_length = 100\n",
    "line_resistance = 1.27e-4 * 529 * line_length\n",
    "line_inductance = 9.05e-4 * 529 / nom_omega * line_length\n",
    "line_capacitance = (1.81e-3 / 529) / nom_omega * line_length\n",
    "line_conductance = 0\n",
    "\n",
    "# Switch to trigger fault at generator terminal\n",
    "switch_open = 1e6\n",
    "switch_closed = 0.1\n",
    "\n",
    "# Simulation parameters\n",
    "sim_name = \"DP_SynGenTrStab_SMIB_Fault\"\n",
    "final_time = 30\n",
    "time_step = 0.001\n",
    "start_fault_event = True\n",
    "end_fault_event = True\n",
    "start_time_fault = 10\n",
    "end_time_fault = 10.2\n",
    "cmd_Inertia = 1.0\n",
    "cmd_Damping = 1.0"
   ],
   "outputs": [],
   "metadata": {}
  },
  {
   "cell_type": "markdown",
   "source": [
    "### Powerflow for Initialization"
   ],
   "metadata": {}
  },
  {
   "cell_type": "code",
   "execution_count": null,
   "source": [
    "sim_name_pf = sim_name + \"_PF\"\n",
    "dpsimpy.Logger.set_log_dir(\"logs/\" + sim_name_pf)\n",
    "time_step_pf = final_time\n",
    "final_time_pf = final_time + time_step_pf\n",
    "\n",
    "# Components\n",
    "n1_pf = dpsimpy.sp.SimNode(\"n1\", dpsimpy.PhaseType.Single)\n",
    "n2_pf = dpsimpy.sp.SimNode(\"n2\", dpsimpy.PhaseType.Single)\n",
    "\n",
    "# Synchronous generator ideal model\n",
    "gen_pf = dpsimpy.sp.ph1.SynchronGenerator(\"Generator\", dpsimpy.LogLevel.debug)\n",
    "gen_pf.set_parameters(rated_apparent_power=nom_power, rated_voltage=nom_ph_ph_volt_RMS,\n",
    "                        set_point_active_power=init_active_power,\n",
    "                        set_point_voltage=set_point_voltage*t_ratio,\n",
    "                        powerflow_bus_type=dpsimpy.PowerflowBusType.PV)\n",
    "gen_pf.set_base_voltage(V_nom)\n",
    "gen_pf.modify_power_flow_bus_type(dpsimpy.PowerflowBusType.PV)\n",
    "\n",
    "# Grid bus as Slack\n",
    "extnet_pf = dpsimpy.sp.ph1.NetworkInjection(\"Slack\", dpsimpy.LogLevel.debug)\n",
    "extnet_pf.set_parameters(V_nom)\n",
    "extnet_pf.set_base_voltage(V_nom)\n",
    "extnet_pf.modify_power_flow_bus_type(dpsimpy.PowerflowBusType.VD)\n",
    "\n",
    "# Line\n",
    "line_pf = dpsimpy.sp.ph1.PiLine(\"PiLine\", dpsimpy.LogLevel.debug)\n",
    "line_pf.set_parameters(line_resistance, line_inductance, line_capacitance, line_conductance)\n",
    "line_pf.set_base_voltage(V_nom)\n",
    "\n",
    "# Switch\n",
    "fault_pf = dpsimpy.sp.ph1.Switch(\"Br_fault\", dpsimpy.LogLevel.debug)\n",
    "fault_pf.set_parameters(switch_open, switch_closed)\n",
    "fault_pf.open()\n",
    "\n",
    "# Topology\n",
    "gen_pf.connect([n1_pf])\n",
    "fault_pf.connect([dpsimpy.sp.SimNode.gnd, n1_pf])\n",
    "line_pf.connect([n1_pf, n2_pf])\n",
    "extnet_pf.connect([n2_pf])\n",
    "system_pf = dpsimpy.SystemTopology(nom_freq, [n1_pf, n2_pf], [gen_pf, line_pf, extnet_pf, fault_pf])\n",
    "\n",
    "# Logging\n",
    "logger_pf = dpsimpy.Logger(sim_name_pf)\n",
    "logger_pf.log_attribute(\"v1\", \"v\", n1_pf)\n",
    "logger_pf.log_attribute(\"v2\", \"v\", n2_pf)\n",
    "\n",
    "# Simulation\n",
    "sim_pf = dpsimpy.Simulation(sim_name_pf, dpsimpy.LogLevel.debug)\n",
    "sim_pf.set_system(system_pf)\n",
    "sim_pf.set_time_step(time_step_pf)\n",
    "sim_pf.set_final_time(final_time_pf)\n",
    "sim_pf.set_domain(dpsimpy.Domain.SP)\n",
    "sim_pf.set_solver(dpsimpy.Solver.NRP)\n",
    "sim_pf.set_solver_component_behaviour(dpsimpy.SolverBehaviour.Initialization)\n",
    "sim_pf.do_init_from_nodes_and_terminals(False)\n",
    "sim_pf.add_logger(logger_pf)\n",
    "sim_pf.run()"
   ],
   "outputs": [],
   "metadata": {}
  },
  {
   "cell_type": "markdown",
   "source": [
    "### Dynamic simulation"
   ],
   "metadata": {}
  },
  {
   "cell_type": "code",
   "execution_count": null,
   "source": [
    "sim_name_dp = sim_name + \"_DP\" \n",
    "dpsimpy.Logger.set_log_dir(\"logs/\"+sim_name_dp)\n",
    "\n",
    "# Nodes\n",
    "n1_dp = dpsimpy.dp.SimNode(\"n1\", dpsimpy.PhaseType.Single)\n",
    "n2_dp = dpsimpy.dp.SimNode(\"n2\", dpsimpy.PhaseType.Single)\n",
    "\n",
    "# Components\n",
    "gen_dp = dpsimpy.dp.ph1.SynchronGeneratorTrStab(\"SynGen\", dpsimpy.LogLevel.debug)\n",
    "# Xpd is given in p.u of generator base at transfomer primary side and should be transformed to network side\n",
    "gen_dp.set_standard_parameters_PU(\n",
    "    nom_power=nom_power, nom_volt = nom_ph_ph_volt_RMS, nom_freq=nom_freq,\n",
    "    Xpd = Xpd*t_ratio**2, inertia=cmd_Inertia*H, Rs=Rs, D=cmd_Damping*D)\n",
    "\n",
    "init_apparent_power = gen_pf.get_apparent_power()\n",
    "gen_dp.set_initial_values(init_apparent_power, init_mech_power)\n",
    "\n",
    "# Grid bus as Slack\n",
    "extnet_dp = dpsimpy.dp.ph1.NetworkInjection(\"Slack\", dpsimpy.LogLevel.debug)\n",
    "extnet_dp.set_parameters(V_nom)\n",
    "\n",
    "# Line\n",
    "line_dp = dpsimpy.dp.ph1.PiLine(\"PiLine\", dpsimpy.LogLevel.debug)\n",
    "line_dp.set_parameters(line_resistance, line_inductance, line_capacitance, line_conductance)\n",
    "\n",
    "# Switch\n",
    "fault_dp = dpsimpy.dp.ph1.varResSwitch(\"Br_fault\", dpsimpy.LogLevel.debug)\n",
    "fault_dp.set_parameters(switch_open, switch_closed)\n",
    "fault_dp.set_init_parameters(time_step)\n",
    "fault_dp.open()\n",
    "\n",
    "# Topology\n",
    "gen_dp.connect([n1_dp])\n",
    "line_dp.connect([n1_dp, n2_dp])\n",
    "extnet_dp.connect([n2_dp])\n",
    "fault_dp.connect([dpsimpy.dp.SimNode.gnd, n1_dp])\n",
    "system_dp = dpsimpy.SystemTopology(nom_freq, [n1_dp, n2_dp], [gen_dp, line_dp, fault_dp, extnet_dp])\n",
    "\n",
    "\n",
    "# Initialization of dynamic topology\n",
    "system_dp.init_with_powerflow(system_pf)\n",
    "\n",
    "# Logging\n",
    "logger_dp = dpsimpy.Logger(sim_name_dp)\n",
    "logger_dp.log_attribute(\"v1\", \"v\", n1_dp)\n",
    "logger_dp.log_attribute(\"v2\", \"v\", n2_dp)\n",
    "\n",
    "logger_dp.log_attribute(\"v_line\", \"v_intf\", line_dp)\n",
    "logger_dp.log_attribute(\"i_line\", \"i_intf\", line_dp)\n",
    "\n",
    "logger_dp.log_attribute(\"v_slack\", \"v_intf\", extnet_dp)\n",
    "logger_dp.log_attribute(\"i_slack\", \"i_intf\", extnet_dp)\n",
    "\n",
    "logger_dp.log_attribute(\"i_fault\", \"i_intf\", fault_dp)\n",
    "\n",
    "logger_dp.log_attribute(\"Ep\", \"Ep\", gen_dp)\n",
    "logger_dp.log_attribute(\"v_gen\", \"v_intf\", gen_dp)\n",
    "logger_dp.log_attribute(\"i_gen\", \"i_intf\", gen_dp)\n",
    "logger_dp.log_attribute(\"wr_gen\", \"w_r\", gen_dp)\n",
    "logger_dp.log_attribute(\"delta_r_gen\", \"delta_r\", gen_dp)\n",
    "logger_dp.log_attribute(\"P_elec\", \"P_elec\", gen_dp)\n",
    "logger_dp.log_attribute(\"P_mech\", \"P_mech\", gen_dp)\n",
    "\n",
    "# Simulation\n",
    "sim_dp = dpsimpy.Simulation(sim_name, dpsimpy.LogLevel.debug)\n",
    "sim_dp.set_system(system_dp)\n",
    "sim_dp.set_time_step(time_step)\n",
    "sim_dp.set_final_time(final_time)\n",
    "sim_dp.set_domain(dpsimpy.Domain.DP)\n",
    "sim_dp.add_logger(logger_dp)\n",
    "sim_dp.do_system_matrix_recomputation(True)\n",
    "sim_dp.set_direct_solver_implementation(dpsimpy.DirectLinearSolverImpl.SparseLU)\n",
    "\n",
    "\n",
    "# Events\n",
    "if start_fault_event:\n",
    "    sw1 = dpsimpy.event.SwitchEvent(start_time_fault, fault_dp, True)\n",
    "    sim_dp.add_event(sw1)\n",
    "    \n",
    "if end_fault_event:\n",
    "    sw2 = dpsimpy.event.SwitchEvent(end_time_fault, fault_dp, False)\n",
    "    sim_dp.add_event(sw2)\n",
    "    \n",
    "sim_dp.run()"
   ],
   "outputs": [],
   "metadata": {}
  },
  {
   "cell_type": "markdown",
   "source": [
    "## SP Simulation"
   ],
   "metadata": {}
  },
  {
   "cell_type": "markdown",
   "source": [
    "### Parametrization"
   ],
   "metadata": {}
  },
  {
   "cell_type": "code",
   "execution_count": null,
   "source": [
    "# Power System\n",
    "V_nom = 230e3\n",
    "\n",
    "# Generator\n",
    "nom_power = 500e6\n",
    "nom_ph_ph_volt_RMS = 22e3\n",
    "nom_freq = 60\n",
    "nom_omega = nom_freq * 2 * math.pi\n",
    "H = 5\n",
    "Xpd = 0.31\n",
    "Rs = 0.003 * 0\n",
    "D=1.5\n",
    "\n",
    "# Initialization parameters\n",
    "init_mech_power = 300e6\n",
    "init_active_power = 300e6\n",
    "set_point_voltage = nom_ph_ph_volt_RMS * 1.05\n",
    "\n",
    "# Transformer\n",
    "t_ratio = V_nom / nom_ph_ph_volt_RMS\n",
    "\n",
    "# PiLine parameters calculated from CIGRE Benchmark system\n",
    "line_length = 100\n",
    "line_resistance = 1.27e-4 * 529 * line_length\n",
    "line_inductance = 9.05e-4 * 529 / nom_omega * line_length\n",
    "line_capacitance = (1.81e-3 / 529) / nom_omega * line_length\n",
    "line_conductance = 0\n",
    "\n",
    "# Switch to trigger fault at generator terminal\n",
    "switch_open = 1e6\n",
    "switch_closed = 0.1\n",
    "\n",
    "# Simulation parameters\n",
    "sim_name = \"SP_SynGenTrStab_SMIB_Fault\"\n",
    "final_time = 30\n",
    "time_step = 0.001\n",
    "start_fault_event = True\n",
    "end_fault_event = True\n",
    "start_time_fault = 10\n",
    "end_time_fault = 10.2\n",
    "cmd_Inertia = 1.0\n",
    "cmd_Damping = 1.0"
   ],
   "outputs": [],
   "metadata": {}
  },
  {
   "cell_type": "markdown",
   "source": [
    "### Powerflow for Initialization"
   ],
   "metadata": {}
  },
  {
   "cell_type": "code",
   "execution_count": null,
   "source": [
    "sim_name_pf = sim_name + \"_PF\"\n",
    "dpsimpy.Logger.set_log_dir(\"logs/\" + sim_name_pf)\n",
    "time_step_pf = final_time\n",
    "final_time_pf = final_time + time_step_pf\n",
    "\n",
    "# Components\n",
    "n1_pf = dpsimpy.sp.SimNode(\"n1\", dpsimpy.PhaseType.Single)\n",
    "n2_pf = dpsimpy.sp.SimNode(\"n2\", dpsimpy.PhaseType.Single)\n",
    "\n",
    "# Synchronous generator ideal model\n",
    "gen_pf = dpsimpy.sp.ph1.SynchronGenerator(\"Generator\", dpsimpy.LogLevel.debug)\n",
    "gen_pf.set_parameters(rated_apparent_power=nom_power, rated_voltage=nom_ph_ph_volt_RMS,\n",
    "                        set_point_active_power=init_active_power,\n",
    "                        set_point_voltage=set_point_voltage*t_ratio,\n",
    "                        powerflow_bus_type=dpsimpy.PowerflowBusType.PV)\n",
    "gen_pf.set_base_voltage(V_nom)\n",
    "gen_pf.modify_power_flow_bus_type(dpsimpy.PowerflowBusType.PV)\n",
    "\n",
    "# Grid bus as Slack\n",
    "extnet_pf = dpsimpy.sp.ph1.NetworkInjection(\"Slack\", dpsimpy.LogLevel.debug)\n",
    "extnet_pf.set_parameters(V_nom)\n",
    "extnet_pf.set_base_voltage(V_nom)\n",
    "extnet_pf.modify_power_flow_bus_type(dpsimpy.PowerflowBusType.VD)\n",
    "\n",
    "# Line\n",
    "line_pf = dpsimpy.sp.ph1.PiLine(\"PiLine\", dpsimpy.LogLevel.debug)\n",
    "line_pf.set_parameters(line_resistance, line_inductance, line_capacitance, line_conductance)\n",
    "line_pf.set_base_voltage(V_nom)\n",
    "\n",
    "# Switch\n",
    "fault_pf = dpsimpy.sp.ph1.Switch(\"Br_fault\", dpsimpy.LogLevel.debug)\n",
    "fault_pf.set_parameters(switch_open, switch_closed)\n",
    "fault_pf.open()\n",
    "\n",
    "# Topology\n",
    "gen_pf.connect([n1_pf])\n",
    "fault_pf.connect([dpsimpy.sp.SimNode.gnd, n1_pf])\n",
    "line_pf.connect([n1_pf, n2_pf])\n",
    "extnet_pf.connect([n2_pf])\n",
    "system_pf = dpsimpy.SystemTopology(nom_freq, [n1_pf, n2_pf], [gen_pf, line_pf, extnet_pf, fault_pf])\n",
    "\n",
    "# Logging\n",
    "logger_pf = dpsimpy.Logger(sim_name_pf)\n",
    "logger_pf.log_attribute(\"v1\", \"v\", n1_pf)\n",
    "logger_pf.log_attribute(\"v2\", \"v\", n2_pf)\n",
    "\n",
    "# Simulation\n",
    "sim_pf = dpsimpy.Simulation(sim_name_pf, dpsimpy.LogLevel.debug)\n",
    "sim_pf.set_system(system_pf)\n",
    "sim_pf.set_time_step(time_step_pf)\n",
    "sim_pf.set_final_time(final_time_pf)\n",
    "sim_pf.set_domain(dpsimpy.Domain.SP)\n",
    "sim_pf.set_solver(dpsimpy.Solver.NRP)\n",
    "sim_pf.set_solver_component_behaviour(dpsimpy.SolverBehaviour.Initialization)\n",
    "sim_pf.do_init_from_nodes_and_terminals(False)\n",
    "sim_pf.add_logger(logger_pf)\n",
    "sim_pf.run()"
   ],
   "outputs": [],
   "metadata": {}
  },
  {
   "cell_type": "markdown",
   "source": [
    "### Dynamic simulation"
   ],
   "metadata": {}
  },
  {
   "cell_type": "code",
   "execution_count": null,
   "source": [
    "sim_name_sp = sim_name + \"_SP\" \n",
    "dpsimpy.Logger.set_log_dir(\"logs/\"+sim_name_sp)\n",
    "\n",
    "# Nodes\n",
    "n1_sp = dpsimpy.sp.SimNode(\"n1\", dpsimpy.PhaseType.Single)\n",
    "n2_sp = dpsimpy.sp.SimNode(\"n2\", dpsimpy.PhaseType.Single)\n",
    "\n",
    "# Components\n",
    "gen_sp = dpsimpy.sp.ph1.SynchronGeneratorTrStab(\"SynGen\", dpsimpy.LogLevel.debug)\n",
    "# Xpd is given in p.u of generator base at transfomer primary side and should be transformed to network side\n",
    "gen_sp.set_standard_parameters_PU(\n",
    "    nom_power=nom_power, nom_volt = nom_ph_ph_volt_RMS, nom_freq=nom_freq,\n",
    "    Xpd = Xpd*t_ratio**2, inertia=cmd_Inertia*H, Rs=Rs, D=cmd_Damping*D)\n",
    "\n",
    "init_apparent_power = gen_pf.get_apparent_power()\n",
    "gen_sp.set_initial_values(init_apparent_power, init_mech_power)\n",
    "\n",
    "# Grid bus as Slack\n",
    "extnet_sp = dpsimpy.sp.ph1.NetworkInjection(\"Slack\", dpsimpy.LogLevel.debug)\n",
    "\n",
    "# Line\n",
    "line_sp = dpsimpy.sp.ph1.PiLine(\"PiLine\", dpsimpy.LogLevel.debug)\n",
    "line_sp.set_parameters(line_resistance, line_inductance, line_capacitance, line_conductance)\n",
    "\n",
    "# Switch\n",
    "fault_sp = dpsimpy.sp.ph1.varResSwitch(\"Br_fault\", dpsimpy.LogLevel.debug)\n",
    "fault_sp.set_parameters(switch_open, switch_closed)\n",
    "fault_sp.set_init_parameters(time_step)\n",
    "fault_sp.open()\n",
    "\n",
    "# Topology\n",
    "gen_sp.connect([n1_sp])\n",
    "line_sp.connect([n1_sp, n2_sp])\n",
    "extnet_sp.connect([n2_sp])\n",
    "fault_sp.connect([dpsimpy.sp.SimNode.gnd, n1_sp])\n",
    "system_sp = dpsimpy.SystemTopology(nom_freq, [n1_sp, n2_sp], [gen_sp, line_sp, fault_sp, extnet_sp])\n",
    "\n",
    "\n",
    "# Initialization of dynamic topology\n",
    "system_sp.init_with_powerflow(system_pf)\n",
    "\n",
    "# Logging\n",
    "logger_sp = dpsimpy.Logger(sim_name_sp)\n",
    "logger_sp.log_attribute(\"v1\", \"v\", n1_sp)\n",
    "logger_sp.log_attribute(\"v2\", \"v\", n2_sp)\n",
    "\n",
    "logger_sp.log_attribute(\"v_line\", \"v_intf\", line_sp)\n",
    "logger_sp.log_attribute(\"i_line\", \"i_intf\", line_sp)\n",
    "\n",
    "logger_sp.log_attribute(\"v_slack\", \"v_intf\", extnet_sp)\n",
    "logger_sp.log_attribute(\"i_slack\", \"i_intf\", extnet_sp)\n",
    "\n",
    "logger_sp.log_attribute(\"i_fault\", \"i_intf\", fault_sp)\n",
    "\n",
    "logger_sp.log_attribute(\"Ep\", \"Ep\", gen_sp)\n",
    "logger_sp.log_attribute(\"v_gen\", \"v_intf\", gen_sp)\n",
    "logger_sp.log_attribute(\"i_gen\", \"i_intf\", gen_sp)\n",
    "logger_sp.log_attribute(\"wr_gen\", \"w_r\", gen_sp)\n",
    "logger_sp.log_attribute(\"delta_r_gen\", \"delta_r\", gen_sp)\n",
    "logger_sp.log_attribute(\"P_elec\", \"P_elec\", gen_sp)\n",
    "logger_sp.log_attribute(\"P_mech\", \"P_mech\", gen_sp)\n",
    "\n",
    "# Simulation\n",
    "sim_sp = dpsimpy.Simulation(sim_name, dpsimpy.LogLevel.debug)\n",
    "sim_sp.set_system(system_sp)\n",
    "sim_sp.set_time_step(time_step)\n",
    "sim_sp.set_final_time(final_time)\n",
    "sim_sp.set_domain(dpsimpy.Domain.SP)\n",
    "sim_sp.add_logger(logger_sp)\n",
    "sim_sp.do_system_matrix_recomputation(True)\n",
    "sim_sp.set_direct_solver_implementation(dpsimpy.DirectLinearSolverImpl.SparseLU)\n",
    "\n",
    "\n",
    "# Events\n",
    "if start_fault_event:\n",
    "    sw1 = dpsimpy.event.SwitchEvent(start_time_fault, fault_sp, True)\n",
    "    sim_sp.add_event(sw1)\n",
    "    \n",
    "if end_fault_event:\n",
    "    sw2 = dpsimpy.event.SwitchEvent(end_time_fault, fault_sp, False)\n",
    "    sim_sp.add_event(sw2)\n",
    "    \n",
    "sim_sp.run()"
   ],
   "outputs": [],
   "metadata": {}
  },
  {
   "cell_type": "markdown",
   "source": [
    "## Results 1ph SP"
   ],
   "metadata": {}
  },
  {
   "cell_type": "code",
   "execution_count": null,
   "source": [
    "work_dir = 'logs/SP_SynGenTrStab_SMIB_Fault_SP/'\n",
    "log_name = 'SP_SynGenTrStab_SMIB_Fault_SP'\n",
    "print(work_dir + log_name + '.csv')\n",
    "ts_sp1ph_TrStab_dl= rt.read_timeseries_dpsim(work_dir + log_name + '.csv')"
   ],
   "outputs": [],
   "metadata": {}
  },
  {
   "cell_type": "markdown",
   "source": [
    "## Results 1ph DP"
   ],
   "metadata": {}
  },
  {
   "cell_type": "code",
   "execution_count": null,
   "source": [
    "work_dir = 'logs/DP_SynGenTrStab_SMIB_Fault_DP/' \n",
    "log_name = 'DP_SynGenTrStab_SMIB_Fault_DP'\n",
    "print(work_dir + log_name + '.csv')\n",
    "ts_dp1ph_TrStab_dl = rt.read_timeseries_dpsim(work_dir + log_name + '.csv')"
   ],
   "outputs": [],
   "metadata": {}
  },
  {
   "cell_type": "markdown",
   "source": [
    "## Results 3ph EMT Reference"
   ],
   "metadata": {}
  },
  {
   "cell_type": "code",
   "execution_count": null,
   "source": [
    "# work_dir = 'logs/EMT_SynGenTrStab_SMIB_Fault_EMT/'\n",
    "# log_name = 'EMT_SynGenTrStab_SMIB_Fault_EMT'\n",
    "# print(work_dir + log_name + '.csv')\n",
    "# #os.path.getsize(work_dir + log_name + '.csv')\n",
    "# ts_emt3ph_TrStab_dl = rt.read_timeseries_dpsim(work_dir + log_name + '.csv')"
   ],
   "outputs": [],
   "metadata": {}
  },
  {
   "cell_type": "markdown",
   "source": [
    "## Generator emf"
   ],
   "metadata": {}
  },
  {
   "cell_type": "code",
   "execution_count": null,
   "source": [
    "plt.figure(figsize=(12,8))\n",
    "plt.ylabel('Generator emf (V)')\n",
    "\n",
    "timestep=50e-6;\n",
    "t_begin=0\n",
    "t_end=20\n",
    "\n",
    "\n",
    "begin_idx = int(t_begin/timestep)\n",
    "end_idx= int(t_end/timestep)\n",
    "\n",
    "for name in ['Ep']:\n",
    "    plt.plot(ts_sp1ph_TrStab_dl[name].interpolate(timestep).time[begin_idx:end_idx], ts_sp1ph_TrStab_dl[name].interpolate(timestep).frequency_shift(60).values[begin_idx:end_idx], label=name + ' SP backshift')\n",
    "    plt.plot(ts_dp1ph_TrStab_dl[name].interpolate(timestep).time[begin_idx:end_idx], ts_dp1ph_TrStab_dl[name].interpolate(timestep).frequency_shift(60).values[begin_idx:end_idx], label=name + ' DP backshift', linestyle='--')\n",
    "    #plt.plot(ts_emt3ph_TrStab_dl[name].interpolate(timestep).time[begin_idx:end_idx], ts_emt3ph_TrStab_dl[name].interpolate(timestep).frequency_shift(60).values[begin_idx:end_idx], label=name + ' EMT')"
   ],
   "outputs": [],
   "metadata": {}
  },
  {
   "cell_type": "markdown",
   "source": [
    "## Generator terminal voltage"
   ],
   "metadata": {}
  },
  {
   "cell_type": "code",
   "execution_count": null,
   "source": [
    "plt.figure(figsize=(12,8))\n",
    "plt.ylabel('Generator terminal voltage (V)')\n",
    "\n",
    "for name in ['v_gen']:\n",
    "    plt.plot(ts_sp1ph_TrStab_dl[name].interpolate(timestep).time[begin_idx:end_idx], ts_sp1ph_TrStab_dl[name].interpolate(timestep).frequency_shift(60).values[begin_idx:end_idx], label=name + ' SP backshift')\n",
    "    plt.plot(ts_dp1ph_TrStab_dl[name].interpolate(timestep).time[begin_idx:end_idx], ts_dp1ph_TrStab_dl[name].interpolate(timestep).frequency_shift(60).values[begin_idx:end_idx], label=name + ' DP backshift', linestyle='--')\n",
    "    #plt.plot(ts_emt3ph_TrStab_dl[name].interpolate(timestep).time[begin_idx:end_idx], np.sqrt(3/2)*ts_emt3ph_TrStab_dl[name].interpolate(timestep).values[begin_idx:end_idx], label=name + ' EMT')\n",
    "plt.legend()\n",
    "plt.show()"
   ],
   "outputs": [],
   "metadata": {}
  },
  {
   "cell_type": "markdown",
   "source": [
    "## Genrerator terminal Current"
   ],
   "metadata": {}
  },
  {
   "cell_type": "code",
   "execution_count": null,
   "source": [
    "plt.figure(figsize=(12,8))\n",
    "plt.ylabel('Generator terminal current (A)')\n",
    "\n",
    "for name in ['i_gen']:\n",
    "    plt.plot(ts_sp1ph_TrStab_dl[name].interpolate(timestep).time[begin_idx:end_idx], -ts_sp1ph_TrStab_dl[name].interpolate(timestep).frequency_shift(60).values[begin_idx:end_idx], label=name + 'SP backshift')\n",
    "    plt.plot(ts_dp1ph_TrStab_dl[name].interpolate(timestep).time[begin_idx:end_idx], -ts_dp1ph_TrStab_dl[name].interpolate(timestep).frequency_shift(60).values[begin_idx:end_idx], label=name + ' DP backshift', linestyle='--')\n",
    "    #plt.plot(ts_emt3ph_TrStab_dl[name].interpolate(timestep).time[begin_idx:end_idx], np.sqrt(3/2)*ts_emt3ph_TrStab_dl[name].interpolate(timestep).values[begin_idx:end_idx], label=name + ' EMT')\n",
    "#plt.plot(ts_dp1ph_TrStab_dl['Ep'].interpolate(timestep).time[begin_idx:end_idx], 0.05*(ts_dp1ph_TrStab_dl['Ep'].interpolate(timestep).frequency_shift(60).values[begin_idx:end_idx]- ts_dp1ph_TrStab_dl['v_gen'].interpolate(timestep).frequency_shift(60).values[begin_idx:end_idx]))\n",
    "#plt.plot(ts_sp1ph_TrStab_dl['Ep'].interpolate(timestep).time[begin_idx:end_idx], 0.05*(ts_sp1ph_TrStab_dl['Ep'].interpolate(timestep).frequency_shift(60).values[begin_idx:end_idx]- ts_sp1ph_TrStab_dl['v_gen'].interpolate(timestep).frequency_shift(60).values[begin_idx:end_idx]))\n",
    "plt.legend()\n",
    "plt.show()"
   ],
   "outputs": [],
   "metadata": {}
  },
  {
   "cell_type": "markdown",
   "source": [
    "Fault Current"
   ],
   "metadata": {}
  },
  {
   "cell_type": "code",
   "execution_count": null,
   "source": [
    "plt.figure(figsize=(12,8))\n",
    "plt.ylabel('Fault current (A)')\n",
    "\n",
    "for name in ['i_fault']:\n",
    "    #plt.plot(ts_sp1ph_TrStab_dl[name].interpolate(timestep).time[begin_idx:end_idx], ts_sp1ph_TrStab_dl[name].interpolate(timestep).frequency_shift(60).values[begin_idx:end_idx], label=name + 'SP backshift')\n",
    "    plt.plot(ts_dp1ph_TrStab_dl[name].interpolate(timestep).time[begin_idx:end_idx], ts_dp1ph_TrStab_dl[name].interpolate(timestep).frequency_shift(60).values[begin_idx:end_idx], label=name + ' DP backshift', linestyle='--')\n",
    "    #plt.plot(ts_emt3ph_TrStab_dl[name].interpolate(timestep).time[begin_idx:end_idx], np.sqrt(3/2)*ts_emt3ph_TrStab_dl[name].interpolate(timestep).values[begin_idx:end_idx], label=name + ' EMT')\n",
    "#plt.plot(ts_dp1ph_TrStab_dl['Ep'].interpolate(timestep).time[begin_idx:end_idx], 0.05*(ts_dp1ph_TrStab_dl['Ep'].interpolate(timestep).frequency_shift(60).values[begin_idx:end_idx]- ts_dp1ph_TrStab_dl['v_gen'].interpolate(timestep).frequency_shift(60).values[begin_idx:end_idx]))\n",
    "#plt.plot(ts_sp1ph_TrStab_dl['Ep'].interpolate(timestep).time[begin_idx:end_idx], 0.05*(ts_sp1ph_TrStab_dl['Ep'].interpolate(timestep).frequency_shift(60).values[begin_idx:end_idx]- ts_sp1ph_TrStab_dl['v_gen'].interpolate(timestep).frequency_shift(60).values[begin_idx:end_idx]))\n",
    "plt.legend()\n",
    "plt.show()"
   ],
   "outputs": [],
   "metadata": {}
  },
  {
   "cell_type": "markdown",
   "source": [
    "## Voltage across line"
   ],
   "metadata": {}
  },
  {
   "cell_type": "code",
   "execution_count": null,
   "source": [
    "plt.figure(figsize=(12,8))\n",
    "\n",
    "for name in ['v_line']:\n",
    "    plt.plot(ts_sp1ph_TrStab_dl[name].interpolate(timestep).time[begin_idx:end_idx], ts_sp1ph_TrStab_dl[name].interpolate(timestep).frequency_shift(60).values[begin_idx:end_idx], label=name + 'SP backshift')\n",
    "    plt.plot(ts_dp1ph_TrStab_dl[name].interpolate(timestep).time[begin_idx:end_idx], ts_dp1ph_TrStab_dl[name].interpolate(timestep).frequency_shift(60).values[begin_idx:end_idx], label=name + ' DP backshift', linestyle='--')\n",
    "    #plt.plot(ts_emt3ph_TrStab_dl[name].interpolate(timestep).time[begin_idx:end_idx], np.sqrt(3/2)*ts_emt3ph_TrStab_dl[name].interpolate(timestep).values[begin_idx:end_idx], label=name + ' EMT')\n",
    "plt.legend()\n",
    "plt.show()"
   ],
   "outputs": [],
   "metadata": {}
  },
  {
   "cell_type": "markdown",
   "source": [
    "## Current through line"
   ],
   "metadata": {}
  },
  {
   "cell_type": "code",
   "execution_count": null,
   "source": [
    "plt.figure(figsize=(12,8))\n",
    "\n",
    "for name in ['i_line']:\n",
    "    plt.plot(ts_sp1ph_TrStab_dl[name].interpolate(timestep).time[begin_idx:end_idx], ts_sp1ph_TrStab_dl[name].interpolate(timestep).frequency_shift(60).values[begin_idx:end_idx], label=name + 'SP backshift')\n",
    "    plt.plot(ts_dp1ph_TrStab_dl[name].interpolate(timestep).time[begin_idx:end_idx], ts_dp1ph_TrStab_dl[name].interpolate(timestep).frequency_shift(60).values[begin_idx:end_idx], label=name + ' DP backshift', linestyle='--')\n",
    "    #plt.plot(ts_emt3ph_TrStab_dl[name].interpolate(timestep).time[begin_idx:end_idx], np.sqrt(3/2)*ts_emt3ph_TrStab_dl[name].interpolate(timestep).values[begin_idx:end_idx], label=name + ' EMT')\n",
    "plt.legend()\n",
    "plt.show()"
   ],
   "outputs": [],
   "metadata": {}
  },
  {
   "cell_type": "markdown",
   "source": [
    "## Generator electrical & mechanical energy"
   ],
   "metadata": {}
  },
  {
   "cell_type": "code",
   "execution_count": null,
   "source": [
    "plt.figure(figsize=(12,8))\n",
    "#plt.ylim(250e6,350e6)\n",
    "\n",
    "for name in ['P_elec','P_mech']:\n",
    "    plt.plot(ts_sp1ph_TrStab_dl[name].interpolate(timestep).time[begin_idx:end_idx], ts_sp1ph_TrStab_dl[name].interpolate(timestep).values[begin_idx:end_idx], label=name + ' SP')\n",
    "    plt.plot(ts_dp1ph_TrStab_dl[name].interpolate(timestep).time[begin_idx:end_idx], ts_dp1ph_TrStab_dl[name].interpolate(timestep).values[begin_idx:end_idx], label=name + ' DP', linestyle='--')\n",
    "    #plt.plot(ts_emt3ph_TrStab_dl[name].interpolate(timestep).time[begin_idx:end_idx], np.sqrt(3/2)*ts_emt3ph_TrStab_dl[name].interpolate(timestep).values[begin_idx:end_idx], label=name + ' EMT')\n",
    "plt.legend()\n",
    "plt.show()"
   ],
   "outputs": [],
   "metadata": {}
  },
  {
   "cell_type": "markdown",
   "source": [
    "## Rotor frequency"
   ],
   "metadata": {}
  },
  {
   "cell_type": "code",
   "execution_count": null,
   "source": [
    "#plt.figure(figsize=(12,8))\n",
    "#plt.xlabel('time (s)', fontsize=20)\n",
    "#plt.ylabel('Rotor frequency (Hz)', fontsize=20)\n",
    "#plt.xticks(fontsize=18)\n",
    "#plt.yticks(fontsize=18)\n",
    "##plt.ylim(55,65)\n",
    "##plt.xlim(5.1,10)\n",
    "\n",
    "##if x_axis limits are changed above, change them again to consider the complete duration\n",
    "\n",
    "#for name in ['wr_gen']:\n",
    "#    plt.plot(ts_sp1ph_TrStab_dl[name].interpolate(timestep).time[begin_idx:end_idx], ts_sp1ph_TrStab_dl[name].interpolate(timestep).values[begin_idx:end_idx]*60/377, label='$\\f_r$' + ' SP backshift')\n",
    "#    plt.plot(ts_dp1ph_TrStab_dl[name].interpolate(timestep).time[begin_idx:end_idx], ts_dp1ph_TrStab_dl[name].interpolate(timestep).values[begin_idx:end_idx]*60/377, label='$\\f_r$' + ' DP backshift', linestyle='--')\n",
    "#    #plt.plot(ts_emt3ph_TrStab_dl[name].interpolate(timestep).time[begin_idx:end_idx], ts_emt3ph_TrStab_dl[name].interpolate(timestep).values[begin_idx:end_idx], label=name + ' EMT')\n",
    "#plt.legend(fontsize=18)\n",
    "##plt.title('Post-Fault',fontsize=20)\n",
    "#plt.show()\n"
   ],
   "outputs": [],
   "metadata": {}
  },
  {
   "cell_type": "markdown",
   "source": [
    "## Rotor angular velocity $\\omega _r$"
   ],
   "metadata": {}
  },
  {
   "cell_type": "code",
   "execution_count": null,
   "source": [
    "plt.figure(figsize=(12,8))\n",
    "plt.xlabel('time (s)', fontsize=20)\n",
    "plt.ylabel('Rotor angular velocity', fontsize=20)\n",
    "plt.xticks(fontsize=18)\n",
    "plt.yticks(fontsize=18)\n",
    "#plt.ylim(360,400)\n",
    "#fix y axis\n",
    "\n",
    "for name in ['wr_gen']:\n",
    "    plt.plot(ts_sp1ph_TrStab_dl[name].interpolate(timestep).time[begin_idx:end_idx], ts_sp1ph_TrStab_dl[name].interpolate(timestep).values[begin_idx:end_idx], label='$\\omega _r$' + ' SP backshift')\n",
    "    plt.plot(ts_dp1ph_TrStab_dl[name].interpolate(timestep).time[begin_idx:end_idx], ts_dp1ph_TrStab_dl[name].interpolate(timestep).values[begin_idx:end_idx], label='$\\omega _r$' + ' DP backshift', linestyle='--')\n",
    "    #plt.plot(ts_emt3ph_TrStab_dl[name].interpolate(timestep).time[begin_idx:end_idx],ts_emt3ph_TrStab_dl[name].interpolate(timestep).values[begin_idx:end_idx], label=name + ' EMT')\n",
    "plt.legend(fontsize=18)\n",
    "#plt.title('Post-Fault',fontsize=20)\n",
    "plt.show()\n"
   ],
   "outputs": [],
   "metadata": {}
  },
  {
   "cell_type": "markdown",
   "source": [
    "## Rotor angle $\\delta _r$"
   ],
   "metadata": {}
  },
  {
   "cell_type": "code",
   "execution_count": null,
   "source": [
    "plt.figure(figsize=(12,8))\n",
    "plt.xlabel('time (s)', fontsize=20)\n",
    "#plt.ylim(-10,10)\n",
    "plt.ylabel('Rotor angle in degrees', fontsize=20)\n",
    "plt.xticks(fontsize=18)\n",
    "plt.yticks(fontsize=18)\n",
    "\n",
    "for name in ['delta_r_gen']: \n",
    "    plt.plot(ts_sp1ph_TrStab_dl[name].interpolate(timestep).time[begin_idx:end_idx], ts_sp1ph_TrStab_dl[name].interpolate(timestep).values[begin_idx:end_idx]*180/3.14, label='$\\delta _r$' + ' SP backshift')\n",
    "    plt.plot(ts_dp1ph_TrStab_dl[name].interpolate(timestep).time[begin_idx:end_idx], ts_dp1ph_TrStab_dl[name].interpolate(timestep).values[begin_idx:end_idx]*180/3.14, label='$\\delta _r$' + ' DP backshift', linestyle='--')\n",
    "    #plt.plot(ts_emt3ph_TrStab_dl[name].interpolate(timestep).time[begin_idx:end_idx], ts_emt3ph_TrStab_dl[name].interpolate(timestep).values[begin_idx:end_idx], label=name + ' EMT')\n",
    "    \n",
    "plt.legend(fontsize=18)\n",
    "#plt.title('Post-Fault',fontsize=20)\n",
    "plt.show()\n"
   ],
   "outputs": [],
   "metadata": {}
  },
  {
   "cell_type": "markdown",
   "source": [
    "Frequency of load angle in 1hz-2hz range"
   ],
   "metadata": {}
  }
 ],
 "metadata": {
  "kernelspec": {
   "display_name": "Python 3",
   "language": "python",
   "name": "python3"
  },
  "language_info": {
   "codemirror_mode": {
    "name": "ipython",
    "version": 3
   },
   "file_extension": ".py",
   "mimetype": "text/x-python",
   "name": "python",
   "nbconvert_exporter": "python",
   "pygments_lexer": "ipython3",
   "version": "3.9.7"
  },
  "tests": {
   "skip": false
  }
 },
 "nbformat": 4,
 "nbformat_minor": 4
}
