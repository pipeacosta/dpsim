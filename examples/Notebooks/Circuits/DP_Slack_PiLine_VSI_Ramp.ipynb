{
 "cells": [
  {
   "cell_type": "code",
   "execution_count": null,
   "metadata": {},
   "outputs": [],
   "source": [
    "from villas.dataprocessing.readtools import *\n",
    "from villas.dataprocessing.timeseries import *\n",
    "from villas.dataprocessing.timeseries import TimeSeries as ts\n",
    "import matplotlib.pyplot as plt\n",
    "import re\n",
    "import os\n",
    "import urllib.request\n",
    "\n",
    "# %matplotlib widget"
   ]
  },
  {
   "cell_type": "markdown",
   "metadata": {},
   "source": [
    "# DP Simulation of topology with slack, line and VSI"
   ]
  },
  {
   "cell_type": "markdown",
   "metadata": {},
   "source": [
    "## DP simulation"
   ]
  },
  {
   "cell_type": "code",
   "execution_count": null,
   "metadata": {},
   "outputs": [],
   "source": [
    "%%bash\n",
    "TOP=${TOP:-$(git rev-parse --show-toplevel)}\n",
    "PATH=${TOP}/build/dpsim/examples/cxx\n",
    "\n",
    "DURATION=8.0\n",
    "TIMESTEP=3e-3\n",
    "\n",
    "DP_Slack_PiLine_VSI_Ramp_with_PF_Init --timestep=${TIMESTEP} --duration=${DURATION}"
   ]
  },
  {
   "cell_type": "code",
   "execution_count": null,
   "metadata": {},
   "outputs": [],
   "source": [
    "modelName = 'DP_Slack_PiLine_VSI_Ramp_with_PF_Init_DP'\n",
    "path = 'logs/' + modelName + '/'\n",
    "dpsim_result_file = path + modelName + '.csv'\n",
    "\n",
    "ts_dpsim = read_timeseries_csv(dpsim_result_file)\n",
    "ts_dpsim_shifted = ts.frequency_shift_list(ts_dpsim, 50)"
   ]
  },
  {
   "cell_type": "markdown",
   "metadata": {},
   "source": [
    "## DP and EMT simulation for reference"
   ],
   "cell_type": "markdown",
   "metadata": {}
  },
  {
   "cell_type": "code",
   "execution_count": null,
   "metadata": {},
   "outputs": [],
   "source": [
    "if not os.path.exists('reference-results'):\n",
    "    os.mkdir('reference-results')"
   ]
  },
  {
   "cell_type": "code",
   "execution_count": null,
   "metadata": {},
   "outputs": [],
   "source": [
    "url = 'https://raw.githubusercontent.com/dpsim-simulator/reference-results/master/DPsim/VSI/DP_Slack_PiLine_VSI_Ramp_with_PF_Init_DP.csv'\n",
    "dp_ref_file = 'reference-results/DP_Slack_PiLine_VSI_Ramp_with_PF_Init_DP.csv'\n",
    "try:\n",
    "    urllib.request.urlretrieve(url, dp_ref_file) \n",
    "    print(dp_ref_file)\n",
    "    ts_dpsim_ref_dp = read_timeseries_csv(dp_ref_file)\n",
    "    dp_reference_available = True\n",
    "except:\n",
    "    dp_reference_available = False"
   ]
  },
  {
   "cell_type": "code",
   "execution_count": null,
   "metadata": {},
   "outputs": [],
   "source": [
    "url = 'https://raw.githubusercontent.com/dpsim-simulator/reference-results/master/DPsim/VSI/EMT_Slack_PiLine_VSI_Ramp_with_PF_Init_EMT.csv'\n",
    "emt_ref_file = 'reference-results/EMT_Slack_PiLine_VSI_Ramp_with_PF_Init_EMT.csv'\n",
    "try:\n",
    "    urllib.request.urlretrieve(url, emt_ref_file) \n",
    "    print(emt_ref_file)\n",
    "    ts_dpsim_ref_emt = read_timeseries_csv(emt_ref_file)\n",
    "    emt_reference_available = True\n",
    "except:\n",
    "    emt_reference_available = False"
   ]
  },
  {
   "cell_type": "markdown",
   "metadata": {},
   "source": [
    "## Plots"
   ]
  },
  {
   "cell_type": "code",
   "execution_count": null,
   "metadata": {},
   "outputs": [],
   "source": [
    "plt.figure(figsize=(12,6))\n",
    "for ts_name, ts_obj  in ts_dpsim.items():\n",
    "        if ts_name in ['f_src']:\n",
    "                plt.plot(ts_obj.time, ts_obj.values, label=ts_name, color='C0')\n",
    "\n",
    "plt.xlim(4.8,8)\n",
    "plt.xlabel('Zeit [s]')\n",
    "plt.ylabel('Frequenz der Spannungsquelle [Hz]')\n",
    "plt.gcf().legend(loc='upper center', ncol=2)\n",
    "plt.show()"
   ]
  },
  {
   "cell_type": "code",
   "execution_count": null,
   "metadata": {},
   "outputs": [],
   "source": [
    "plt.figure(figsize=(12,6))\n",
    "if emt_reference_available:\n",
    "    ts_obj = ts_dpsim_ref_emt['v2_0']\n",
    "    plt.plot(ts_obj.time, np.sqrt(3/2)*ts_obj.values, label='u2 (EMT, 50 µs ref)')\n",
    "if dp_reference_available:\n",
    "    ts_obj = ts_dpsim_ref_dp['v2']\n",
    "    plt.plot(ts_obj.time, ts_obj.abs().values, label='u2 abs (DP, 50 µs ref)', color='C1')\n",
    "ts_obj = ts_dpsim['v2']\n",
    "plt.plot(ts_obj.time, ts_obj.abs().values, label='u2 abs (DP, 1 ms)', color='C1', linestyle='--')\n",
    "\n",
    "plt.xlim(4.8,8)\n",
    "plt.ylim(20014,20030)\n",
    "plt.xlabel('Time [s]')\n",
    "plt.ylabel('Load voltage magnitude v2 [V]')\n",
    "plt.gcf().legend(loc='upper center', ncol=3)\n",
    "plt.grid('y')\n",
    "plt.show()"
   ]
  },
  {
    "cell_type": "code",
    "execution_count": null,
    "metadata": {},
    "outputs": [],
    "source": [
     "plt.figure(figsize=(12,6))\n",
     "if emt_reference_available:\n",
     "    ts_obj = ts_dpsim_ref_emt['v2_0']\n",
     "    plt.plot(ts_obj.time, np.sqrt(3/2)*ts_obj.values, label='u2 (EMT, 50 µs ref)')\n",
     "\n",
     "ts_v2_interpolated = ts_dpsim['v2'].interpolate(50e-6)\n",
     "ts_v2_shifted = ts.frequency_shift(ts_v2_interpolated, 50)\n",
     "plt.plot(ts_v2_shifted.time, ts_v2_shifted.values, label='u2 (DP, 50 µs interpolated, shifted)', color='C1')\n",
     "\n",
     "plt.xlim(4.8,8)\n",
     "#plt.xlim(6.0,6.1)\n",
     "plt.ylim(20014,20030)\n",
     "plt.xlabel('Time [s]')\n",
     "plt.ylabel('Load voltage magnitude [V]')\n",
     "plt.gcf().legend(loc='upper center', ncol=3)\n",
     "plt.grid('y')\n",
     "plt.show()"
    ]
   },
  {
   "cell_type": "markdown",
   "metadata": {},
   "source": [
    "### Assertion"
   ]
  },
  {
   "cell_type": "code",
   "execution_count": null,
   "metadata": {},
   "outputs": [],
   "source": [
    "if emt_reference_available:\n",
    "    error_abs = np.absolute(np.sqrt(3/2)*ts_dpsim_ref_emt['v2_0'].values - ts_v2_shifted.values[80000:160002]).max()\n",
    "    print('EMT ref v2_0 vs. DP v2_shift (abs): ' + str(error_abs))\n",
    "    assert error_abs < 10"
   ]
  },
  {
    "cell_type": "code",
    "execution_count": null,
    "metadata": {},
    "outputs": [],
    "source": [
     "if dp_reference_available:\n",
     "    error_abs = np.absolute(ts_dpsim_ref_dp['v2'].values - ts_v2_interpolated.values[80000:160002]).max()\n",
     "    print('DP ref v2 vs. DP v2 (abs): ' + str(error_abs))\n",
     "    assert error_abs < 10"
    ]
   },
  {
   "cell_type": "code",
   "execution_count": null,
   "metadata": {},
   "outputs": [],
   "source": []
  }
 ],
 "metadata": {
  "kernelspec": {
   "display_name": "Python 3",
   "language": "python",
   "name": "python3"
  },
  "language_info": {
   "codemirror_mode": {
    "name": "ipython",
    "version": 3
   },
   "file_extension": ".py",
   "mimetype": "text/x-python",
   "name": "python",
   "nbconvert_exporter": "python",
   "pygments_lexer": "ipython3",
   "version": "3.8.3"
  },
  "tests": {
    "skip": false
    }
 },
 "nbformat": 4,
 "nbformat_minor": 4
}
