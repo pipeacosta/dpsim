{
 "cells": [
  {
   "attachments": {},
   "cell_type": "markdown",
   "metadata": {},
   "source": [
    "# MSP Simulation Example - Resistive Companion - Exercise 3 - Task 2"
   ]
  },
  {
   "cell_type": "markdown",
   "metadata": {},
   "source": [
    "## Sample circuit"
   ]
  },
  {
   "cell_type": "markdown",
   "metadata": {},
   "source": [
    "<img src=\"Circuit_Exercise_Task2.png\" width=\"400\" align=\"left\">"
   ]
  },
  {
   "attachments": {},
   "cell_type": "markdown",
   "metadata": {},
   "source": [
    "$R_1$ $=1 \\Omega$ <br>\n",
    "$R_2$ $=1 \\Omega$ <br>\n",
    "$C$ $=1mF$ <br>\n",
    "$L$ $=1mH$ <br>\n",
    "$I$ $=10A$ <br> \n",
    "$v_C(0)$=0 <br>\n",
    "$i_L(0)=0 $  <br>"
   ]
  },
  {
   "attachments": {},
   "cell_type": "markdown",
   "metadata": {},
   "source": [
    "## Circuit and Simulation Setup"
   ]
  },
  {
   "cell_type": "code",
   "execution_count": 1,
   "metadata": {},
   "outputs": [],
   "source": [
    "import numpy as np\n",
    "import ipywidgets as widget\n",
    "import matplotlib.pyplot as plt\n",
    "np.set_printoptions(sign=' ')\n",
    "\n",
    "# Circuit parameters\n",
    "R1 = 1\n",
    "R2 = 1\n",
    "C1 = 1e-3\n",
    "L1 = 1e-3\n",
    "I_src= 10\n",
    "G1 = 1/R1\n",
    "G2 = 1/R2"
   ]
  },
  {
   "attachments": {},
   "cell_type": "markdown",
   "metadata": {},
   "source": [
    "## DC equivalent of Inductor"
   ]
  },
  {
   "attachments": {},
   "cell_type": "markdown",
   "metadata": {},
   "source": [
    "### Equation of the inductor:\n",
    "\n",
    "$v_L(t) =L\\cdot\\frac{di_L}{dt}$\n",
    "\n",
    "### Integration:   \n",
    "\n",
    "$i_L(t+\\Delta{t}) =i_L(t) + \\frac{1}{L} \\int_{t}^{t+\\Delta{t}} \\ v_L(\\tau) d\\tau$\n",
    "\n",
    "### Discretization:   \n",
    "\n",
    "$i_L(k+1)= i_L(k) + \\frac{1}{L} \\int_{t_k}^{t_k+\\Delta{t}} \\ v_L(\\tau) d\\tau$\n",
    "\n",
    "### Application of trapezoidal rule:  \n",
    "\n",
    "$i_L(k)= i_L(k) + \\frac{1}{L} \\frac{v_L(k)+v_L(k+1)}{2} \\Delta{t} $\n",
    "\n",
    "$i_L(k+1)=\\frac{\\Delta{t}}{2L} v_L(k+1) + (i_L(k) + \\frac{\\Delta{t}}{2L} v_L(k))  $\n",
    "\n",
    "The inductor in the calculation step (k + 1) can be substituted with an inductance  $G_L = \\frac{\\Delta{t}}{2L}$ in parallel with a current source $A_L(k) = i_L(k) + \\frac{\\Delta{t}}{2L} v_L(k) $ "
   ]
  },
  {
   "attachments": {},
   "cell_type": "markdown",
   "metadata": {},
   "source": [
    "<img src=\"Circuit_Exercise_Task2_DCequivalents.png\" width=\"400\" align=\"left\">"
   ]
  },
  {
   "attachments": {},
   "cell_type": "markdown",
   "metadata": {},
   "source": [
    "## Initialize circuit"
   ]
  },
  {
   "cell_type": "code",
   "execution_count": 2,
   "metadata": {},
   "outputs": [
    {
     "ename": "AttributeError",
     "evalue": "module 'dpsimpy.sp.ph1' has no attribute 'CurrentSource'",
     "output_type": "error",
     "traceback": [
      "\u001b[0;31m---------------------------------------------------------------------------\u001b[0m",
      "\u001b[0;31mAttributeError\u001b[0m                            Traceback (most recent call last)",
      "\u001b[1;32m/dpsim/examples/Notebooks/Circuits/Exercise_SimExample_ResistiveCompanion_Task2.ipynb Cell 11\u001b[0m in \u001b[0;36m1\n\u001b[1;32m     <a href='vscode-notebook-cell://attached-container%2B7b22636f6e7461696e65724e616d65223a222f646f636b65722d636f6d706f73652d647073696d2d6d7174742d647073696d2d31227d/dpsim/examples/Notebooks/Circuits/Exercise_SimExample_ResistiveCompanion_Task2.ipynb#X13sdnNjb2RlLXJlbW90ZQ%3D%3D?line=14'>15</a>\u001b[0m r2_pf \u001b[39m=\u001b[39m dpsimpy\u001b[39m.\u001b[39msp\u001b[39m.\u001b[39mph1\u001b[39m.\u001b[39mResistor(\u001b[39m'\u001b[39m\u001b[39mr2_pf\u001b[39m\u001b[39m'\u001b[39m, dpsimpy\u001b[39m.\u001b[39mLogLevel\u001b[39m.\u001b[39mdebug)\n\u001b[1;32m     <a href='vscode-notebook-cell://attached-container%2B7b22636f6e7461696e65724e616d65223a222f646f636b65722d636f6d706f73652d647073696d2d6d7174742d647073696d2d31227d/dpsim/examples/Notebooks/Circuits/Exercise_SimExample_ResistiveCompanion_Task2.ipynb#X13sdnNjb2RlLXJlbW90ZQ%3D%3D?line=15'>16</a>\u001b[0m r2_pf\u001b[39m.\u001b[39mset_parameters(\u001b[39m1\u001b[39m)\n\u001b[0;32m---> <a href='vscode-notebook-cell://attached-container%2B7b22636f6e7461696e65724e616d65223a222f646f636b65722d636f6d706f73652d647073696d2d6d7174742d647073696d2d31227d/dpsim/examples/Notebooks/Circuits/Exercise_SimExample_ResistiveCompanion_Task2.ipynb#X13sdnNjb2RlLXJlbW90ZQ%3D%3D?line=17'>18</a>\u001b[0m cs_pf \u001b[39m=\u001b[39m dpsimpy\u001b[39m.\u001b[39;49msp\u001b[39m.\u001b[39;49mph1\u001b[39m.\u001b[39;49mCurrentSource(\u001b[39m'\u001b[39m\u001b[39mcs_pf\u001b[39m\u001b[39m'\u001b[39m, dpsimpy\u001b[39m.\u001b[39mLogLevel\u001b[39m.\u001b[39mdebug)\n\u001b[1;32m     <a href='vscode-notebook-cell://attached-container%2B7b22636f6e7461696e65724e616d65223a222f646f636b65722d636f6d706f73652d647073696d2d6d7174742d647073696d2d31227d/dpsim/examples/Notebooks/Circuits/Exercise_SimExample_ResistiveCompanion_Task2.ipynb#X13sdnNjb2RlLXJlbW90ZQ%3D%3D?line=18'>19</a>\u001b[0m cs_pf\u001b[39m.\u001b[39mI_ref \u001b[39m=\u001b[39m \u001b[39mcomplex\u001b[39m(\u001b[39m10\u001b[39m,\u001b[39m0\u001b[39m)\n\u001b[1;32m     <a href='vscode-notebook-cell://attached-container%2B7b22636f6e7461696e65724e616d65223a222f646f636b65722d636f6d706f73652d647073696d2d6d7174742d647073696d2d31227d/dpsim/examples/Notebooks/Circuits/Exercise_SimExample_ResistiveCompanion_Task2.ipynb#X13sdnNjb2RlLXJlbW90ZQ%3D%3D?line=19'>20</a>\u001b[0m cs_pf\u001b[39m.\u001b[39mf_src \u001b[39m=\u001b[39m \u001b[39m0\u001b[39m\n",
      "\u001b[0;31mAttributeError\u001b[0m: module 'dpsimpy.sp.ph1' has no attribute 'CurrentSource'"
     ]
    }
   ],
   "source": [
    "# Initialize simulation with DPsim\n",
    "import dpsimpy\n",
    "\n",
    "model_name_pf = 'CS_R1R2C1L1_PF'\n",
    "time_step = 1e-3\n",
    "final_time = 2e-2\n",
    "\n",
    "# Nodes\n",
    "gnd_pf = dpsimpy.sp.SimNode.gnd\n",
    "n1_pf = dpsimpy.sp.SimNode('n1_pf', dpsimpy.PhaseType.Single)\n",
    "\n",
    "# Components\n",
    "r1_pf = dpsimpy.sp.ph1.Resistor('r1_pf', dpsimpy.LogLevel.debug)\n",
    "r1_pf.set_parameters(1)\n",
    "r2_pf = dpsimpy.sp.ph1.Resistor('r2_pf', dpsimpy.LogLevel.debug)\n",
    "r2_pf.set_parameters(1)\n",
    "\n",
    "cs_pf = dpsimpy.sp.ph1.CurrentSource('cs_pf', dpsimpy.LogLevel.debug)\n",
    "cs_pf.I_ref = complex(10,0)\n",
    "cs_pf.f_src = 0\n",
    "\n",
    "cs_pf.connect([gnd_pf, n1_pf])\n",
    "r1_pf.connect([n1_pf, gnd_pf])\n",
    "r2_pf.connect([n1_pf, gnd_pf])\n",
    "\n",
    "system_pf = dpsimpy.SystemTopology(50, [gnd_pf, n1_pf], [cs_pf, r1_pf, r2_pf])\n",
    "\n",
    "logger_pf = dpsimpy.Logger(model_name_pf)\n",
    "logger_pf.log_attribute('n1.v', 'v', n1_pf)\n",
    "logger_pf.log_attribute('i_r1', 'i_intf', r1_pf)\n",
    "logger_pf.log_attribute('i_r2', 'i_intf', r2_pf)\n",
    "\n",
    "sim_pf = dpsimpy.Simulation(model_name_pf, dpsimpy.LogLevel.debug)\n",
    "sim_pf.set_system(system_pf)\n",
    "sim_pf.set_domain(dpsimpy.Domain.SP)\n",
    "sim_pf.set_solver_component_behaviour(dpsimpy.SolverBehaviour.Initialization)\n",
    "sim_pf.set_time_step(time_step)\n",
    "sim_pf.set_final_time(final_time)\n",
    "sim_pf.add_logger(logger_pf)\n",
    "sim_pf.run()"
   ]
  },
  {
   "attachments": {},
   "cell_type": "markdown",
   "metadata": {},
   "source": [
    "## Run Simulation"
   ]
  },
  {
   "cell_type": "code",
   "execution_count": null,
   "metadata": {},
   "outputs": [],
   "source": [
    "# Simulation parameters\n",
    "model_name = 'CS_R1R2C1L1'\n",
    "npoint = int(np.round(final_time/time_step))\n",
    "\n",
    "# Nodes\n",
    "gnd = dpsimpy.emt.SimNode.gnd\n",
    "n1 = dpsimpy.emt.SimNode('n1')\n",
    "n1.set_initial_voltage(complex(5,0), 0)\n",
    "n2 = dpsimpy.emt.SimNode('n2')\n",
    "n2.set_initial_voltage(complex(5,0), 0)\n",
    "\n",
    "# Components\n",
    "r1 = dpsimpy.emt.ph1.Resistor('r1', dpsimpy.LogLevel.debug)\n",
    "r1.R = 1\n",
    "r2 = dpsimpy.emt.ph1.Resistor('r2', dpsimpy.LogLevel.debug)\n",
    "r2.R = 1\n",
    "\n",
    "c1 = dpsimpy.emt.ph1.Capacitor('c1', dpsimpy.LogLevel.debug)\n",
    "c1.C = 1e-3\n",
    "l1 = dpsimpy.emt.ph1.Inductor('l1', dpsimpy.LogLevel.debug)\n",
    "l1.L = 1e-3\n",
    "cs = dpsimpy.emt.ph1.CurrentSource('cs', dpsimpy.LogLevel.debug)\n",
    "cs.I_ref = complex(10,0)\n",
    "cs.f_src = 0\n",
    "\n",
    "cs.connect([gnd, n1])\n",
    "r1.connect([n1, gnd])\n",
    "c1.connect([n1, n2])\n",
    "l1.connect([n2, gnd])\n",
    "r2.connect([n2, gnd])\n",
    "\n",
    "\n",
    "system = dpsimpy.SystemTopology(50, [gnd, n1, n2], [cs, r1, r2, c1, l1])\n",
    "\n",
    "logger = dpsimpy.Logger(model_name)\n",
    "logger.log_attribute('n1.v', 'v', n1)\n",
    "logger.log_attribute('n2.v', 'v', n2)\n",
    "logger.log_attribute('3_i_r1', 'i_intf', r1)\n",
    "logger.log_attribute('4_v_c1', 'v_intf', c1)\n",
    "logger.log_attribute('5_i_l1', 'i_intf', l1)\n",
    "logger.log_attribute('6_i_r2', 'i_intf', r2)\n",
    "\n",
    "# sim = dpsimpy.Simulation(model_name, system, timestep=time_step, duration=final_time, pbar=True, sim_type=1, log_level=1)\n",
    "sim = dpsimpy.Simulation(model_name)\n",
    "sim.set_system(system)\n",
    "sim.set_domain(dpsimpy.Domain.EMT)\n",
    "sim.add_logger(logger)\n",
    "sim.set_time_step(time_step)\n",
    "sim.set_final_time(final_time)\n",
    "sim.do_init_from_nodes_and_terminals(False)\n",
    "\n",
    "# initialize currents and voltages\n",
    "print(sim_pf.get_idobj_attr(n1_pf.name(), 'v').get()[0][0])\n",
    "r1.set_intf_current([[complex(5,0)]])\n",
    "r1.set_intf_voltage([[5]])\n",
    "r2.set_intf_current([[5]])\n",
    "r2.set_intf_voltage([[5]])\n",
    "c1.set_intf_current([[5]])\n",
    "c1.set_intf_voltage([[0]])\n",
    "l1.set_intf_current([[0]])\n",
    "l1.set_intf_voltage([[5]])\n",
    "\n",
    "sim.run()"
   ]
  },
  {
   "attachments": {},
   "cell_type": "markdown",
   "metadata": {},
   "source": [
    "## Read log"
   ]
  },
  {
   "cell_type": "code",
   "execution_count": null,
   "metadata": {},
   "outputs": [],
   "source": [
    "from villas.dataprocessing.readtools import *\n",
    "from villas.dataprocessing.timeseries import *\n",
    "import re\n",
    "\n",
    "work_dir = 'logs/'\n",
    "log_path = work_dir + model_name + '.csv'\n",
    "# log_lines, log_sections = read_dpsim_log(log_path)\n"
   ]
  },
  {
   "attachments": {},
   "cell_type": "markdown",
   "metadata": {},
   "source": [
    "## Read solution log"
   ]
  },
  {
   "cell_type": "code",
   "execution_count": null,
   "metadata": {},
   "outputs": [],
   "source": [
    "log_path = work_dir + model_name + '.csv'\n",
    "ts_dpsim_emt = read_timeseries_dpsim(log_path, print_status=False)\n",
    "\n",
    "# for key, val in ts_dpsim_emt.items():\n",
    "    # print(key + ': ' + str(val.values))"
   ]
  },
  {
   "cell_type": "markdown",
   "metadata": {},
   "source": [
    "## Plot results"
   ]
  },
  {
   "cell_type": "code",
   "execution_count": null,
   "metadata": {},
   "outputs": [],
   "source": [
    "import matplotlib.pyplot as plt\n",
    "\n",
    "#Extract plot data\n",
    "plot_data_1=ts_dpsim_emt[\"n1.v\"]\n",
    "y_values_1= np.asarray(plot_data_1.values)\n",
    "\n",
    "plot_data_2=ts_dpsim_emt[\"n2.v\"]\n",
    "y_values_2= np.asarray(plot_data_2.values)\n",
    "\n",
    "t = np.arange(npoint)*time_step\n",
    "\n",
    "plt.figure(figsize=(10,8))\n",
    "plt.xlabel('Time [s]')\n",
    "plt.ylabel('Voltage [V]')\n",
    "plt.axis([0, final_time+time_step , -2, 11])\n",
    "plt.scatter(t,y_values_1, label='$e_{1}$(t)')\n",
    "plt.scatter(t,y_values_2, label='$e_{2}$(t)')\n",
    "\n",
    "#show corresponding values on the plot\n",
    "for i in np.arange(3):\n",
    "    plt.annotate('  ' + str(np.round(y_values_1[i], 2)), (t[i], y_values_1[i]))\n",
    "    plt.annotate('  ' + str(np.round(y_values_2[i], 2)), (t[i], y_values_2[i]))\n",
    "plt.grid()\n",
    "plt.legend(loc='upper right')\n",
    "plt.show()"
   ]
  },
  {
   "cell_type": "code",
   "execution_count": null,
   "metadata": {},
   "outputs": [],
   "source": []
  }
 ],
 "metadata": {
  "kernelspec": {
   "display_name": "Python 3",
   "language": "python",
   "name": "python3"
  },
  "language_info": {
   "codemirror_mode": {
    "name": "ipython",
    "version": 3
   },
   "file_extension": ".py",
   "mimetype": "text/x-python",
   "name": "python",
   "nbconvert_exporter": "python",
   "pygments_lexer": "ipython3",
   "version": "3.9.13"
  },
  "orig_nbformat": 4,
  "vscode": {
   "interpreter": {
    "hash": "e7370f93d1d0cde622a1f8e1c04877d8463912d04d973331ad4851f04de6915a"
   }
  }
 },
 "nbformat": 4,
 "nbformat_minor": 2
}
