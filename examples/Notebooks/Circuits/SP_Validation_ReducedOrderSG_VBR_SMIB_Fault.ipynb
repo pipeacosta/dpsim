{
 "cells": [
  {
   "cell_type": "markdown",
   "metadata": {},
   "source": [
    "# Validation Reduced-Order SG VBR models & controllers with SMIB System"
   ]
  },
  {
   "cell_type": "markdown",
   "metadata": {},
   "source": [
    "## Import dpsimpy"
   ]
  },
  {
   "cell_type": "code",
   "execution_count": null,
   "metadata": {},
   "outputs": [],
   "source": [
    "import dpsimpy"
   ]
  },
  {
   "cell_type": "markdown",
   "metadata": {},
   "source": [
    "## Load PSAT Results"
   ]
  },
  {
   "cell_type": "code",
   "execution_count": null,
   "metadata": {},
   "outputs": [],
   "source": [
    "from villas.dataprocessing.readtools import *\n",
    "from villas.dataprocessing.timeseries import *\n",
    "import os\n",
    "import urllib.request\n",
    "\n",
    "if not os.path.exists('reference-results'):\n",
    "    os.mkdir('reference-results')\n",
    "\n",
    "url = 'https://raw.githubusercontent.com/dpsim-simulator/reference-results/master/PSAT/SMIB-Fault/PSAT_3OrderSyGen_SMIB_Fault_100mS_TS_1mS.out.txt'\n",
    "local_file_3Order = 'reference-results/PSAT_3OrderSyGen_SMIB_Fault_100mS_TS_1mS.out'\n",
    "urllib.request.urlretrieve(url, local_file_3Order) \n",
    "ts_psat_3Order = read_timeseries_dpsim(local_file_3Order)\n",
    "\n",
    "url = 'https://raw.githubusercontent.com/dpsim-simulator/reference-results/master/PSAT/SMIB-Fault/PSAT_4OrderSyGen_SMIB_Fault_100mS_TS_1mS.out.txt'\n",
    "local_file_4Order = 'reference-results/PSAT_4OrderSyGen_SMIB_Fault_100mS_TS_1mS.out'\n",
    "urllib.request.urlretrieve(url, local_file_4Order)\n",
    "ts_psat_4Order = read_timeseries_dpsim(local_file_4Order)\n",
    "\n",
    "url = 'https://raw.githubusercontent.com/dpsim-simulator/reference-results/master/PSAT/SMIB-Fault/PSAT_6OrderSyGen_SMIB_Fault_100mS_TS_1mS.out.txt'\n",
    "local_file_6Order = 'reference-results/PSAT_6OrderSyGen_SMIB_Fault_100mS_TS_1mS.out'\n",
    "urllib.request.urlretrieve(url, local_file_6Order)\n",
    "ts_psat_6Order = read_timeseries_dpsim(local_file_6Order)"
   ]
  },
  {
   "cell_type": "markdown",
   "metadata": {},
   "source": [
    "## Calculate $V_d$, $V_q$, $I_d$ and $I_q$ in PSAT"
   ]
  },
  {
   "cell_type": "markdown",
   "metadata": {},
   "source": [
    "### 3th Order Model"
   ]
  },
  {
   "cell_type": "code",
   "execution_count": null,
   "metadata": {},
   "outputs": [],
   "source": [
    "#calculate vd and vq\n",
    "angle = ts_psat_3Order['delta'].values - ts_psat_3Order['theta_bus1'].values\n",
    "V_bus1 = ts_psat_3Order['V_Bus1'].values\n",
    "vd = V_bus1 * np.sin(angle)\n",
    "ts_psat_3Order['vd'] = TimeSeries('vd', ts_psat_3Order['V_Bus1'].time, vd)\n",
    "vq = V_bus1 * np.cos(angle)\n",
    "ts_psat_3Order['vq'] = TimeSeries('vq', ts_psat_3Order['V_Bus1'].time, vq)\n",
    "\n",
    "#calculate id and iq in PSAT\n",
    "Xd_t = 0.299900\n",
    "Xq = 1.7600\n",
    "i_d = (ts_psat_3Order['eq_t'].values - ts_psat_3Order['vq'].values) / Xd_t\n",
    "ts_psat_3Order['id'] = TimeSeries('id', ts_psat_3Order['eq_t'].time, i_d)\n",
    "i_q = ts_psat_3Order['vd'].values / Xq\n",
    "ts_psat_3Order['iq'] = TimeSeries('iq', ts_psat_3Order['vd'].time, i_q)"
   ]
  },
  {
   "cell_type": "markdown",
   "metadata": {},
   "source": [
    "### 4th Order Model"
   ]
  },
  {
   "cell_type": "code",
   "execution_count": null,
   "metadata": {},
   "outputs": [],
   "source": [
    "#calculate vd and vq\n",
    "angle = ts_psat_4Order['delta'].values - ts_psat_4Order['theta_bus1'].values\n",
    "V_bus1 = ts_psat_4Order['V_Bus1'].values\n",
    "vd = V_bus1 * np.sin(angle)\n",
    "ts_psat_4Order['vd'] = TimeSeries('vd', ts_psat_4Order['V_Bus1'].time, vd)\n",
    "vq = V_bus1 * np.cos(angle)\n",
    "ts_psat_4Order['vq'] = TimeSeries('vq', ts_psat_4Order['V_Bus1'].time, vq)\n",
    "    \n",
    "#calculate id and iq in PSAT\n",
    "Xd = 0.299900\n",
    "Xq = 0.650000\n",
    "i_d = (ts_psat_4Order['eq_t'].values - ts_psat_4Order['vq'].values) / Xd\n",
    "ts_psat_4Order['id'] = TimeSeries('id', ts_psat_4Order['eq_t'].time, i_d)\n",
    "i_q = -(ts_psat_4Order['ed_t'].values - ts_psat_4Order['vd'].values) / Xq\n",
    "ts_psat_4Order['iq'] = TimeSeries('iq', ts_psat_4Order['ed_t'].time, i_q)"
   ]
  },
  {
   "cell_type": "markdown",
   "metadata": {},
   "source": [
    "### 6th Order Model (Marconato's model)"
   ]
  },
  {
   "cell_type": "code",
   "execution_count": null,
   "metadata": {},
   "outputs": [],
   "source": [
    "#calculate vd and vq\n",
    "angle = ts_psat_6Order['delta'].values - ts_psat_6Order['theta_bus1'].values\n",
    "V_bus1 = ts_psat_6Order['V_Bus1'].values\n",
    "vd = V_bus1 * np.sin(angle)\n",
    "ts_psat_6Order['vd'] = TimeSeries('vd', ts_psat_6Order['V_Bus1'].time, vd)\n",
    "vq = V_bus1 * np.cos(angle)\n",
    "ts_psat_6Order['vq'] = TimeSeries('vq', ts_psat_6Order['V_Bus1'].time, vq)\n",
    "\n",
    "#calculate id and iq in PSAT\\n\",\n",
    "Xd_s = 0.2299\n",
    "Xq_s = 0.2500\n",
    "i_d = (ts_psat_6Order['eq_s'].values - ts_psat_6Order['vq'].values) / Xd_s\n",
    "ts_psat_6Order['id'] = TimeSeries('id', ts_psat_6Order['eq_s'].time, i_d)\n",
    "i_q = -(ts_psat_6Order['ed_s'].values - ts_psat_6Order['vd'].values) / Xq_s\n",
    "ts_psat_6Order['iq'] = TimeSeries('iq', ts_psat_6Order['ed_s'].time, i_q)"
   ]
  },
  {
   "cell_type": "markdown",
   "metadata": {},
   "source": [
    "## Define nominal values"
   ]
  },
  {
   "cell_type": "code",
   "execution_count": null,
   "metadata": {},
   "outputs": [],
   "source": [
    "# nominal values (per unit)\n",
    "nominal_values = {}\n",
    "nominal_values['Te'] = 0.540541\n",
    "nominal_values['Edq0_0'] = 0.403062     #4th order model\n",
    "nominal_values['Edq0_1'] = 0.944802     #3th and 4th order model\n",
    "nominal_values['Edq0_t_0'] = 0.392200   #6 order model\n",
    "nominal_values['Edq0_t_1'] = 0.946405   #6 order model\n",
    "nominal_values['Edq0_s_0'] = 0.548309   #6 order model\n",
    "nominal_values['Edq0_s_1'] = 0.918731   #6 order model\n",
    "nominal_values['Vdq0_0'] = 0.639089\n",
    "nominal_values['Vdq0_1'] = 0.833106\n",
    "nominal_values['Idq0_0'] = 0.372443\n",
    "nominal_values['Idq0_1'] = 0.363119\n",
    "nominal_values['delta'] = 0.909230\n",
    "nominal_values['w_r'] = 1.0\n",
    "\n",
    "nominal_grid_voltage = 24e3\n",
    "\n",
    "#\n",
    "titles = {}\n",
    "titles['Te'] = 'Electrical Torque'\n",
    "titles['Edq0_0'] = 'd-component of the voltage behind the transient reactance'\n",
    "titles['Edq0_1'] = 'q-component of the voltage behind the transient reactance'\n",
    "titles['Edq0_t_0'] = 'd-component of the voltage behind the transient reactance'\n",
    "titles['Edq0_t_1'] = 'd-component of the voltage behind the transient reactance'\n",
    "titles['Edq0_s_0'] = 'd-component of the voltage behind the sub-transient reactance'\n",
    "titles['Edq0_s_1'] = 'd-component of the voltage behind the sub-transient reactance'\n",
    "titles['Vdq0_0'] = 'd-component of the terminal voltage'\n",
    "titles['Vdq0_1'] = 'q-component of the terminal voltage'\n",
    "titles['Idq0_0'] = 'd-component of the terminal current'\n",
    "titles['Idq0_1'] = 'q-component of the terminal current'\n",
    "titles['delta'] = 'Delta'\n",
    "titles['w_r'] = 'Mechanical Omega'\n",
    "\n",
    "#\n",
    "ylabels = {}\n",
    "ylabels['Te'] = 'Torque (p.u.)'\n",
    "ylabels['Edq0_0'] = 'Ed_t (p.u.)'\n",
    "ylabels['Edq0_1'] = 'Eq_t (p.u.)'\n",
    "ylabels['Edq0_t_0'] = 'Ed_t (p.u.)'\n",
    "ylabels['Edq0_t_1'] = 'Eq_t (p.u.)'\n",
    "ylabels['Edq0_s_0'] = 'Ed_s (p.u.)'\n",
    "ylabels['Edq0_s_1'] = 'Eq_s (p.u.)'\n",
    "ylabels['Vdq0_0'] = 'Vd (p.u.)'\n",
    "ylabels['Vdq0_1'] = 'Vq (p.u.)'\n",
    "ylabels['Idq0_0'] = 'Id (p.u.)'\n",
    "ylabels['Idq0_1'] = 'Iq (p.u.)'\n",
    "ylabels['delta'] = 'Delta (rad)'\n",
    "ylabels['w_r'] = 'w_r (p.u.)'"
   ]
  },
  {
   "cell_type": "markdown",
   "metadata": {},
   "source": [
    "## Declare plot function"
   ]
  },
  {
   "cell_type": "code",
   "execution_count": null,
   "metadata": {},
   "outputs": [],
   "source": [
    "import matplotlib.pyplot as plt\n",
    "\n",
    "timestep_common = 10e-6\n",
    "t_begin = 0\n",
    "t_end = 10\n",
    "begin_idx = int(t_begin/timestep_common)\n",
    "end_idx= int(t_end/timestep_common)\n",
    "time = np.linspace(t_begin, t_end, num=end_idx-begin_idx)\n",
    "\n",
    "#plot parameters\n",
    "width = 12\n",
    "height = 4\n",
    "\n",
    "def plot_variable(title, varname_dpsim, varname_psat, ts_dpsim, ts_psat, nominal_values, ylabels):\n",
    "    fig1 = plt.figure(figsize=(width, height))\n",
    "    dpsim_values = ts_dpsim[varname_dpsim].interpolate(timestep_common).values[begin_idx:end_idx]\n",
    "    psat_values = ts_psat[varname_psat].interpolate(timestep_common).values[begin_idx:end_idx]\n",
    "    plt.plot(time, dpsim_values, label='DPSim')\n",
    "    plt.plot(time, psat_values, '--', label='PSAT')\n",
    "    plt.legend(loc='lower right')\n",
    "    plt.xlabel('time (s)')\n",
    "    plt.ylabel(ylabels[varname_dpsim])\n",
    "    plt.grid()\n",
    "    plt.xlim([t_begin, t_end])\n",
    "    plt.show\n",
    "    \n",
    "    #calculate RMSE\n",
    "    nom_value = nominal_values[varname_dpsim]\n",
    "    rmse = np.sqrt(((dpsim_values - psat_values) ** 2).mean())\n",
    "    print('RMSE {:s}  = {:.6f} (pu), which is {:.3f}% of the nominal value = {:.3f} (pu) '.format(varname_dpsim, rmse, rmse/nom_value*100, nom_value))\n",
    "        \n",
    "    return rmse/nom_value*100\n",
    "\n",
    "def plot_node_volt_abs(varname_dpsim, varname_psat, ts_dpsim, ts_psat, nominal_voltage, ylabels):\n",
    "    \n",
    "    #convert dpsim voltage to magnitude value and per-unit for comparison with psat\n",
    "    dpsim_values_abs_pu = ts_dpsim[varname_dpsim].interpolate(timestep_common).abs().values[begin_idx:end_idx]/nominal_voltage\n",
    "    psat_values = ts_psat[varname_psat].interpolate(timestep_common).values[begin_idx:end_idx]\n",
    "    \n",
    "    fig1 = plt.figure(figsize=(width, height))\n",
    "    plt.plot(time, dpsim_values_abs_pu, label='DPSim')\n",
    "    plt.plot(time, psat_values, '--', label='PSAT')\n",
    "    plt.legend(loc='lower right')\n",
    "    plt.xlabel('time (s)')\n",
    "    plt.show\n",
    "      \n",
    "     #calculate RMSE\n",
    "    rmse = np.sqrt(((dpsim_values_abs_pu - psat_values) ** 2).mean())\n",
    "    print('RMSE {:s}  = {:.6f} (pu), which is {:.3f}% of the nominal value = {:.3f} (pu) '.format(varname_dpsim, rmse, rmse/1.0*100, 1.0))\n",
    "        \n",
    "    return rmse/1.0*100\n",
    "\n",
    "\n",
    "def plot_node_volt_angle(varname_dpsim, varname_psat, ts_dpsim, ts_psat, nominal_voltage, ylabels):\n",
    "    #limit rmse to post-fault evaluation\n",
    "    t_post_begin=1.1\n",
    "    t_post_end=t_end\n",
    "    begin_post_idx = int(t_post_begin/timestep_common)\n",
    "    end_post_idx= int(t_post_end/timestep_common)\n",
    "    time_post = np.linspace(begin_post_idx, end_post_idx, num=end_post_idx-begin_post_idx)\n",
    "    \n",
    "    dpsim_values = ts_dpsim[varname_dpsim].interpolate(timestep_common).phase().values[begin_idx:end_idx]\n",
    "    dpsim_values_post = dpsim_values[begin_post_idx:end_post_idx]\n",
    "    psat_values = ts_psat[varname_psat].interpolate(timestep_common).values[begin_idx:end_idx]/np.pi*180\n",
    "    psat_values_post = psat_values[begin_post_idx:end_post_idx]\n",
    "    \n",
    "    fig2 = plt.figure(figsize=(width, height))\n",
    "    plt.plot(time, dpsim_values, label='DPSim')\n",
    "    plt.plot(time, psat_values, '--', label='PSAT')\n",
    "    plt.legend(loc='lower right')\n",
    "    plt.xlabel('time (s)')\n",
    "    plt.show\n",
    "    \n",
    "     #calculate RMSE\n",
    "    rmse = np.sqrt(((dpsim_values_post - psat_values_post) ** 2).mean())\n",
    "    print('RMSE Post-Fault {:s}  = {:.6f} (deg)'.format(varname_dpsim, rmse))\n",
    "        \n",
    "    return rmse"
   ]
  },
  {
   "cell_type": "markdown",
   "metadata": {},
   "source": [
    "## Parametrization"
   ]
  },
  {
   "cell_type": "code",
   "execution_count": null,
   "metadata": {},
   "outputs": [],
   "source": [
    "from math import sqrt, pi\n",
    "\n",
    "### Power System\n",
    "nominal_voltage_hv = 230e3\n",
    "nominal_voltage_mv = 24e3\n",
    "ratio = nominal_voltage_mv/nominal_voltage_hv\n",
    "frequency = 60\n",
    "omega = 2 * pi * frequency\n",
    "\n",
    "### Generator\n",
    "nom_power = 555e6\n",
    "set_point_active_power = 300e6\n",
    "set_point_voltage = 1.05*nominal_voltage_mv\n",
    "H = 3.7\n",
    "Td0_t = 8.0669\n",
    "Td0_s = 0.0300\n",
    "Td_t = 1.3368\n",
    "Td_s = 0.0230\n",
    "Ld_t = 0.2999\n",
    "Ld_s = 0.2299\n",
    "Tq0_t = 0.9991\n",
    "Tq0_s = 0.0700\n",
    "Lq_t = 0.6500\n",
    "Lq_s = 0.2500\n",
    "Ld = 1.8099\n",
    "Lq = 1.7600\n",
    "L0 = 0.15\n",
    "Taa = 0\n",
    "\n",
    "### Excitation system\n",
    "Ka = 46\n",
    "Ta = 0.06\n",
    "Ke = -0.0435\n",
    "Te = 0.46\n",
    "Kf = 0.1\n",
    "Tf = 1\n",
    "Tr = 0.02\n",
    "\n",
    "### Turbine Goverour\n",
    "OmegaRef = 1.0\n",
    "R = 0.02\n",
    "Tmax = 1.2\n",
    "Tmin = 0.3\n",
    "Ts = 0.1\n",
    "Tc = 0.45\n",
    "T3 = 0.0\n",
    "T4 = 12.0\n",
    "T5 = 50.0\n",
    "        \n",
    "### PiLine parameters calculated from CIGRE Benchmark system\n",
    "line_length = 100\n",
    "line_resistance = 1.27e-4 * 529 * line_length * pow(ratio,2)\n",
    "line_inductance = 9.05e-4 * 529 / omega * line_length * pow(ratio,2)\n",
    "line_capacitance = (1.81e-3 / 529) / omega * line_length / pow(ratio,2)\n",
    "line_conductance = 0\n",
    "\n",
    "### Switch\n",
    "switch_closed = 0.001 * (24*24/555)\n",
    "switch_open = 1e6"
   ]
  },
  {
   "cell_type": "markdown",
   "metadata": {},
   "source": [
    "## Run powerflow for Initialization"
   ]
  },
  {
   "cell_type": "code",
   "execution_count": null,
   "metadata": {},
   "outputs": [],
   "source": [
    "sim_name_pf = \"SP_ReducedOrderSG_SMIB_\" + \"PF_\"\n",
    "dpsimpy.Logger.set_log_dir(\"logs/\" + sim_name_pf)\n",
    "\n",
    "### Nodes\n",
    "gnd_pf = dpsimpy.sp.SimNode.gnd\n",
    "n1_pf  = dpsimpy.sp.SimNode('n1_pf', dpsimpy.PhaseType.Single)\n",
    "n2_pf  = dpsimpy.sp.SimNode('n2_pf', dpsimpy.PhaseType.Single)\n",
    "\n",
    "### Components\n",
    "\n",
    "# syncrhon generator\n",
    "gen_pf = dpsimpy.sp.ph1.SynchronGenerator('gen_pf', dpsimpy.LogLevel.debug)\n",
    "gen_pf.set_parameters(rated_apparent_power=nom_power, rated_voltage=nominal_voltage_mv, \n",
    "                      set_point_active_power=set_point_active_power, set_point_voltage=set_point_voltage, \n",
    "                      powerflow_bus_type=dpsimpy.PowerflowBusType.PV)\n",
    "gen_pf.set_base_voltage(nominal_voltage_mv)\n",
    "gen_pf.modify_power_flow_bus_type(dpsimpy.PowerflowBusType.PV)\n",
    "\n",
    "# Grid bus as Slack\n",
    "extnet_pf = dpsimpy.sp.ph1.NetworkInjection(\"Slack\", dpsimpy.LogLevel.debug)\n",
    "extnet_pf.set_parameters(nominal_voltage_mv)\n",
    "extnet_pf.set_base_voltage(nominal_voltage_mv)\n",
    "extnet_pf.modify_power_flow_bus_type(dpsimpy.PowerflowBusType.VD)\n",
    "\n",
    "# PiLine\n",
    "pi_line_pf = dpsimpy.sp.ph1.PiLine('Pi_Line_pf', dpsimpy.LogLevel.debug)\n",
    "pi_line_pf.set_parameters(R=line_resistance, L=line_inductance, C=line_capacitance, G=line_conductance)\n",
    "pi_line_pf.set_base_voltage(nominal_voltage_mv)\n",
    "\n",
    "### Connections\n",
    "gen_pf.connect([n1_pf])\n",
    "pi_line_pf.connect([n2_pf, n1_pf])\n",
    "extnet_pf.connect([n2_pf])\n",
    "\n",
    "### Define system topology\n",
    "system_pf = dpsimpy.SystemTopology(frequency, [n1_pf, n2_pf], [gen_pf, pi_line_pf, extnet_pf])\n",
    "\n",
    "# Logging\n",
    "logger_pf = dpsimpy.Logger(sim_name_pf)\n",
    "logger_pf.log_attribute('n1.v', 'v', n1_pf)\n",
    "logger_pf.log_attribute('n2.v', 'v', n2_pf)\n",
    "logger_pf.log_attribute('p_inj', 'p_inj', extnet_pf)\n",
    "logger_pf.log_attribute('q_inj', 'q_inj', extnet_pf)\n",
    "\n",
    "sim_pf = dpsimpy.Simulation(sim_name_pf, dpsimpy.LogLevel.debug)\n",
    "sim_pf.set_system(system_pf)\n",
    "sim_pf.set_domain(dpsimpy.Domain.SP)\n",
    "sim_pf.set_solver(dpsimpy.Solver.NRP)\n",
    "sim_pf.set_solver_component_behaviour(dpsimpy.SolverBehaviour.Initialization)\n",
    "sim_pf.set_time_step(0.1)\n",
    "sim_pf.set_final_time(0.5)\n",
    "sim_pf.add_logger(logger_pf)\n",
    "sim_pf.run()"
   ]
  },
  {
   "cell_type": "markdown",
   "metadata": {},
   "source": [
    "## Declare DPSim Topology for SP simulations"
   ]
  },
  {
   "cell_type": "code",
   "execution_count": null,
   "metadata": {},
   "outputs": [],
   "source": [
    "def sp_reducedOrderSG_SMIB_fault(sim_pf, gen_pf, gen_model, final_time=20, time_step=0.001):\n",
    "    \n",
    "    # ## Extract relevant powerflow results\n",
    "    init_electrical_power = gen_pf.get_apparent_power()\n",
    "    init_mechanical_power = gen_pf.get_apparent_power().real\n",
    "\n",
    "    ### DPsim SP simulation\n",
    "    name = \"SP_ReducedOrderSG_SMIB_\" + gen_model\n",
    "    dpsimpy.Logger.set_log_dir(\"logs/\" + name)\n",
    "\n",
    "    ### Nodes\n",
    "    gnd = dpsimpy.sp.SimNode.gnd\n",
    "    n1 = dpsimpy.sp.SimNode('n1', dpsimpy.PhaseType.Single) \n",
    "    n1.set_initial_voltage(sim_pf.get_idobj_attr(n1_pf.name(), 'v').get()[0])\n",
    "\n",
    "    n2 = dpsimpy.sp.SimNode('n2', dpsimpy.PhaseType.Single)\n",
    "    n2.set_initial_voltage(sim_pf.get_idobj_attr(n2_pf.name(), 'v').get()[0])\n",
    "\n",
    "\n",
    "    ### Components\n",
    "\n",
    "    # syncrhon generator\n",
    "    gen = None\n",
    "    if (gen_model==\"3Order\"):\n",
    "        gen = dpsimpy.sp.ph1.SynchronGenerator3OrderVBR('gen', dpsimpy.LogLevel.debug)\n",
    "        gen.set_operational_parameters_per_unit(nom_power=nom_power, nom_voltage=nominal_voltage_mv, nom_frequency=frequency, \n",
    "                                                H=H, Ld=Ld, Lq=Lq, L0=L0, Ld_t=Ld_t, Td0_t=Td0_t)\n",
    "    elif (gen_model==\"4Order\"):\n",
    "        gen = dpsimpy.sp.ph1.SynchronGenerator4OrderVBR('gen', dpsimpy.LogLevel.debug)\n",
    "        gen.set_operational_parameters_per_unit(nom_power=nom_power, nom_voltage=nominal_voltage_mv, nom_frequency=frequency, \n",
    "                                                H=H, Ld=Ld, Lq=Lq, L0=L0, Ld_t=Ld_t, Lq_t=Lq_t, Td0_t=Td0_t, Tq0_t=Tq0_t)\t\t\n",
    "    elif (gen_model==\"6aOrder\"):\n",
    "        gen = dpsimpy.sp.ph1.SynchronGenerator6aOrderVBR('gen', dpsimpy.LogLevel.debug)\n",
    "        gen.set_operational_parameters_per_unit(nom_power=nom_power, nom_voltage=nominal_voltage_mv, nom_frequency=frequency, \n",
    "                                                H=H, Ld=Ld, Lq=Lq, L0=L0, Ld_t=Ld_t, Lq_t=Lq_t, Td0_t=Td0_t, Tq0_t=Tq0_t,\n",
    "                                                Ld_s=Ld_s, Lq_s=Lq_s, Td0_s=Td0_s, Tq0_s=Tq0_s, Taa=Taa)\t\n",
    "    elif (gen_model==\"6bOrder\"):\n",
    "        gen = dpsimpy.sp.ph1.SynchronGenerator6bOrderVBR('gen', dpsimpy.LogLevel.debug)\n",
    "        gen.set_operational_parameters_per_unit(nom_power=nom_power, nom_voltage=nominal_voltage_mv, nom_frequency=frequency, \n",
    "                                                H=H, Ld=Ld, Lq=Lq, L0=L0, Ld_t=Ld_t, Lq_t=Lq_t, Td0_t=Td0_t, Tq0_t=Tq0_t,\n",
    "                                                Ld_s=Ld_s, Lq_s=Lq_s, Td0_s=Td0_s, Tq0_s=Tq0_s)\t\t\n",
    "    gen.set_initial_values(init_complex_electrical_power=init_electrical_power, init_mechanical_power=init_mechanical_power, \n",
    "                           init_complex_terminal_voltage=sim_pf.get_idobj_attr(n1_pf.name(), 'v').get()[0][0])\n",
    "\n",
    "    # Switch\n",
    "    switch = dpsimpy.sp.ph1.Switch('Fault', dpsimpy.LogLevel.debug)\n",
    "    switch.set_parameters(switch_open, switch_closed)\n",
    "    switch.open()\n",
    "\n",
    "    # pi line\n",
    "    pi_line = dpsimpy.sp.ph1.PiLine('PiLine', dpsimpy.LogLevel.debug)\n",
    "    pi_line.set_parameters(R=line_resistance,\n",
    "                           L=line_inductance,\n",
    "                           C=line_capacitance,\n",
    "                           G=line_conductance)\n",
    "\n",
    "    # Slack\n",
    "    slack = dpsimpy.sp.ph1.NetworkInjection('slack', dpsimpy.LogLevel.debug)\n",
    "    slack.set_parameters(V_ref=nominal_voltage_mv)\n",
    "    \n",
    "    ### Connections\n",
    "    gen.connect([n1])\n",
    "    switch.connect([gnd, n1])\n",
    "    pi_line.connect([n1, n2])\n",
    "    slack.connect([n2])\n",
    "    \n",
    "    ### Define system topology\n",
    "    system = dpsimpy.SystemTopology(frequency, [n1, n2], [gen, pi_line, slack, switch])\n",
    "\n",
    "    ### Logging\n",
    "    logger = dpsimpy.Logger(name)\n",
    "    logger.log_attribute('n1.v', 'v', n1)\n",
    "    logger.log_attribute('n2.v', 'v', n2)\n",
    "    logger.log_attribute('Te', 'Te', gen)\n",
    "    logger.log_attribute('delta', 'delta', gen)\n",
    "    logger.log_attribute('w_r', 'w_r', gen)\n",
    "    logger.log_attribute('Vdq0', 'Vdq0', gen)\n",
    "    logger.log_attribute('Idq0', 'Idq0', gen)\n",
    "    logger.log_attribute('i_gen', 'i_intf', gen)\n",
    "    if (gen_model==\"6aOrder\" or gen_model==\"6bOrder\"):\n",
    "        logger.log_attribute(\"Edq0_s\", \"Edq_s\", gen)\n",
    "        logger.log_attribute(\"Edq0_t\", \"Edq_t\", gen)\n",
    "    else:\n",
    "        logger.log_attribute(\"Edq0\", \"Edq_t\", gen)\n",
    "    \n",
    "    ### Simulation\n",
    "    sim = dpsimpy.Simulation(name, dpsimpy.LogLevel.debug)\n",
    "    sim.set_system(system)\n",
    "    sim.do_init_from_nodes_and_terminals(True)\n",
    "    sim.set_domain(dpsimpy.Domain.SP)\n",
    "    sim.set_mna_solver_implementation(dpsimpy.MnaSolverImpl.EigenSparse)\n",
    "    sim.set_time_step(time_step)\n",
    "    sim.set_final_time(final_time)\n",
    "    sim.do_system_matrix_recomputation(True)\n",
    "    \n",
    "    sw_event_1 = dpsimpy.event.SwitchEvent(1.0, switch, True)\n",
    "    sim.add_event(sw_event_1)\n",
    "    \n",
    "    sw_event_2 = dpsimpy.event.SwitchEvent(1.1, switch, False)\n",
    "    sim.add_event(sw_event_2)\n",
    "\n",
    "    sim.add_logger(logger)\n",
    "    sim.run()\n",
    "    \n",
    "    return name"
   ]
  },
  {
   "cell_type": "markdown",
   "metadata": {},
   "source": [
    "## Run DPSim simulations (SP Domain)"
   ]
  },
  {
   "cell_type": "markdown",
   "metadata": {},
   "source": [
    "### 3th Order Model"
   ]
  },
  {
   "cell_type": "code",
   "execution_count": null,
   "metadata": {},
   "outputs": [],
   "source": [
    "log_name = sp_reducedOrderSG_SMIB_fault(sim_pf, gen_pf, \"3Order\")"
   ]
  },
  {
   "cell_type": "markdown",
   "metadata": {},
   "source": [
    "#### Read Results DPSim"
   ]
  },
  {
   "cell_type": "code",
   "execution_count": null,
   "metadata": {},
   "outputs": [],
   "source": [
    "# read Simulink log file\n",
    "\n",
    "file_path = os.getcwd() + \"/logs/\" + log_name + \"/\" + log_name + \".csv\"\n",
    "ts_dpsim_3Order = read_timeseries_dpsim(file_path)"
   ]
  },
  {
   "cell_type": "markdown",
   "metadata": {},
   "source": [
    "#### Plot and validate results"
   ]
  },
  {
   "cell_type": "markdown",
   "metadata": {},
   "source": [
    "##### Electrical torque"
   ]
  },
  {
   "cell_type": "code",
   "execution_count": null,
   "metadata": {},
   "outputs": [],
   "source": [
    "varname_dpsim = \"Te\"\n",
    "varname_psat = \"p\"\n",
    "\n",
    "rmse_torque = plot_variable(titles, varname_dpsim, varname_psat, ts_dpsim_3Order, ts_psat_3Order, nominal_values, ylabels)"
   ]
  },
  {
   "cell_type": "markdown",
   "metadata": {},
   "source": [
    "##### $E_q^{'}$"
   ]
  },
  {
   "cell_type": "code",
   "execution_count": null,
   "metadata": {},
   "outputs": [],
   "source": [
    "varname_dpsim = \"Edq0_1\"\n",
    "varname_psat = \"eq_t\"\n",
    "\n",
    "rmse_eq = plot_variable(titles, varname_dpsim, varname_psat, ts_dpsim_3Order, ts_psat_3Order, nominal_values, ylabels)"
   ]
  },
  {
   "cell_type": "markdown",
   "metadata": {},
   "source": [
    "##### $V_d$"
   ]
  },
  {
   "cell_type": "code",
   "execution_count": null,
   "metadata": {},
   "outputs": [],
   "source": [
    "varname_dpsim = \"Vdq0_0\"\n",
    "varname_psat = \"vd\"\n",
    "\n",
    "rmse_vd = plot_variable(titles, varname_dpsim, varname_psat, ts_dpsim_3Order, ts_psat_3Order, nominal_values, ylabels)"
   ]
  },
  {
   "cell_type": "markdown",
   "metadata": {},
   "source": [
    "##### $V_q$"
   ]
  },
  {
   "cell_type": "code",
   "execution_count": null,
   "metadata": {},
   "outputs": [],
   "source": [
    "varname_dpsim = \"Vdq0_1\"\n",
    "varname_psat = \"vq\"\n",
    "\n",
    "rmse_vq = plot_variable(titles, varname_dpsim, varname_psat, ts_dpsim_3Order, ts_psat_3Order, nominal_values, ylabels)"
   ]
  },
  {
   "cell_type": "markdown",
   "metadata": {},
   "source": [
    "##### $I_d$"
   ]
  },
  {
   "cell_type": "code",
   "execution_count": null,
   "metadata": {},
   "outputs": [],
   "source": [
    "varname_dpsim = \"Idq0_0\"\n",
    "varname_psat = \"id\"\n",
    "\n",
    "rmse_id = plot_variable(titles, varname_dpsim, varname_psat, ts_dpsim_3Order, ts_psat_3Order, nominal_values, ylabels)"
   ]
  },
  {
   "cell_type": "markdown",
   "metadata": {},
   "source": [
    "##### $I_q$"
   ]
  },
  {
   "cell_type": "code",
   "execution_count": null,
   "metadata": {},
   "outputs": [],
   "source": [
    "varname_dpsim = \"Idq0_1\"\n",
    "varname_psat = \"iq\"\n",
    "\n",
    "rmse_iq = plot_variable(titles, varname_dpsim, varname_psat, ts_dpsim_3Order, ts_psat_3Order, nominal_values, ylabels)"
   ]
  },
  {
   "cell_type": "markdown",
   "metadata": {},
   "source": [
    "##### Delta"
   ]
  },
  {
   "cell_type": "code",
   "execution_count": null,
   "metadata": {},
   "outputs": [],
   "source": [
    "varname_dpsim = \"delta\"\n",
    "varname_psat = \"delta\"\n",
    "\n",
    "rmse_delta = plot_variable(titles, varname_dpsim, varname_psat, ts_dpsim_3Order, ts_psat_3Order, nominal_values, ylabels)"
   ]
  },
  {
   "cell_type": "markdown",
   "metadata": {},
   "source": [
    "##### Mechanical Omega"
   ]
  },
  {
   "cell_type": "code",
   "execution_count": null,
   "metadata": {},
   "outputs": [],
   "source": [
    "varname_dpsim = \"w_r\"\n",
    "varname_psat = \"omega\"\n",
    "\n",
    "rmse_omega = plot_variable(titles, varname_dpsim, varname_psat, ts_dpsim_3Order, ts_psat_3Order, nominal_values, ylabels)"
   ]
  },
  {
   "cell_type": "markdown",
   "metadata": {},
   "source": [
    "##### Grid voltages"
   ]
  },
  {
   "cell_type": "code",
   "execution_count": null,
   "metadata": {},
   "outputs": [],
   "source": [
    "varname_dpsim = \"n1.v\"\n",
    "varname_psat = \"V_Bus1\"\n",
    "\n",
    "rmse_v1_abs = plot_node_volt_abs(varname_dpsim, varname_psat, ts_dpsim_3Order, ts_psat_3Order, nominal_grid_voltage, ylabels)"
   ]
  },
  {
   "cell_type": "code",
   "execution_count": null,
   "metadata": {},
   "outputs": [],
   "source": [
    "varname_dpsim = \"n1.v\"\n",
    "varname_psat = \"theta_bus1\"\n",
    "\n",
    "rmse_v1_angle = plot_node_volt_angle(varname_dpsim, varname_psat, ts_dpsim_3Order, ts_psat_3Order, nominal_grid_voltage, ylabels)"
   ]
  },
  {
   "cell_type": "code",
   "execution_count": null,
   "metadata": {},
   "outputs": [],
   "source": [
    "varname_dpsim = \"n2.v\"\n",
    "varname_psat = \"V_Bus3\"\n",
    "\n",
    "rmse_v2_abs = plot_node_volt_abs(varname_dpsim, varname_psat, ts_dpsim_3Order, ts_psat_3Order, nominal_grid_voltage, ylabels)"
   ]
  },
  {
   "cell_type": "code",
   "execution_count": null,
   "metadata": {},
   "outputs": [],
   "source": [
    "varname_dpsim = \"n2.v\"\n",
    "varname_psat = \"theta_bus3\"\n",
    "\n",
    "rmse_v2_angle = plot_node_volt_angle(varname_dpsim, varname_psat, ts_dpsim_3Order, ts_psat_3Order, nominal_grid_voltage, ylabels)"
   ]
  },
  {
   "cell_type": "markdown",
   "metadata": {},
   "source": [
    "#### Assert"
   ]
  },
  {
   "cell_type": "code",
   "execution_count": null,
   "metadata": {},
   "outputs": [],
   "source": [
    "tol = 1.3 # %\n",
    "tol_id = 7 # %\n",
    "tol_deg_v1 = 0.16 # deg\n",
    "tol_deg_v2 = 1e-12 # deg\n",
    "\n",
    "assert(rmse_torque<tol)\n",
    "assert(rmse_eq<tol)\n",
    "assert(rmse_vd<tol)\n",
    "assert(rmse_vq<tol)\n",
    "assert(rmse_id<tol_id)\n",
    "assert(rmse_iq<tol)\n",
    "assert(rmse_delta<tol)\n",
    "assert(rmse_omega<tol)\n",
    "assert(rmse_v1_abs<tol)\n",
    "assert(rmse_v2_abs<tol)\n",
    "assert(rmse_v1_angle<tol_deg_v1)\n",
    "assert(rmse_v2_angle<tol_deg_v2)"
   ]
  },
  {
   "cell_type": "markdown",
   "metadata": {},
   "source": [
    "### 4th Order Model"
   ]
  },
  {
   "cell_type": "code",
   "execution_count": null,
   "metadata": {},
   "outputs": [],
   "source": [
    "log_name = sp_reducedOrderSG_SMIB_fault(sim_pf, gen_pf, \"4Order\")"
   ]
  },
  {
   "cell_type": "markdown",
   "metadata": {},
   "source": [
    "#### Read Results DPSim"
   ]
  },
  {
   "cell_type": "code",
   "execution_count": null,
   "metadata": {},
   "outputs": [],
   "source": [
    "# read Simulink log file\n",
    "\n",
    "file_path = os.getcwd() + \"/logs/\" + log_name + \"/\" + log_name + \".csv\"\n",
    "ts_dpsim_4Order = read_timeseries_dpsim(file_path)"
   ]
  },
  {
   "cell_type": "markdown",
   "metadata": {},
   "source": [
    "#### Plot and validate results"
   ]
  },
  {
   "cell_type": "markdown",
   "metadata": {},
   "source": [
    "##### Electrical torque"
   ]
  },
  {
   "cell_type": "code",
   "execution_count": null,
   "metadata": {},
   "outputs": [],
   "source": [
    "varname_dpsim = \"Te\"\n",
    "varname_psat = \"p\"\n",
    "\n",
    "rmse_torque = plot_variable(titles, varname_dpsim, varname_psat, ts_dpsim_4Order, ts_psat_4Order, nominal_values, ylabels)"
   ]
  },
  {
   "cell_type": "markdown",
   "metadata": {},
   "source": [
    "##### $E_d^{'}$"
   ]
  },
  {
   "cell_type": "code",
   "execution_count": null,
   "metadata": {},
   "outputs": [],
   "source": [
    "varname_dpsim = \"Edq0_0\"\n",
    "varname_psat = \"ed_t\"\n",
    "\n",
    "rmse_ed = plot_variable(titles, varname_dpsim, varname_psat, ts_dpsim_4Order, ts_psat_4Order, nominal_values, ylabels)"
   ]
  },
  {
   "cell_type": "markdown",
   "metadata": {},
   "source": [
    "##### $E_q^{'}$"
   ]
  },
  {
   "cell_type": "code",
   "execution_count": null,
   "metadata": {},
   "outputs": [],
   "source": [
    "varname_dpsim = \"Edq0_1\"\n",
    "varname_psat = \"eq_t\"\n",
    "\n",
    "rmse_eq = plot_variable(titles, varname_dpsim, varname_psat, ts_dpsim_4Order, ts_psat_4Order, nominal_values, ylabels)"
   ]
  },
  {
   "cell_type": "markdown",
   "metadata": {},
   "source": [
    "##### $V_d$"
   ]
  },
  {
   "cell_type": "code",
   "execution_count": null,
   "metadata": {},
   "outputs": [],
   "source": [
    "varname_dpsim = \"Vdq0_0\"\n",
    "varname_psat = \"vd\"\n",
    "\n",
    "rmse_vd = plot_variable(titles, varname_dpsim, varname_psat, ts_dpsim_4Order, ts_psat_4Order, nominal_values, ylabels)"
   ]
  },
  {
   "cell_type": "markdown",
   "metadata": {},
   "source": [
    "##### $V_q$"
   ]
  },
  {
   "cell_type": "code",
   "execution_count": null,
   "metadata": {},
   "outputs": [],
   "source": [
    "varname_dpsim = \"Vdq0_1\"\n",
    "varname_psat = \"vq\"\n",
    "\n",
    "rmse_vq = plot_variable(titles, varname_dpsim, varname_psat, ts_dpsim_4Order, ts_psat_4Order, nominal_values, ylabels)"
   ]
  },
  {
   "cell_type": "markdown",
   "metadata": {},
   "source": [
    "##### $I_d$"
   ]
  },
  {
   "cell_type": "code",
   "execution_count": null,
   "metadata": {},
   "outputs": [],
   "source": [
    "varname_dpsim = \"Idq0_0\"\n",
    "varname_psat = \"id\"\n",
    "\n",
    "rmse_id = plot_variable(titles, varname_dpsim, varname_psat, ts_dpsim_4Order, ts_psat_4Order, nominal_values, ylabels)"
   ]
  },
  {
   "cell_type": "markdown",
   "metadata": {},
   "source": [
    "##### $I_q$"
   ]
  },
  {
   "cell_type": "code",
   "execution_count": null,
   "metadata": {},
   "outputs": [],
   "source": [
    "varname_dpsim = \"Idq0_1\"\n",
    "varname_psat = \"iq\"\n",
    "\n",
    "rmse_iq = plot_variable(titles, varname_dpsim, varname_psat, ts_dpsim_4Order, ts_psat_4Order, nominal_values, ylabels)"
   ]
  },
  {
   "cell_type": "markdown",
   "metadata": {},
   "source": [
    "##### Delta"
   ]
  },
  {
   "cell_type": "code",
   "execution_count": null,
   "metadata": {},
   "outputs": [],
   "source": [
    "varname_dpsim = \"delta\"\n",
    "varname_psat = \"delta\"\n",
    "\n",
    "rmse_delta = plot_variable(titles, varname_dpsim, varname_psat, ts_dpsim_4Order, ts_psat_4Order, nominal_values, ylabels)"
   ]
  },
  {
   "cell_type": "markdown",
   "metadata": {},
   "source": [
    "##### Mechanical Omega"
   ]
  },
  {
   "cell_type": "code",
   "execution_count": null,
   "metadata": {},
   "outputs": [],
   "source": [
    "varname_dpsim = \"w_r\"\n",
    "varname_psat = \"omega\"\n",
    "\n",
    "rmse_omega = plot_variable(titles, varname_dpsim, varname_psat, ts_dpsim_4Order, ts_psat_4Order, nominal_values, ylabels)"
   ]
  },
  {
   "cell_type": "markdown",
   "metadata": {},
   "source": [
    "##### Grid voltages"
   ]
  },
  {
   "cell_type": "code",
   "execution_count": null,
   "metadata": {},
   "outputs": [],
   "source": [
    "varname_dpsim = \"n1.v\"\n",
    "varname_psat = \"V_Bus1\"\n",
    "\n",
    "rmse_v1_abs = plot_node_volt_abs(varname_dpsim, varname_psat, ts_dpsim_4Order, ts_psat_4Order, nominal_grid_voltage, ylabels)"
   ]
  },
  {
   "cell_type": "code",
   "execution_count": null,
   "metadata": {},
   "outputs": [],
   "source": [
    "varname_dpsim = \"n1.v\"\n",
    "varname_psat = \"theta_bus1\"\n",
    "\n",
    "rmse_v1_angle = plot_node_volt_angle(varname_dpsim, varname_psat, ts_dpsim_4Order, ts_psat_4Order, nominal_grid_voltage, ylabels)"
   ]
  },
  {
   "cell_type": "code",
   "execution_count": null,
   "metadata": {},
   "outputs": [],
   "source": [
    "varname_dpsim = \"n2.v\"\n",
    "varname_psat = \"V_Bus3\"\n",
    "\n",
    "rmse_v2_abs = plot_node_volt_abs(varname_dpsim, varname_psat, ts_dpsim_4Order, ts_psat_4Order, nominal_grid_voltage, ylabels)"
   ]
  },
  {
   "cell_type": "code",
   "execution_count": null,
   "metadata": {},
   "outputs": [],
   "source": [
    "varname_dpsim = \"n2.v\"\n",
    "varname_psat = \"theta_bus3\"\n",
    "\n",
    "rmse_v2_angle = plot_node_volt_angle(varname_dpsim, varname_psat, ts_dpsim_4Order, ts_psat_4Order, nominal_grid_voltage, ylabels)"
   ]
  },
  {
   "cell_type": "markdown",
   "metadata": {},
   "source": [
    "#### Assert"
   ]
  },
  {
   "cell_type": "code",
   "execution_count": null,
   "metadata": {},
   "outputs": [],
   "source": [
    "tol = 1 # %\n",
    "tol_id = 6 # %\n",
    "tol_iq = 2.3 # %\n",
    "tol_deg_v1 = 0.2 # deg\n",
    "tol_deg_v2 = 1e-12 # deg\n",
    "\n",
    "assert(rmse_torque<tol)\n",
    "assert(rmse_ed<tol)\n",
    "assert(rmse_eq<tol)\n",
    "assert(rmse_vd<tol)\n",
    "assert(rmse_vq<tol)\n",
    "assert(rmse_id<tol_id)\n",
    "assert(rmse_iq<tol_iq)\n",
    "assert(rmse_delta<tol)\n",
    "assert(rmse_omega<tol)\n",
    "assert(rmse_v1_abs<tol)\n",
    "assert(rmse_v2_abs<tol)\n",
    "assert(rmse_v1_angle<tol_deg_v1)\n",
    "assert(rmse_v2_angle<tol_deg_v2)"
   ]
  },
  {
   "cell_type": "markdown",
   "metadata": {},
   "source": [
    "### 6th Order Model (Marconato's model)"
   ]
  },
  {
   "cell_type": "code",
   "execution_count": null,
   "metadata": {},
   "outputs": [],
   "source": [
    "log_name = sp_reducedOrderSG_SMIB_fault(sim_pf, gen_pf, \"6aOrder\")"
   ]
  },
  {
   "cell_type": "markdown",
   "metadata": {},
   "source": [
    "#### Read DPSim results"
   ]
  },
  {
   "cell_type": "code",
   "execution_count": null,
   "metadata": {},
   "outputs": [],
   "source": [
    "# read Simulink log file\n",
    "\n",
    "file_path = os.getcwd() + \"/logs/\" + log_name + \"/\" + log_name + \".csv\"\n",
    "ts_dpsim_6aOrder = read_timeseries_dpsim(file_path)"
   ]
  },
  {
   "cell_type": "markdown",
   "metadata": {},
   "source": [
    "#### Plot and validate results"
   ]
  },
  {
   "cell_type": "markdown",
   "metadata": {},
   "source": [
    "##### Electrical Torque"
   ]
  },
  {
   "cell_type": "code",
   "execution_count": null,
   "metadata": {},
   "outputs": [],
   "source": [
    "varname_dpsim = \"Te\"\n",
    "varname_psat = \"p\"\n",
    "\n",
    "rmse_torque = plot_variable(titles, varname_dpsim, varname_psat, ts_dpsim_6aOrder, ts_psat_6Order, nominal_values, ylabels)"
   ]
  },
  {
   "cell_type": "markdown",
   "metadata": {},
   "source": [
    "##### $E_d^{'}$"
   ]
  },
  {
   "cell_type": "code",
   "execution_count": null,
   "metadata": {},
   "outputs": [],
   "source": [
    "varname_dpsim = \"Edq0_t_0\"\n",
    "varname_psat = \"ed_t\"\n",
    "\n",
    "rmse_ed = plot_variable(titles, varname_dpsim, varname_psat, ts_dpsim_6aOrder, ts_psat_6Order, nominal_values, ylabels)"
   ]
  },
  {
   "cell_type": "markdown",
   "metadata": {},
   "source": [
    "##### $E_q^{'}$"
   ]
  },
  {
   "cell_type": "code",
   "execution_count": null,
   "metadata": {},
   "outputs": [],
   "source": [
    "varname_dpsim = \"Edq0_t_1\"\n",
    "varname_psat = \"eq_t\"\n",
    "\n",
    "rmse_eq = plot_variable(titles, varname_dpsim, varname_psat, ts_dpsim_6aOrder, ts_psat_6Order, nominal_values, ylabels)"
   ]
  },
  {
   "cell_type": "markdown",
   "metadata": {},
   "source": [
    "##### $E_d^{''}$"
   ]
  },
  {
   "cell_type": "code",
   "execution_count": null,
   "metadata": {},
   "outputs": [],
   "source": [
    "varname_dpsim = \"Edq0_s_0\"\n",
    "varname_psat = \"ed_s\"\n",
    "\n",
    "rmse_ed_s = plot_variable(titles, varname_dpsim, varname_psat, ts_dpsim_6aOrder, ts_psat_6Order, nominal_values, ylabels)"
   ]
  },
  {
   "cell_type": "markdown",
   "metadata": {},
   "source": [
    "##### $E_q^{''}$"
   ]
  },
  {
   "cell_type": "code",
   "execution_count": null,
   "metadata": {},
   "outputs": [],
   "source": [
    "varname_dpsim = \"Edq0_s_1\"\n",
    "varname_psat = \"eq_s\"\n",
    "\n",
    "rmse_eq_s = plot_variable(titles, varname_dpsim, varname_psat, ts_dpsim_6aOrder, ts_psat_6Order, nominal_values, ylabels)"
   ]
  },
  {
   "cell_type": "markdown",
   "metadata": {},
   "source": [
    "##### $V_d$"
   ]
  },
  {
   "cell_type": "code",
   "execution_count": null,
   "metadata": {},
   "outputs": [],
   "source": [
    "varname_dpsim = \"Vdq0_0\"\n",
    "varname_psat = \"vd\"\n",
    "\n",
    "rmse_vd = plot_variable(titles, varname_dpsim, varname_psat, ts_dpsim_6aOrder, ts_psat_6Order, nominal_values, ylabels)"
   ]
  },
  {
   "cell_type": "markdown",
   "metadata": {},
   "source": [
    "##### $V_q$"
   ]
  },
  {
   "cell_type": "code",
   "execution_count": null,
   "metadata": {},
   "outputs": [],
   "source": [
    "varname_dpsim = \"Vdq0_1\"\n",
    "varname_psat = \"vq\"\n",
    "\n",
    "rmse_vq = plot_variable(titles, varname_dpsim, varname_psat, ts_dpsim_6aOrder, ts_psat_6Order, nominal_values, ylabels)"
   ]
  },
  {
   "cell_type": "markdown",
   "metadata": {},
   "source": [
    "##### $I_d$"
   ]
  },
  {
   "cell_type": "code",
   "execution_count": null,
   "metadata": {},
   "outputs": [],
   "source": [
    "varname_dpsim = \"Idq0_0\"\n",
    "varname_psat = \"id\"\n",
    "\n",
    "rmse_id = plot_variable(titles, varname_dpsim, varname_psat, ts_dpsim_6aOrder, ts_psat_6Order, nominal_values, ylabels)"
   ]
  },
  {
   "cell_type": "markdown",
   "metadata": {},
   "source": [
    "##### $I_q$"
   ]
  },
  {
   "cell_type": "code",
   "execution_count": null,
   "metadata": {},
   "outputs": [],
   "source": [
    "varname_dpsim = \"Idq0_1\"\n",
    "varname_psat = \"iq\"\n",
    "\n",
    "rmse_iq = plot_variable(titles, varname_dpsim, varname_psat, ts_dpsim_6aOrder, ts_psat_6Order, nominal_values, ylabels)"
   ]
  },
  {
   "cell_type": "markdown",
   "metadata": {},
   "source": [
    "##### Delta"
   ]
  },
  {
   "cell_type": "code",
   "execution_count": null,
   "metadata": {},
   "outputs": [],
   "source": [
    "varname_dpsim = \"delta\"\n",
    "varname_psat = \"delta\"\n",
    "\n",
    "rmse_delta = plot_variable(titles, varname_dpsim, varname_psat, ts_dpsim_6aOrder, ts_psat_6Order, nominal_values, ylabels)"
   ]
  },
  {
   "cell_type": "markdown",
   "metadata": {},
   "source": [
    "##### Mechanical omega"
   ]
  },
  {
   "cell_type": "code",
   "execution_count": null,
   "metadata": {},
   "outputs": [],
   "source": [
    "varname_dpsim = \"w_r\"\n",
    "varname_psat = \"omega\"\n",
    "\n",
    "rmse_omega = plot_variable(titles, varname_dpsim, varname_psat, ts_dpsim_6aOrder, ts_psat_6Order, nominal_values, ylabels)"
   ]
  },
  {
   "cell_type": "markdown",
   "metadata": {},
   "source": [
    "##### Grid voltages"
   ]
  },
  {
   "cell_type": "code",
   "execution_count": null,
   "metadata": {},
   "outputs": [],
   "source": [
    "varname_dpsim = \"n1.v\"\n",
    "varname_psat = \"V_Bus1\"\n",
    "\n",
    "rmse_v1_abs = plot_node_volt_abs(varname_dpsim, varname_psat, ts_dpsim_6aOrder, ts_psat_6Order, nominal_grid_voltage, ylabels)"
   ]
  },
  {
   "cell_type": "code",
   "execution_count": null,
   "metadata": {},
   "outputs": [],
   "source": [
    "varname_dpsim = \"n1.v\"\n",
    "varname_psat = \"theta_bus1\"\n",
    "\n",
    "rmse_v1_angle = plot_node_volt_angle(varname_dpsim, varname_psat, ts_dpsim_6aOrder, ts_psat_6Order, nominal_grid_voltage, ylabels)"
   ]
  },
  {
   "cell_type": "code",
   "execution_count": null,
   "metadata": {},
   "outputs": [],
   "source": [
    "varname_dpsim = \"n2.v\"\n",
    "varname_psat = \"V_Bus3\"\n",
    "\n",
    "rmse_v2_abs = plot_node_volt_abs(varname_dpsim, varname_psat, ts_dpsim_6aOrder, ts_psat_6Order, nominal_grid_voltage, ylabels)"
   ]
  },
  {
   "cell_type": "code",
   "execution_count": null,
   "metadata": {},
   "outputs": [],
   "source": [
    "varname_dpsim = \"n2.v\"\n",
    "varname_psat = \"theta_bus3\"\n",
    "\n",
    "rmse_v2_angle = plot_node_volt_angle(varname_dpsim, varname_psat, ts_dpsim_6aOrder, ts_psat_6Order, nominal_grid_voltage, ylabels)"
   ]
  },
  {
   "cell_type": "markdown",
   "metadata": {},
   "source": [
    "### Assert"
   ]
  },
  {
   "cell_type": "code",
   "execution_count": null,
   "metadata": {},
   "outputs": [],
   "source": [
    "tol = 1.3 #%\n",
    "tol_id = 7.3\n",
    "tol_iq = 4.8\n",
    "tol_deg_v1 = 0.13 # deg\n",
    "tol_deg_v2 = 1e-12 # deg\n",
    "\n",
    "assert(rmse_torque<tol)\n",
    "assert(rmse_ed<tol)\n",
    "assert(rmse_eq<tol)\n",
    "assert(rmse_ed_s<tol)\n",
    "assert(rmse_eq_s<tol)\n",
    "assert(rmse_vd<tol)\n",
    "assert(rmse_vq<tol)\n",
    "assert(rmse_id<tol_id)\n",
    "assert(rmse_iq<tol_iq)\n",
    "assert(rmse_delta<tol)\n",
    "assert(rmse_omega<tol)\n",
    "assert(rmse_v1_abs<tol)\n",
    "assert(rmse_v2_abs<tol)\n",
    "assert(rmse_v1_angle<tol_deg_v1)\n",
    "assert(rmse_v2_angle<tol_deg_v2)"
   ]
  },
  {
   "cell_type": "markdown",
   "metadata": {},
   "source": [
    "### Validation 6th Order Model (Anderson-Fouad's model)"
   ]
  },
  {
   "cell_type": "code",
   "execution_count": null,
   "metadata": {},
   "outputs": [],
   "source": [
    "log_name = sp_reducedOrderSG_SMIB_fault(sim_pf, gen_pf, \"6bOrder\")"
   ]
  },
  {
   "cell_type": "markdown",
   "metadata": {},
   "source": [
    "#### Read DPSim Results"
   ]
  },
  {
   "cell_type": "code",
   "execution_count": null,
   "metadata": {},
   "outputs": [],
   "source": [
    "# read Simulink log file\n",
    "\n",
    "file_path = os.getcwd() + \"/logs/\" + log_name + \"/\" + log_name + \".csv\"\n",
    "ts_dpsim_6bOrder = read_timeseries_dpsim(file_path)"
   ]
  },
  {
   "cell_type": "markdown",
   "metadata": {},
   "source": [
    "#### Plot and validate results"
   ]
  },
  {
   "cell_type": "markdown",
   "metadata": {},
   "source": [
    "##### Electrical Torque"
   ]
  },
  {
   "cell_type": "code",
   "execution_count": null,
   "metadata": {},
   "outputs": [],
   "source": [
    "varname_dpsim = \"Te\"\n",
    "varname_psat = \"p\"\n",
    "\n",
    "rmse_torque = plot_variable(titles, varname_dpsim, varname_psat, ts_dpsim_6bOrder, ts_psat_6Order, nominal_values, ylabels)"
   ]
  },
  {
   "cell_type": "markdown",
   "metadata": {},
   "source": [
    "##### $V_d$"
   ]
  },
  {
   "cell_type": "code",
   "execution_count": null,
   "metadata": {},
   "outputs": [],
   "source": [
    "varname_dpsim = \"Vdq0_0\"\n",
    "varname_psat = \"vd\"\n",
    "\n",
    "rmse_vd = plot_variable(titles, varname_dpsim, varname_psat, ts_dpsim_6bOrder, ts_psat_6Order, nominal_values, ylabels)"
   ]
  },
  {
   "cell_type": "markdown",
   "metadata": {},
   "source": [
    "##### $V_q$"
   ]
  },
  {
   "cell_type": "code",
   "execution_count": null,
   "metadata": {},
   "outputs": [],
   "source": [
    "varname_dpsim = \"Vdq0_1\"\n",
    "varname_psat = \"vq\"\n",
    "\n",
    "rmse_vq = plot_variable(titles, varname_dpsim, varname_psat, ts_dpsim_6bOrder, ts_psat_6Order, nominal_values, ylabels)"
   ]
  },
  {
   "cell_type": "markdown",
   "metadata": {},
   "source": [
    "##### $I_d$"
   ]
  },
  {
   "cell_type": "code",
   "execution_count": null,
   "metadata": {},
   "outputs": [],
   "source": [
    "varname_dpsim = \"Idq0_0\"\n",
    "varname_psat = \"id\"\n",
    "\n",
    "rmse_id = plot_variable(titles, varname_dpsim, varname_psat, ts_dpsim_6bOrder, ts_psat_6Order, nominal_values, ylabels)"
   ]
  },
  {
   "cell_type": "markdown",
   "metadata": {},
   "source": [
    "##### $I_q$"
   ]
  },
  {
   "cell_type": "code",
   "execution_count": null,
   "metadata": {},
   "outputs": [],
   "source": [
    "varname_dpsim = \"Idq0_1\"\n",
    "varname_psat = \"iq\"\n",
    "\n",
    "rmse_iq = plot_variable(titles, varname_dpsim, varname_psat, ts_dpsim_6bOrder, ts_psat_6Order, nominal_values, ylabels)"
   ]
  },
  {
   "cell_type": "markdown",
   "metadata": {},
   "source": [
    "##### Delta"
   ]
  },
  {
   "cell_type": "code",
   "execution_count": null,
   "metadata": {},
   "outputs": [],
   "source": [
    "varname_dpsim = \"delta\"\n",
    "varname_psat = \"delta\"\n",
    "\n",
    "rmse_delta = plot_variable(titles, varname_dpsim, varname_psat, ts_dpsim_6bOrder, ts_psat_6Order, nominal_values, ylabels)"
   ]
  },
  {
   "cell_type": "markdown",
   "metadata": {},
   "source": [
    "##### Mechanical omega"
   ]
  },
  {
   "cell_type": "code",
   "execution_count": null,
   "metadata": {},
   "outputs": [],
   "source": [
    "varname_dpsim = \"w_r\"\n",
    "varname_psat = \"omega\"\n",
    "\n",
    "rmse_omega = plot_variable(titles, varname_dpsim, varname_psat, ts_dpsim_6bOrder, ts_psat_6Order, nominal_values, ylabels)"
   ]
  },
  {
   "cell_type": "markdown",
   "metadata": {},
   "source": [
    "##### Grid voltages"
   ]
  },
  {
   "cell_type": "code",
   "execution_count": null,
   "metadata": {},
   "outputs": [],
   "source": [
    "varname_dpsim = \"n1.v\"\n",
    "varname_psat = \"V_Bus1\"\n",
    "\n",
    "rmse_v1_abs = plot_node_volt_abs(varname_dpsim, varname_psat, ts_dpsim_6bOrder, ts_psat_6Order, nominal_grid_voltage, ylabels)"
   ]
  },
  {
   "cell_type": "code",
   "execution_count": null,
   "metadata": {},
   "outputs": [],
   "source": [
    "varname_dpsim = \"n1.v\"\n",
    "varname_psat = \"theta_bus1\"\n",
    "\n",
    "rmse_v1_angle = plot_node_volt_angle(varname_dpsim, varname_psat, ts_dpsim_6bOrder, ts_psat_6Order, nominal_grid_voltage, ylabels)"
   ]
  },
  {
   "cell_type": "code",
   "execution_count": null,
   "metadata": {},
   "outputs": [],
   "source": [
    "varname_dpsim = \"n2.v\"\n",
    "varname_psat = \"V_Bus3\"\n",
    "\n",
    "rmse_v2_abs = plot_node_volt_abs(varname_dpsim, varname_psat, ts_dpsim_6bOrder, ts_psat_6Order, nominal_grid_voltage, ylabels)"
   ]
  },
  {
   "cell_type": "code",
   "execution_count": null,
   "metadata": {},
   "outputs": [],
   "source": [
    "varname_dpsim = \"n2.v\"\n",
    "varname_psat = \"theta_bus3\"\n",
    "\n",
    "rmse_v2_angle = plot_node_volt_angle(varname_dpsim, varname_psat, ts_dpsim_6bOrder, ts_psat_6Order, nominal_grid_voltage, ylabels)"
   ]
  },
  {
   "cell_type": "markdown",
   "metadata": {},
   "source": [
    "##### Assert"
   ]
  },
  {
   "cell_type": "code",
   "execution_count": null,
   "metadata": {},
   "outputs": [],
   "source": [
    "tol = 1 #%\n",
    "tol_id = 7.6 #%\n",
    "tol_iq = 5.2 #%\n",
    "tol_torque = 1.8\n",
    "tol_deg_v1 = 0.25 # deg\n",
    "tol_deg_v2 = 1e-12 # deg\n",
    "\n",
    "assert(rmse_torque<tol_torque)\n",
    "assert(rmse_vd<tol)\n",
    "assert(rmse_vq<tol)\n",
    "assert(rmse_id<tol_id)\n",
    "assert(rmse_iq<tol_iq)\n",
    "assert(rmse_delta<tol)\n",
    "assert(rmse_omega<tol)\n",
    "assert(rmse_v1_abs<tol)\n",
    "assert(rmse_v2_abs<tol)\n",
    "assert(rmse_v1_angle<tol_deg_v1)\n",
    "assert(rmse_v2_angle<tol_deg_v2)"
   ]
  }
 ],
 "metadata": {
  "kernelspec": {
   "display_name": "Python 3 (ipykernel)",
   "language": "python",
   "name": "python3"
  },
  "language_info": {
   "codemirror_mode": {
    "name": "ipython",
    "version": 3
   },
   "file_extension": ".py",
   "mimetype": "text/x-python",
   "name": "python",
   "nbconvert_exporter": "python",
   "pygments_lexer": "ipython3",
   "version": "3.9.13"
  },
  "vscode": {
   "interpreter": {
    "hash": "e7370f93d1d0cde622a1f8e1c04877d8463912d04d973331ad4851f04de6915a"
   },
   "tests": {
    "skip": false
   }
  }
 },
 "nbformat": 4,
 "nbformat_minor": 4
}
