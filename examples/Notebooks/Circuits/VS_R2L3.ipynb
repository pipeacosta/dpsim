{
 "cells": [
  {
   "cell_type": "markdown",
   "metadata": {},
   "source": [
    "# Circuit VS_R2L3"
   ]
  },
  {
   "cell_type": "code",
   "execution_count": null,
   "metadata": {},
   "outputs": [],
   "source": [
    "import villas.dataprocessing.readtools as rt\n",
    "import villas.dataprocessing.plottools as pt\n",
    "from villas.dataprocessing.timeseries import TimeSeries as ts"
   ]
  },
  {
   "cell_type": "markdown",
   "metadata": {},
   "source": [
    "## DPsim EMT"
   ]
  },
  {
   "cell_type": "code",
   "execution_count": null,
   "metadata": {},
   "outputs": [],
   "source": [
    "# DPsim EMT simulation\n",
    "import dpsimpy\n",
    "\n",
    "name = 'EMT_VS_R2L3'\n",
    "\n",
    "# Nodes\n",
    "gnd = dpsimpy.emt.SimNode.gnd\n",
    "n1 = dpsimpy.emt.SimNode('n1')\n",
    "n2 = dpsimpy.emt.SimNode('n2')\n",
    "n3 = dpsimpy.emt.SimNode('n3')\n",
    "n4 = dpsimpy.emt.SimNode('n4')\n",
    "\n",
    "# Components\n",
    "vs = dpsimpy.emt.ph1.VoltageSource('vs')\n",
    "vs.set_parameters(V_ref=complex(10,0),f_src=50)\n",
    "r1 = dpsimpy.emt.ph1.Resistor('r_1')\n",
    "r1.set_parameters(R=1)\n",
    "l1 = dpsimpy.emt.ph1.Inductor('l_1')\n",
    "l1.set_parameters(L=0.02)\n",
    "l2 = dpsimpy.emt.ph1.Inductor('l_2')\n",
    "l2.set_parameters(L=0.1)\n",
    "l3 = dpsimpy.emt.ph1.Inductor('l_3')\n",
    "l3.set_parameters(L=0.05)\n",
    "r2 = dpsimpy.emt.ph1.Resistor('r_2')\n",
    "r2.set_parameters(R=2)\n",
    "\n",
    "# Connections\n",
    "vs.connect([gnd, n1])\n",
    "r1.connect([n1, n2])\n",
    "l1.connect([n2, n3])\n",
    "l2.connect([n3, gnd])\n",
    "l3.connect([n3, n4])\n",
    "r2.connect([n4, gnd]);\n",
    "\n",
    "# Define system topology\n",
    "system = dpsimpy.SystemTopology(50, [gnd, n1, n2, n3, n4], [vs, r1, l1, l2, l3, r2]);\n",
    "\n",
    "# Logging\n",
    "logger = dpsimpy.Logger(name)\n",
    "logger.log_attribute('n1.v', 'v', n1)\n",
    "logger.log_attribute('n2.v', 'v', n2)\n",
    "logger.log_attribute('n3.v', 'v', n3)\n",
    "logger.log_attribute('n4.v', 'v', n4)\n",
    "logger.log_attribute('r_1.i_intf', 'i_intf', r1)\n",
    "logger.log_attribute('l_3.i_intf', 'i_intf', l3)\n",
    "\n",
    "sim = dpsimpy.Simulation(name)\n",
    "sim.set_system(system)\n",
    "sim.set_domain(dpsimpy.Domain.EMT)\n",
    "sim.set_time_step(0.0001)\n",
    "sim.set_final_time(0.1)\n",
    "sim.add_logger(logger)\n",
    "\n",
    "sim.run()"
   ]
  },
  {
   "cell_type": "code",
   "execution_count": null,
   "metadata": {},
   "outputs": [],
   "source": [
    "# read EMT results\n",
    "work_dir = 'logs/'\n",
    "log_name = 'EMT_VS_R2L3'\n",
    "print(work_dir + log_name + '.csv')\n",
    "\n",
    "ts_dpsim_emt = rt.read_timeseries_dpsim(work_dir + log_name + '.csv')"
   ]
  },
  {
   "cell_type": "code",
   "execution_count": null,
   "metadata": {},
   "outputs": [],
   "source": [
    "v1 = 'n1.v'\n",
    "v2 = 'n2.v'\n",
    "v3 = 'n3.v'\n",
    "v4 = 'n4.v'\n",
    "i12 = 'r_1.i_intf'\n",
    "i34 = 'l_3.i_intf'\n",
    "\n",
    "pt.set_timeseries_labels(ts_dpsim_emt[v1], 'v1 EMT')\n",
    "pt.set_timeseries_labels(ts_dpsim_emt[v2], 'v2 EMT')\n",
    "pt.set_timeseries_labels(ts_dpsim_emt[v3], 'v3 EMT')\n",
    "pt.set_timeseries_labels(ts_dpsim_emt[v4], 'v4 EMT')\n",
    "pt.set_timeseries_labels(ts_dpsim_emt[i12], 'i12 EMT')\n",
    "pt.set_timeseries_labels(ts_dpsim_emt[i34], 'i34 EMT')\n",
    "pt.plot_timeseries(1, ts_dpsim_emt[v1])\n",
    "pt.plot_timeseries(1, ts_dpsim_emt[v2])\n",
    "pt.plot_timeseries(1, ts_dpsim_emt[v3])\n",
    "pt.plot_timeseries(1, ts_dpsim_emt[v4])\n",
    "pt.plot_timeseries(2, ts_dpsim_emt[i12])\n",
    "pt.plot_timeseries(2, ts_dpsim_emt[i34])"
   ]
  },
  {
   "cell_type": "markdown",
   "metadata": {},
   "source": [
    "## DPsim DP"
   ]
  },
  {
   "cell_type": "code",
   "execution_count": null,
   "metadata": {},
   "outputs": [],
   "source": [
    "# DPsim DP simulation\n",
    "import dpsimpy\n",
    "\n",
    "name = 'DP_VS_R2L3'\n",
    "\n",
    "# Nodes\n",
    "gnd = dpsimpy.dp.SimNode.gnd\n",
    "n1 = dpsimpy.dp.SimNode('n1')\n",
    "n2 = dpsimpy.dp.SimNode('n2')\n",
    "n3 = dpsimpy.dp.SimNode('n3')\n",
    "n4 = dpsimpy.dp.SimNode('n4')\n",
    "\n",
    "# Components\n",
    "vs = dpsimpy.dp.ph1.VoltageSource('vs')\n",
    "vs.set_parameters(V_ref=complex(10,0))\n",
    "r1 = dpsimpy.dp.ph1.Resistor('r_1')\n",
    "r1.set_parameters(R=1)\n",
    "l1 = dpsimpy.dp.ph1.Inductor('l_1')\n",
    "l1.set_parameters(L=0.02)\n",
    "l2 = dpsimpy.dp.ph1.Inductor('l_2')\n",
    "l2.set_parameters(L=0.1)\n",
    "l3 = dpsimpy.dp.ph1.Inductor('l_3')\n",
    "l3.set_parameters(L=0.05)\n",
    "r2 = dpsimpy.dp.ph1.Resistor('r_2')\n",
    "r2.set_parameters(R=2)\n",
    "\n",
    "# Connections\n",
    "vs.connect([gnd, n1])\n",
    "r1.connect([n1, n2])\n",
    "l1.connect([n2, n3])\n",
    "l2.connect([n3, gnd])\n",
    "l3.connect([n3, n4])\n",
    "r2.connect([n4, gnd])\n",
    "\n",
    "# Define system topology\n",
    "system = dpsimpy.SystemTopology(50, [gnd, n1, n2, n3, n4], [vs, r1, l1, l2, l3, r2]);\n",
    "\n",
    "# Logging\n",
    "logger = dpsimpy.Logger(name)\n",
    "logger.log_attribute('n1.v', 'v', n1)\n",
    "logger.log_attribute('n2.v', 'v', n2)\n",
    "logger.log_attribute('n3.v', 'v', n3)\n",
    "logger.log_attribute('n4.v', 'v', n4)\n",
    "logger.log_attribute('r_1.i_intf', 'i_intf', r1)\n",
    "logger.log_attribute('l_3.i_intf', 'i_intf', l3)\n",
    "\n",
    "sim = dpsimpy.Simulation(name)\n",
    "sim.set_domain(dpsimpy.Domain.DP)\n",
    "sim.set_system(system)\n",
    "sim.set_time_step(0.0001)\n",
    "sim.set_final_time(0.1)\n",
    "sim.add_logger(logger)\n",
    "\n",
    "sim.run()"
   ]
  },
  {
   "cell_type": "code",
   "execution_count": null,
   "metadata": {},
   "outputs": [],
   "source": [
    "# read DP results\n",
    "work_dir = 'logs/'\n",
    "log_name = 'DP_VS_R2L3'\n",
    "print(work_dir + log_name + '.csv')\n",
    "\n",
    "ts_dpsim_dp = rt.read_timeseries_dpsim(work_dir + log_name + '.csv')"
   ]
  },
  {
   "cell_type": "code",
   "execution_count": null,
   "metadata": {},
   "outputs": [],
   "source": [
    "#convert to emt\n",
    "ts_dpsim_dp_emt = ts.frequency_shift_list(ts_dpsim_dp, 50)"
   ]
  },
  {
   "cell_type": "code",
   "execution_count": null,
   "metadata": {},
   "outputs": [],
   "source": [
    "ts_dpsim_dp_emt['n1.v_shift'].label = 'v1 DP'\n",
    "ts_dpsim_dp_emt['n2.v_shift'].label = 'v2 DP'\n",
    "ts_dpsim_dp_emt['n3.v_shift'].label = 'v3 DP'\n",
    "ts_dpsim_dp_emt['n4.v_shift'].label = 'v4 DP'\n",
    "ts_dpsim_dp_emt['r_1.i_intf_shift'].label = 'i12 DP'\n",
    "ts_dpsim_dp_emt['l_3.i_intf_shift'].label = 'i34 DP'\n",
    "pt.plot_timeseries(1, ts_dpsim_dp_emt['n1.v_shift'])\n",
    "pt.plot_timeseries(1, ts_dpsim_dp_emt['n2.v_shift'])\n",
    "pt.plot_timeseries(1, ts_dpsim_dp_emt['n3.v_shift'])\n",
    "pt.plot_timeseries(1, ts_dpsim_dp_emt['n4.v_shift'])\n",
    "pt.plot_timeseries(2, ts_dpsim_dp_emt['r_1.i_intf_shift'])\n",
    "pt.plot_timeseries(2, ts_dpsim_dp_emt['l_3.i_intf_shift'])"
   ]
  },
  {
   "cell_type": "markdown",
   "metadata": {},
   "source": [
    "## Simulink reference results"
   ]
  },
  {
   "cell_type": "code",
   "execution_count": null,
   "metadata": {},
   "outputs": [],
   "source": [
    "# read Simulink log file\n",
    "import os\n",
    "import urllib.request\n",
    "\n",
    "if not os.path.exists('reference-results'):\n",
    "    os.mkdir('reference-results')\n",
    "\n",
    "url = 'https://raw.githubusercontent.com/dpsim-simulator/reference-results/master/Simulink/Circuits/SL_VS_R2L3.csv'\n",
    "local_file = 'reference-results/SL_VS_R2L3.csv'\n",
    "urllib.request.urlretrieve(url, local_file) \n",
    "\n",
    "ts_sl = rt.read_timeseries_simulink(local_file)"
   ]
  },
  {
   "cell_type": "code",
   "execution_count": null,
   "metadata": {},
   "outputs": [],
   "source": [
    "pt.set_timeseries_labels(ts_sl['v1'], 'v1 SL')\n",
    "pt.set_timeseries_labels(ts_sl['v2'], 'v2 SL')\n",
    "pt.set_timeseries_labels(ts_sl['v3'], 'v3 SL')\n",
    "pt.set_timeseries_labels(ts_sl['v4'], 'v4 SL')\n",
    "pt.set_timeseries_labels(ts_sl['i12'], 'i12 SL')\n",
    "pt.set_timeseries_labels(ts_sl['i34'], 'i34 SL')\n",
    "pt.plot_timeseries(1, ts_sl['v1'])\n",
    "pt.plot_timeseries(1, ts_sl['v2'])\n",
    "pt.plot_timeseries(1, ts_sl['v3'])\n",
    "pt.plot_timeseries(1, ts_sl['v4'])\n",
    "pt.plot_timeseries(2, ts_sl['i12'])\n",
    "pt.plot_timeseries(2, ts_sl['i34'])"
   ]
  },
  {
   "cell_type": "markdown",
   "metadata": {},
   "source": [
    "## Comparison"
   ]
  },
  {
   "cell_type": "code",
   "execution_count": null,
   "metadata": {},
   "outputs": [],
   "source": [
    "# plot v1\n",
    "pt.plot_timeseries(1, ts_dpsim_emt['n1.v'])\n",
    "pt.plot_timeseries(1, ts_dpsim_dp_emt['n1.v_shift'])\n",
    "pt.plot_timeseries(1, ts_sl['v1'])\n",
    "# plot v2\n",
    "pt.plot_timeseries(2, ts_dpsim_emt['n2.v'])\n",
    "pt.plot_timeseries(2, ts_dpsim_dp_emt['n2.v_shift'])\n",
    "pt.plot_timeseries(2, ts_sl['v2'])\n",
    "# plot v3\n",
    "pt.plot_timeseries(3, ts_dpsim_emt['n3.v'])\n",
    "pt.plot_timeseries(3, ts_dpsim_dp_emt['n3.v_shift'])\n",
    "pt.plot_timeseries(3, ts_sl['v3'])\n",
    "# plot v4\n",
    "pt.plot_timeseries(4, ts_dpsim_emt['n4.v'])\n",
    "pt.plot_timeseries(4, ts_dpsim_dp_emt['n4.v_shift'])\n",
    "pt.plot_timeseries(4, ts_sl['v4'])\n",
    "# plot i12\n",
    "pt.plot_timeseries(5, ts_dpsim_emt['r_1.i_intf'])\n",
    "pt.plot_timeseries(5, ts_dpsim_dp_emt['r_1.i_intf_shift'])\n",
    "ts_sl_i12_scale = ts_sl['i12'].scale(-1)\n",
    "ts_sl_i12_scale.label = '-i12 SL'\n",
    "pt.plot_timeseries(5, ts_sl_i12_scale)\n",
    "# plot i34\n",
    "pt.plot_timeseries(6, ts_dpsim_emt['l_3.i_intf'])\n",
    "pt.plot_timeseries(6, ts_dpsim_dp_emt['l_3.i_intf_shift'])\n",
    "ts_sl_i34_scale = ts_sl['i34'].scale(-1)\n",
    "ts_sl_i34_scale.label = '-i34 SL'\n",
    "pt.plot_timeseries(6, ts_sl_i34_scale)"
   ]
  },
  {
   "cell_type": "code",
   "execution_count": null,
   "metadata": {},
   "outputs": [],
   "source": [
    "# calculate the RMSE between Simulink (ts_sl) and EMT (ts_dpsim_emt)\n",
    "err_sl_emt = 0\n",
    "err_sl_emt += ts.rmse(ts_sl['v1'], ts_dpsim_emt['n1.v'])\n",
    "err_sl_emt += ts.rmse(ts_sl['v2'], ts_dpsim_emt['n2.v'])\n",
    "err_sl_emt += ts.rmse(ts_sl['v3'], ts_dpsim_emt['n3.v'])\n",
    "err_sl_emt += ts.rmse(ts_sl['v4'], ts_dpsim_emt['n4.v'])\n",
    "err_sl_emt = err_sl_emt / 4\n",
    "print(\"Total RMSE of Simulink reference and DPsim EMT: %g\" % (err_sl_emt))\n",
    "\n",
    "# calculate the RMSE between Simulink (ts_sl) and DP (ts_dpsim_dp_emt)\n",
    "err_sl_dp = 0\n",
    "err_sl_dp += ts.rmse(ts_sl['v1'], ts_dpsim_dp_emt['n1.v_shift'])\n",
    "err_sl_dp += ts.rmse(ts_sl['v2'], ts_dpsim_dp_emt['n2.v_shift'])\n",
    "err_sl_dp += ts.rmse(ts_sl['v3'], ts_dpsim_dp_emt['n3.v_shift'])\n",
    "err_sl_dp += ts.rmse(ts_sl['v4'], ts_dpsim_dp_emt['n4.v_shift'])\n",
    "err_sl_dp = err_sl_dp / 4\n",
    "print(\"Total RMSE of Simulink reference and DPsim DP: %g\" % (err_sl_dp))"
   ]
  },
  {
   "cell_type": "code",
   "execution_count": null,
   "metadata": {},
   "outputs": [],
   "source": [
    "assert err_sl_emt < 0.1\n",
    "assert err_sl_dp < 0.1"
   ]
  }
 ],
 "metadata": {
  "kernelspec": {
   "display_name": "Python 3",
   "language": "python",
   "name": "python3"
  },
  "language_info": {
   "codemirror_mode": {
    "name": "ipython",
    "version": 3
   },
   "file_extension": ".py",
   "mimetype": "text/x-python",
   "name": "python",
   "nbconvert_exporter": "python",
   "pygments_lexer": "ipython3",
   "version": "3.8.9"
  },
  "widgets": {
   "application/vnd.jupyter.widget-state+json": {
    "state": {
     "061f99cd66884a51ba453de9598f0be6": {
      "model_module": "@jupyter-widgets/base",
      "model_module_version": "1.1.0",
      "model_name": "LayoutModel",
      "state": {}
     },
     "08654cd589bb4fe6b6bfd5fbf98eb0f5": {
      "model_module": "@jupyter-widgets/controls",
      "model_module_version": "1.4.0",
      "model_name": "DescriptionStyleModel",
      "state": {
       "description_width": ""
      }
     },
     "0957cc5f216a432ca187e33c59ad7d3a": {
      "model_module": "@jupyter-widgets/base",
      "model_module_version": "1.1.0",
      "model_name": "LayoutModel",
      "state": {}
     },
     "0ee42b12568044e28acf9fe933907071": {
      "model_module": "@jupyter-widgets/base",
      "model_module_version": "1.1.0",
      "model_name": "LayoutModel",
      "state": {}
     },
     "1036082f2e174fd59ab8b5918794daac": {
      "model_module": "@jupyter-widgets/controls",
      "model_module_version": "1.4.0",
      "model_name": "ProgressStyleModel",
      "state": {
       "description_width": ""
      }
     },
     "11f766525f3a4a549c089d7a1c0da96b": {
      "model_module": "@jupyter-widgets/base",
      "model_module_version": "1.1.0",
      "model_name": "LayoutModel",
      "state": {}
     },
     "1396e9031876426d9620b77cb4cc2afc": {
      "model_module": "@jupyter-widgets/controls",
      "model_module_version": "1.4.0",
      "model_name": "ProgressStyleModel",
      "state": {
       "description_width": ""
      }
     },
     "1ce8bc636cbb45f79e7864ce36badd4b": {
      "model_module": "@jupyter-widgets/controls",
      "model_module_version": "1.4.0",
      "model_name": "ProgressStyleModel",
      "state": {
       "description_width": ""
      }
     },
     "1fc2db9969464367b39d987ade966420": {
      "model_module": "@jupyter-widgets/base",
      "model_module_version": "1.1.0",
      "model_name": "LayoutModel",
      "state": {}
     },
     "23052926278543c998f8bdbe5e9d795f": {
      "model_module": "@jupyter-widgets/controls",
      "model_module_version": "1.4.0",
      "model_name": "HTMLModel",
      "state": {
       "layout": "IPY_MODEL_0ee42b12568044e28acf9fe933907071",
       "style": "IPY_MODEL_b35c6009ec0e42529ded03d18817f65f",
       "value": "Simulation is finished: <pre>    1000/1000 steps, progress=100% time=0.10, elapsed=0.68, rtfactor=0.15</pre>"
      }
     },
     "39b765c314664f3bb6af59e7d3ec7c2f": {
      "model_module": "@jupyter-widgets/controls",
      "model_module_version": "1.4.0",
      "model_name": "ProgressStyleModel",
      "state": {
       "description_width": ""
      }
     },
     "3a282bbf484542fc91554be7580902d9": {
      "model_module": "@jupyter-widgets/base",
      "model_module_version": "1.1.0",
      "model_name": "LayoutModel",
      "state": {}
     },
     "3ba55d152b534b0eb2da2dd43000c70a": {
      "model_module": "@jupyter-widgets/controls",
      "model_module_version": "1.4.0",
      "model_name": "HTMLModel",
      "state": {
       "layout": "IPY_MODEL_7531e81335d24fab9befbc0d9938df27",
       "style": "IPY_MODEL_f751fa42c460469aa50c1554904f2c11",
       "value": "Simulation is finished: <pre>    1000/1000 steps, progress=100% time=0.10, elapsed=0.20, rtfactor=0.49</pre>"
      }
     },
     "3fccee7c5af8479f9bf24a870972818f": {
      "model_module": "@jupyter-widgets/controls",
      "model_module_version": "1.4.0",
      "model_name": "FloatProgressModel",
      "state": {
       "layout": "IPY_MODEL_73b81eb881f5440ebac00c1e79d10ca7",
       "max": 0.1,
       "style": "IPY_MODEL_1ce8bc636cbb45f79e7864ce36badd4b",
       "value": 0.1
      }
     },
     "450907cc2b044f76897bf997da915779": {
      "model_module": "@jupyter-widgets/controls",
      "model_module_version": "1.4.0",
      "model_name": "HTMLModel",
      "state": {
       "layout": "IPY_MODEL_11f766525f3a4a549c089d7a1c0da96b",
       "style": "IPY_MODEL_08654cd589bb4fe6b6bfd5fbf98eb0f5",
       "value": "Simulation is finished: <pre>    1000/1000 steps, progress=100% time=0.10, elapsed=0.41, rtfactor=0.25</pre>"
      }
     },
     "56350a0a66c246b68ce55471aa8b728f": {
      "model_module": "@jupyter-widgets/base",
      "model_module_version": "1.1.0",
      "model_name": "LayoutModel",
      "state": {}
     },
     "65455db15d9049c9ab36d996336e1d75": {
      "model_module": "@jupyter-widgets/controls",
      "model_module_version": "1.4.0",
      "model_name": "DescriptionStyleModel",
      "state": {
       "description_width": ""
      }
     },
     "66e667850ceb494f96edf225f253c3bb": {
      "model_module": "@jupyter-widgets/base",
      "model_module_version": "1.1.0",
      "model_name": "LayoutModel",
      "state": {}
     },
     "73b81eb881f5440ebac00c1e79d10ca7": {
      "model_module": "@jupyter-widgets/base",
      "model_module_version": "1.1.0",
      "model_name": "LayoutModel",
      "state": {}
     },
     "7531e81335d24fab9befbc0d9938df27": {
      "model_module": "@jupyter-widgets/base",
      "model_module_version": "1.1.0",
      "model_name": "LayoutModel",
      "state": {}
     },
     "7f9145ca4ada444eaa718a29aa9ec225": {
      "model_module": "@jupyter-widgets/controls",
      "model_module_version": "1.4.0",
      "model_name": "FloatProgressModel",
      "state": {
       "layout": "IPY_MODEL_3a282bbf484542fc91554be7580902d9",
       "max": 0.1,
       "style": "IPY_MODEL_fc0d8749d7b846afa620ae6edd1b9a1f",
       "value": 0.1
      }
     },
     "82068dd909364d06bef5d3274e788f43": {
      "model_module": "@jupyter-widgets/controls",
      "model_module_version": "1.4.0",
      "model_name": "HTMLModel",
      "state": {
       "layout": "IPY_MODEL_66e667850ceb494f96edf225f253c3bb",
       "style": "IPY_MODEL_8b6fbc48c1534be89e401d5c0b5914ac",
       "value": "Simulation is finished: <pre>    1000/1000 steps, progress=100% time=0.10, elapsed=2.53, rtfactor=0.04</pre>"
      }
     },
     "8b6fbc48c1534be89e401d5c0b5914ac": {
      "model_module": "@jupyter-widgets/controls",
      "model_module_version": "1.4.0",
      "model_name": "DescriptionStyleModel",
      "state": {
       "description_width": ""
      }
     },
     "8e5d92fef9874daaa927113d6f652f0d": {
      "model_module": "@jupyter-widgets/controls",
      "model_module_version": "1.4.0",
      "model_name": "HTMLModel",
      "state": {
       "layout": "IPY_MODEL_0957cc5f216a432ca187e33c59ad7d3a",
       "style": "IPY_MODEL_9e2bbf0520614cf1aee6aef8df6a55d9",
       "value": "Simulation is finished: <pre>    1000/1000 steps, progress=100% time=0.10, elapsed=0.72, rtfactor=0.14</pre>"
      }
     },
     "959e2973190b4b0dbdea55cf930e954a": {
      "model_module": "@jupyter-widgets/controls",
      "model_module_version": "1.4.0",
      "model_name": "HTMLModel",
      "state": {
       "layout": "IPY_MODEL_56350a0a66c246b68ce55471aa8b728f",
       "style": "IPY_MODEL_65455db15d9049c9ab36d996336e1d75",
       "value": "Simulation is finished: <pre>    1000/1000 steps, progress=100% time=0.10, elapsed=2.44, rtfactor=0.04</pre>"
      }
     },
     "9bd5bb8555834829a853f8ef9c7bd53c": {
      "model_module": "@jupyter-widgets/controls",
      "model_module_version": "1.4.0",
      "model_name": "FloatProgressModel",
      "state": {
       "layout": "IPY_MODEL_dfae6a16233c45eb99d0758568ad0dd1",
       "max": 0.1,
       "style": "IPY_MODEL_ac7408243b43457caa91b3cdd5433243",
       "value": 0.1
      }
     },
     "9e2bbf0520614cf1aee6aef8df6a55d9": {
      "model_module": "@jupyter-widgets/controls",
      "model_module_version": "1.4.0",
      "model_name": "DescriptionStyleModel",
      "state": {
       "description_width": ""
      }
     },
     "ac7408243b43457caa91b3cdd5433243": {
      "model_module": "@jupyter-widgets/controls",
      "model_module_version": "1.4.0",
      "model_name": "ProgressStyleModel",
      "state": {
       "description_width": ""
      }
     },
     "b35c6009ec0e42529ded03d18817f65f": {
      "model_module": "@jupyter-widgets/controls",
      "model_module_version": "1.4.0",
      "model_name": "DescriptionStyleModel",
      "state": {
       "description_width": ""
      }
     },
     "bb4c73bc5f6343b688df8722a0ed5751": {
      "model_module": "@jupyter-widgets/controls",
      "model_module_version": "1.4.0",
      "model_name": "FloatProgressModel",
      "state": {
       "layout": "IPY_MODEL_061f99cd66884a51ba453de9598f0be6",
       "max": 0.1,
       "style": "IPY_MODEL_39b765c314664f3bb6af59e7d3ec7c2f",
       "value": 0.1
      }
     },
     "bfa2ce1197f34b94988104b3f33a53d0": {
      "model_module": "@jupyter-widgets/controls",
      "model_module_version": "1.4.0",
      "model_name": "FloatProgressModel",
      "state": {
       "layout": "IPY_MODEL_1fc2db9969464367b39d987ade966420",
       "max": 0.1,
       "style": "IPY_MODEL_1036082f2e174fd59ab8b5918794daac",
       "value": 0.1
      }
     },
     "d0f5f1f22b4b4b348e7896a0cdc0d8d0": {
      "model_module": "@jupyter-widgets/base",
      "model_module_version": "1.1.0",
      "model_name": "LayoutModel",
      "state": {}
     },
     "dfae6a16233c45eb99d0758568ad0dd1": {
      "model_module": "@jupyter-widgets/base",
      "model_module_version": "1.1.0",
      "model_name": "LayoutModel",
      "state": {}
     },
     "eda8d3086d2845b0a7b5d4df5d25a65f": {
      "model_module": "@jupyter-widgets/controls",
      "model_module_version": "1.4.0",
      "model_name": "FloatProgressModel",
      "state": {
       "layout": "IPY_MODEL_d0f5f1f22b4b4b348e7896a0cdc0d8d0",
       "max": 0.1,
       "style": "IPY_MODEL_1396e9031876426d9620b77cb4cc2afc",
       "value": 0.1
      }
     },
     "f751fa42c460469aa50c1554904f2c11": {
      "model_module": "@jupyter-widgets/controls",
      "model_module_version": "1.4.0",
      "model_name": "DescriptionStyleModel",
      "state": {
       "description_width": ""
      }
     },
     "fc0d8749d7b846afa620ae6edd1b9a1f": {
      "model_module": "@jupyter-widgets/controls",
      "model_module_version": "1.4.0",
      "model_name": "ProgressStyleModel",
      "state": {
       "description_width": ""
      }
     }
    },
    "version_major": 2,
    "version_minor": 0
   }
  }
 },
 "nbformat": 4,
 "nbformat_minor": 4
}
