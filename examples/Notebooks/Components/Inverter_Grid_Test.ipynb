{
 "cells": [
  {
   "cell_type": "markdown",
   "metadata": {},
   "source": [
    "# Inverter Grid Test"
   ]
  },
  {
   "cell_type": "code",
   "execution_count": null,
   "metadata": {},
   "outputs": [],
   "source": [
    "import villas.dataprocessing.readtools as rt\n",
    "from villas.dataprocessing.timeseries import TimeSeries\n",
    "import matplotlib.pyplot as plt\n",
    "import numpy as np\n",
    "import dpsimpy"
   ]
  },
  {
   "cell_type": "code",
   "execution_count": null,
   "metadata": {},
   "outputs": [],
   "source": [
    "time_step = 0.000001\n",
    "final_time = 0.05\n",
    "sim_name = 'DP_Inverter_Grid_Test'\n",
    "dpsimpy.Logger.set_log_dir('logs/' + sim_name)\n",
    "\n",
    "frequencies = [50, 19850, 19950, 20050, 20150, 39750, 39950, 40050, 40250]\n",
    "\n",
    "n1 = dpsimpy.dp.SimNode('n1')\n",
    "n2 = dpsimpy.dp.SimNode('n2')\n",
    "n3 = dpsimpy.dp.SimNode('n3')\n",
    "n4 = dpsimpy.dp.SimNode('n4')\n",
    "n5 = dpsimpy.dp.SimNode('n5')\n",
    "\n",
    "log_level = dpsimpy.LogLevel.info\n",
    "\n",
    "inv = dpsimpy.dp.ph1.Inverter('inv', log_level)\n",
    "inv.set_parameters(carrier_harms=[2,2,2,2,4,4,4,4], modul_harms=[-3,-1,1,3,-5,-1,1,5],\n",
    "    input_voltage=360, ratio=0.87, phase=0)\n",
    "\n",
    "r1 = dpsimpy.dp.ph1.Resistor('r1', log_level)\n",
    "r1.set_parameters(0.1)\n",
    "l1 = dpsimpy.dp.ph1.Inductor('l1', log_level)\n",
    "l1.set_parameters(600e-6)\n",
    "r2 = dpsimpy.dp.ph1.Resistor('r2', log_level)\n",
    "r2.set_parameters(0.1 + 0.001)\n",
    "l2 = dpsimpy.dp.ph1.Inductor('l2', log_level)\n",
    "l2.set_parameters(150e-6 + 0.001/(2*np.pi*50))\n",
    "c1 = dpsimpy.dp.ph1.Capacitor('c1', log_level)\n",
    "c1.set_parameters(10e-6)\n",
    "rc = dpsimpy.dp.ph1.Capacitor('rc', log_level)\n",
    "rc.set_parameters(1e-6)\n",
    "grid = dpsimpy.dp.ph1.VoltageSource('grid', log_level)\n",
    "grid.set_parameters(complex(0, -311.1270))\n",
    "\n",
    "inv.connect([n1])\n",
    "r1.connect([n1, n2])\n",
    "l1.connect([n2, n3])\n",
    "c1.connect([dpsimpy.dp.SimNode.gnd, n3])\n",
    "rc.connect([dpsimpy.dp.SimNode.gnd, n3])\n",
    "r2.connect([n3, n4])\n",
    "l2.connect([n4, n5])\n",
    "grid.connect([dpsimpy.dp.SimNode.gnd, n5])\n",
    "\n",
    "sys = dpsimpy.SystemTopology(50, frequencies, [n1, n2, n3, n4, n5],\n",
    "    [inv, r1, l1, r2, l2, c1, rc, grid])\n",
    "\n",
    "logger = dpsimpy.Logger(sim_name)\n",
    "logger.log_attribute('v1', 'v', n1, 1, 9)\n",
    "logger.log_attribute('v2', 'v', n2, 1, 1)\n",
    "logger.log_attribute('v3', 'v', n3, 1, 9)\n",
    "logger.log_attribute('v4', 'v', n4, 1, 1)\n",
    "logger.log_attribute('v5', 'v', n5, 1, 1)\n",
    "logger.log_attribute('i12', 'i_intf', r1, 1, 1)\n",
    "logger.log_attribute('i34', 'i_intf', r2, 1, 1)\n",
    "\n",
    "sim = dpsimpy.Simulation(sim_name, log_level)\n",
    "sim.set_system(sys)\n",
    "sim.set_time_step(time_step)\n",
    "sim.set_final_time(final_time)\n",
    "sim.add_logger(logger)\n",
    "sim.do_frequency_parallelization(False)\n",
    "\n",
    "sim.run()"
   ]
  },
  {
   "cell_type": "code",
   "execution_count": null,
   "metadata": {},
   "outputs": [],
   "source": [
    "# read results\n",
    "logs_dir = './logs/'\n",
    "log_path =  logs_dir + 'DP_Inverter_Grid_Test/' + 'DP_Inverter_Grid_Test.csv'\n",
    "print(log_path)\n",
    "\n",
    "ts_dpsim = rt.read_timeseries_dpsim(log_path)"
   ]
  },
  {
   "cell_type": "code",
   "execution_count": null,
   "metadata": {},
   "outputs": [],
   "source": [
    "ts_list_v1 = [\n",
    "    ts_dpsim['v1_0_0'],\n",
    "    ts_dpsim['v1_0_1'],\n",
    "    ts_dpsim['v1_0_2'],\n",
    "    ts_dpsim['v1_0_3'],\n",
    "    ts_dpsim['v1_0_4'],\n",
    "    ts_dpsim['v1_0_5'],\n",
    "    ts_dpsim['v1_0_6'],\n",
    "    ts_dpsim['v1_0_7'],\n",
    "    ts_dpsim['v1_0_8']]\n",
    "\n",
    "ts_list_v3 = [\n",
    "    ts_dpsim['v3_0_0'],\n",
    "    ts_dpsim['v3_0_1'],\n",
    "    ts_dpsim['v3_0_2'],\n",
    "    ts_dpsim['v3_0_3'],\n",
    "    ts_dpsim['v3_0_4'],\n",
    "    ts_dpsim['v3_0_5'],\n",
    "    ts_dpsim['v3_0_6'],\n",
    "    ts_dpsim['v3_0_7'],\n",
    "    ts_dpsim['v3_0_8']]\n",
    "\n",
    "freq_list = [ 50,\n",
    "    19850, 19950, 20050, 20150,\n",
    "    39750, 39950, 40050, 40250 ]"
   ]
  },
  {
   "cell_type": "code",
   "execution_count": null,
   "metadata": {},
   "outputs": [],
   "source": [
    "ts_dpsim_emt_v1 = TimeSeries.create_emt_from_dp(ts_list_v1, freq_list)\n",
    "plt.plot(ts_dpsim_emt_v1.time, ts_dpsim_emt_v1.values)\n",
    "plt.xlim(0, 0.05)\n",
    "plt.show()"
   ]
  },
  {
   "cell_type": "code",
   "execution_count": null,
   "metadata": {},
   "outputs": [],
   "source": [
    "ts_dpsim_emt_v3 = TimeSeries.create_emt_from_dp(ts_list_v3, freq_list)\n",
    "plt.plot(ts_dpsim_emt_v3.time, ts_dpsim_emt_v3.values)\n",
    "plt.xlim(0, 0.05)\n",
    "plt.show()"
   ]
  },
  {
   "cell_type": "code",
   "execution_count": null,
   "metadata": {},
   "outputs": [],
   "source": [
    "ts_dpsim_emt_v5 = ts_dpsim['v5_0_0'].frequency_shift(50)\n",
    "\n",
    "plt.plot(ts_dpsim_emt_v1.time, ts_dpsim_emt_v1.values)\n",
    "plt.plot(ts_dpsim_emt_v3.time, ts_dpsim_emt_v3.values)\n",
    "plt.plot(ts_dpsim_emt_v5.time, ts_dpsim_emt_v5.values, linestyle='--')\n",
    "plt.xlim(0, 0.05)\n",
    "plt.show()"
   ]
  },
  {
   "cell_type": "markdown",
   "metadata": {},
   "source": [
    "## Validation against Matlab model"
   ]
  },
  {
   "cell_type": "markdown",
   "metadata": {},
   "source": [
    "The Matlab model is considering 4 harmonics only. Therefore the DPsim results might be slightly different depending on the number of considered harmonics."
   ]
  },
  {
   "cell_type": "code",
   "execution_count": null,
   "metadata": {},
   "outputs": [],
   "source": [
    "import os\n",
    "import urllib.request\n",
    "\n",
    "if not os.path.exists('reference-results'):\n",
    "    os.mkdir('reference-results')\n",
    "\n",
    "url = 'https://raw.githubusercontent.com/dpsim-simulator/reference-results/master/Simulink/Inverter/ML_SP_Inverter_OL_v_i.csv'\n",
    "local_file = 'reference-results/ML_SP_Inverter_OL_v_i.csv'\n",
    "urllib.request.urlretrieve(url, local_file) \n",
    "\n",
    "ts_ml_inverter = rt.read_timeseries_simulink(local_file)"
   ]
  },
  {
   "cell_type": "code",
   "execution_count": null,
   "metadata": {},
   "outputs": [],
   "source": [
    "plt.plot(ts_ml_inverter['v_inv'].time, ts_ml_inverter['v_inv'].values)\n",
    "\n",
    "#plt.figure(figsize=(20,10))\n",
    "plt.figure()\n",
    "plt.plot(ts_ml_inverter['v_c'].time, ts_ml_inverter['v_c'].values)\n",
    "plt.plot(ts_dpsim_emt_v3.time, ts_dpsim_emt_v3.values)\n",
    "plt.xlim(0.0245, 0.0255)\n",
    "plt.ylim(308, 315)\n",
    "plt.show()"
   ]
  },
  {
   "cell_type": "code",
   "execution_count": null,
   "metadata": {},
   "outputs": [],
   "source": [
    "import numpy as np\n",
    "diff = ts_ml_inverter['v_c'].values[:5000] - np.interp(ts_ml_inverter['v_c'].time[:5000], ts_dpsim_emt_v3.time, ts_dpsim_emt_v3.values)\n",
    "assert np.all(diff) < 10"
   ]
  },
  {
   "cell_type": "markdown",
   "metadata": {},
   "source": [
    "## Validation against Simulink switching model"
   ]
  },
  {
   "cell_type": "code",
   "execution_count": null,
   "metadata": {},
   "outputs": [],
   "source": [
    "import os\n",
    "import urllib.request\n",
    "\n",
    "if not os.path.exists('reference-results'):\n",
    "    os.mkdir('reference-results')\n",
    "\n",
    "url = 'https://raw.githubusercontent.com/dpsim-simulator/reference-results/master/Simulink/Inverter/SL_SP_Inverter_OL_v_i.csv'\n",
    "local_file = 'reference-results/SL_SP_Inverter_OL_v_i.csv'\n",
    "urllib.request.urlretrieve(url, local_file) \n",
    "\n",
    "ts_sl_inverter = rt.read_timeseries_simulink(local_file)"
   ]
  },
  {
   "cell_type": "code",
   "execution_count": null,
   "metadata": {},
   "outputs": [],
   "source": [
    "plt.plot(ts_sl_inverter['v_inv'].time, ts_sl_inverter['v_inv'].values)\n",
    "plt.show()"
   ]
  },
  {
   "cell_type": "code",
   "execution_count": null,
   "metadata": {},
   "outputs": [],
   "source": [
    "plt.plot(ts_sl_inverter['v_c'].time, ts_sl_inverter['v_c'].values, label='EMT')\n",
    "plt.plot(ts_dpsim_emt_v3.time, ts_dpsim_emt_v3.values, label='DP', linestyle='--')\n",
    "\n",
    "ax = plt.gca()\n",
    "ax.xaxis.set_major_locator(plt.MaxNLocator(5))\n",
    "plt.xlim(0.0445,0.0456)\n",
    "plt.ylim(308,315)\n",
    "plt.xlabel('time (s)')\n",
    "plt.ylabel('voltage (V)')\n",
    "plt.grid()\n",
    "plt.legend(loc='upper right')\n",
    "#ax = plt.gca()\n",
    "#ax.xaxis.set_major_locator(plt.MaxNLocator(5))\n",
    "plt.tight_layout()\n",
    "plt.savefig('dp_simulink_inv_8_harm.pdf')\n",
    "plt.savefig('dp_simulink_inv_8_harm.png', dpi=300)"
   ]
  },
  {
   "cell_type": "code",
   "execution_count": null,
   "metadata": {},
   "outputs": [],
   "source": [
    "plt.plot(ts_sl_inverter['v_c'].time, ts_sl_inverter['v_c'].values, label='simulink')\n",
    "plt.plot(ts_dpsim_emt_v3.time, ts_dpsim_emt_v3.values, linestyle=\":\", label='dyn. phasor')\n",
    "plt.xlim(0, 0.05)\n",
    "\n",
    "plt.xlabel('time (s)')\n",
    "plt.ylabel('voltage (V)')\n",
    "plt.grid()\n",
    "plt.legend(loc='lower right')\n",
    "plt.tight_layout()\n",
    "\n",
    "plt.savefig('dp_simulink_inv_8_harm_complete.pdf')\n",
    "plt.savefig('dp_simulink_inv_8_harm_complete.png', dpi=300)"
   ]
  }
 ],
 "metadata": {
  "kernelspec": {
   "display_name": "Python 3",
   "name": "python3"
  },
  "language_info": {
   "codemirror_mode": {
    "name": "ipython",
    "version": 3
   },
   "file_extension": ".py",
   "mimetype": "text/x-python",
   "name": "python",
   "nbconvert_exporter": "python",
   "pygments_lexer": "ipython3",
   "version": "3.9.10"
  },
  "orig_nbformat": 3
 },
 "nbformat": 4,
 "nbformat_minor": 4
}
