{
 "cells": [
  {
   "cell_type": "markdown",
   "metadata": {},
   "source": [
    "# Line Tests"
   ]
  },
  {
   "cell_type": "code",
   "execution_count": 1,
   "metadata": {},
   "outputs": [],
   "source": [
    "import villas.dataprocessing.readtools as rt\n",
    "from villas.dataprocessing.timeseries import TimeSeries as ts\n",
    "import matplotlib.pyplot as plt\n",
    "import numpy as np\n",
    "import dpsimpy\n",
    "\n",
    "# %matplotlib widget\n",
    "\n",
    "epsilon = 1e-12"
   ]
  },
  {
   "cell_type": "markdown",
   "metadata": {},
   "source": [
    "## SP PiLine with RLC elements"
   ]
  },
  {
   "cell_type": "code",
   "execution_count": null,
   "metadata": {},
   "outputs": [],
   "source": [
    "time_step = 0.00005\n",
    "final_time = 1\n",
    "sim_name = 'SP_PiLine_Elements'\n",
    "dpsimpy.Logger.set_log_dir('logs/' + sim_name)\n",
    "\n",
    "n1 = dpsimpy.sp.SimNode('n1')\n",
    "n2 = dpsimpy.sp.SimNode('n2')\n",
    "vn1 = dpsimpy.sp.SimNode('vn1')\n",
    "gnd = dpsimpy.sp.SimNode.gnd\n",
    "\n",
    "resistance = 5\n",
    "inductance = 0.16\n",
    "capacitance = 1e-6\n",
    "conductance = 1e-6\n",
    "\n",
    "vs = dpsimpy.sp.ph1.VoltageSource('v_1')\n",
    "vs.set_parameters(complex(100000, 0))\n",
    "res = dpsimpy.sp.ph1.Resistor('R_line')\n",
    "res.set_parameters(resistance)\n",
    "ind = dpsimpy.sp.ph1.Inductor('L_line')\n",
    "ind.set_parameters(inductance)\n",
    "cap1 = dpsimpy.sp.ph1.Capacitor('Cp_1')\n",
    "cap1.set_parameters(capacitance / 2)\n",
    "cap2 = dpsimpy.sp.ph1.Capacitor('Cp_2')\n",
    "cap2.set_parameters(capacitance / 2)\n",
    "con1 = dpsimpy.sp.ph1.Resistor('Gp_1')\n",
    "con1.set_parameters(2 / conductance)\n",
    "con2 = dpsimpy.sp.ph1.Resistor('Gp_2')\n",
    "con2.set_parameters(2 / conductance)\n",
    "\n",
    "load = dpsimpy.sp.ph1.Resistor('R_load')\n",
    "load.set_parameters(10000)\n",
    "\n",
    "vs.connect([gnd, n1])\n",
    "res.connect([n1, vn1])\n",
    "ind.connect([vn1, n2])\n",
    "cap1.connect([n1, gnd])\n",
    "cap2.connect([n2, gnd])\n",
    "con1.connect([n1, gnd])\n",
    "con2.connect([n2, gnd])\n",
    "load.connect([n2, gnd])\n",
    "\n",
    "sys = dpsimpy.SystemTopology(50, [n1, n2, vn1], [vs, res, ind, cap1, cap2, con1, con2, load])\n",
    "\n",
    "logger = dpsimpy.Logger(sim_name)\n",
    "logger.log_attribute('v1', 'v', n1)\n",
    "logger.log_attribute('v2', 'v', n2)\n",
    "logger.log_attribute('iline', 'i_intf', ind)\n",
    "logger.log_attribute('iload', 'i_intf', load)\n",
    "\n",
    "sim = dpsimpy.Simulation(sim_name)\n",
    "sim.set_system(sys)\n",
    "sim.set_time_step(time_step)\n",
    "sim.set_final_time(final_time)\n",
    "sim.set_domain(dpsimpy.Domain.SP)\n",
    "sim.add_logger(logger)\n",
    "\n",
    "sim.run()"
   ]
  },
  {
   "cell_type": "code",
   "execution_count": null,
   "metadata": {},
   "outputs": [],
   "source": [
    "time_step = 0.00005\n",
    "final_time = 1\n",
    "sim_name = 'SP_PiLine_Component'\n",
    "dpsimpy.Logger.set_log_dir('logs/' + sim_name)\n",
    "\n",
    "n1 = dpsimpy.sp.SimNode('n1')\n",
    "n2 = dpsimpy.sp.SimNode('n2')\n",
    "gnd = dpsimpy.sp.SimNode.gnd\n",
    "\n",
    "resistance = 5\n",
    "inductance = 0.16\n",
    "capacitance = 1e-6\n",
    "conductance = 1e-6\n",
    "\n",
    "vs = dpsimpy.sp.ph1.VoltageSource('v_1', dpsimpy.LogLevel.debug)\n",
    "vs.set_parameters(complex(100000, 0))\n",
    "\n",
    "line = dpsimpy.sp.ph1.PiLine('Line', dpsimpy.LogLevel.debug)\n",
    "line.set_parameters(resistance, inductance, capacitance, conductance)\n",
    "\n",
    "load = dpsimpy.sp.ph1.Resistor('R_load', dpsimpy.LogLevel.debug)\n",
    "load.set_parameters(10000)\n",
    "\n",
    "vs.connect([gnd, n1])\n",
    "line.connect([n1, n2])\n",
    "load.connect([n2, gnd])\n",
    "\n",
    "sys = dpsimpy.SystemTopology(50, [n1, n2], [vs, line, load])\n",
    "\n",
    "logger = dpsimpy.Logger(sim_name)\n",
    "logger.log_attribute('v1', 'v', n1)\n",
    "logger.log_attribute('v2', 'v', n2)\n",
    "logger.log_attribute('iline', 'i_intf', line)\n",
    "logger.log_attribute('iload', 'i_intf', load)\n",
    "\n",
    "sim = dpsimpy.Simulation(sim_name)\n",
    "sim.set_system(sys)\n",
    "sim.set_time_step(time_step)\n",
    "sim.set_final_time(final_time)\n",
    "sim.set_domain(dpsimpy.Domain.SP)\n",
    "sim.add_logger(logger)\n",
    "\n",
    "sim.run()"
   ]
  },
  {
   "cell_type": "code",
   "execution_count": null,
   "metadata": {},
   "outputs": [],
   "source": [
    "work_dir = 'logs/SP_PiLine_Elements/'\n",
    "log_name = 'SP_PiLine_Elements'\n",
    "print(work_dir + log_name + '.csv')\n",
    "piline_elements = rt.read_timeseries_dpsim(work_dir + log_name + '.csv')\n",
    "piline_elements_sp_shifted = ts.frequency_shift_list(piline_elements, 50)"
   ]
  },
  {
   "cell_type": "code",
   "execution_count": null,
   "metadata": {},
   "outputs": [],
   "source": [
    "plt.figure()\n",
    "plt.plot(piline_elements_sp_shifted['v1_shift'].time, piline_elements_sp_shifted['v1_shift'].values, label='v1_shift')\n",
    "plt.plot(piline_elements_sp_shifted['v2_shift'].time, piline_elements_sp_shifted['v2_shift'].values, label='v2_shift', linestyle=':')\n",
    "plt.legend()\n",
    "plt.show()"
   ]
  },
  {
   "cell_type": "code",
   "execution_count": null,
   "metadata": {},
   "outputs": [],
   "source": [
    "plt.figure()\n",
    "plt.plot(piline_elements_sp_shifted['iline_shift'].time, piline_elements_sp_shifted['iline_shift'].values, label='iline_shift')\n",
    "plt.legend()\n",
    "plt.show()"
   ]
  },
  {
   "cell_type": "markdown",
   "metadata": {},
   "source": [
    "## SP PiLine composite model"
   ]
  },
  {
   "cell_type": "code",
   "execution_count": null,
   "metadata": {},
   "outputs": [],
   "source": [
    "work_dir = 'logs/SP_PiLine_Component/'\n",
    "log_name = 'SP_PiLine_Component'\n",
    "print(work_dir + log_name + '.csv')\n",
    "piline_component = rt.read_timeseries_dpsim(work_dir + log_name + '.csv')\n",
    "piline_component_sp_shifted = ts.frequency_shift_list(piline_component, 50)"
   ]
  },
  {
   "cell_type": "code",
   "execution_count": null,
   "metadata": {},
   "outputs": [],
   "source": [
    "plt.figure()\n",
    "plt.plot(piline_component_sp_shifted['v1_shift'].time, piline_component_sp_shifted['v1_shift'].values, label='v1_shift')\n",
    "plt.plot(piline_component_sp_shifted['v2_shift'].time, piline_component_sp_shifted['v2_shift'].values, label='v2_shift', linestyle=':')\n",
    "plt.legend()\n",
    "plt.show()"
   ]
  },
  {
   "cell_type": "code",
   "execution_count": null,
   "metadata": {},
   "outputs": [],
   "source": [
    "plt.figure()\n",
    "plt.plot(piline_component_sp_shifted['iline_shift'].time, piline_component_sp_shifted['iline_shift'].values, label='iline_shift')\n",
    "plt.legend()\n",
    "plt.show()"
   ]
  },
  {
   "cell_type": "markdown",
   "metadata": {},
   "source": [
    "## Error for SP PiLine"
   ]
  },
  {
   "cell_type": "code",
   "execution_count": null,
   "metadata": {},
   "outputs": [],
   "source": [
    "plt.figure()\n",
    "for name in ['v1_shift', 'v2_shift', 'iline_shift']:\n",
    "    plt.plot(piline_elements_sp_shifted[name].time, piline_elements_sp_shifted[name].values - piline_component_sp_shifted[name].values, label=name+'_error')\n",
    "plt.legend()\n",
    "plt.show()"
   ]
  },
  {
   "cell_type": "markdown",
   "metadata": {},
   "source": [
    "## Assertion for SP PiLine"
   ]
  },
  {
   "cell_type": "code",
   "execution_count": null,
   "metadata": {},
   "outputs": [],
   "source": [
    "errors_sp_shifted = []\n",
    "for name in ['v1_shift', 'v2_shift', 'iline_shift']:\n",
    "    errors_sp_shifted.append(np.absolute(piline_elements_sp_shifted[name].values - piline_component_sp_shifted[name].values).max())\n",
    "    print(name + ': ' + str(errors_sp_shifted[-1]))\n",
    "assert np.max(errors_sp_shifted) < epsilon"
   ]
  },
  {
   "cell_type": "markdown",
   "metadata": {},
   "source": [
    "## DP PiLine with RLC elements"
   ]
  },
  {
   "cell_type": "code",
   "execution_count": null,
   "metadata": {},
   "outputs": [],
   "source": [
    "time_step = 0.00005\n",
    "final_time = 1\n",
    "sim_name = 'DP_PiLine_Elements'\n",
    "dpsimpy.Logger.set_log_dir('logs/' + sim_name)\n",
    "\n",
    "n1 = dpsimpy.dp.SimNode('n1')\n",
    "n2 = dpsimpy.dp.SimNode('n2')\n",
    "vn1 = dpsimpy.dp.SimNode('vn1')\n",
    "gnd = dpsimpy.dp.SimNode.gnd\n",
    "\n",
    "resistance = 5\n",
    "inductance = 0.16\n",
    "capacitance = 1e-6\n",
    "conductance = 1e-6\n",
    "\n",
    "vs = dpsimpy.dp.ph1.VoltageSource('v_1')\n",
    "vs.set_parameters(complex(100000, 0))\n",
    "res = dpsimpy.dp.ph1.Resistor('R_line')\n",
    "res.set_parameters(resistance)\n",
    "ind = dpsimpy.dp.ph1.Inductor('L_line')\n",
    "ind.set_parameters(inductance)\n",
    "cap1 = dpsimpy.dp.ph1.Capacitor('Cp_1')\n",
    "cap1.set_parameters(capacitance / 2)\n",
    "cap2 = dpsimpy.dp.ph1.Capacitor('Cp_2')\n",
    "cap2.set_parameters(capacitance / 2)\n",
    "con1 = dpsimpy.dp.ph1.Resistor('Gp_1')\n",
    "con1.set_parameters(2 / conductance)\n",
    "con2 = dpsimpy.dp.ph1.Resistor('Gp_2')\n",
    "con2.set_parameters(2 / conductance)\n",
    "\n",
    "load = dpsimpy.dp.ph1.Resistor('R_load')\n",
    "load.set_parameters(10000)\n",
    "\n",
    "vs.connect([gnd, n1])\n",
    "res.connect([n1, vn1])\n",
    "ind.connect([vn1, n2])\n",
    "cap1.connect([n1, gnd])\n",
    "cap2.connect([n2, gnd])\n",
    "con1.connect([n1, gnd])\n",
    "con2.connect([n2, gnd])\n",
    "load.connect([n2, gnd])\n",
    "\n",
    "sys = dpsimpy.SystemTopology(50, [n1, n2, vn1], [vs, res, ind, cap1, cap2, con1, con2, load])\n",
    "\n",
    "logger = dpsimpy.Logger(sim_name)\n",
    "logger.log_attribute('v1', 'v', n1)\n",
    "logger.log_attribute('v2', 'v', n2)\n",
    "logger.log_attribute('iline', 'i_intf', ind)\n",
    "logger.log_attribute('iload', 'i_intf', load)\n",
    "\n",
    "sim = dpsimpy.Simulation(sim_name)\n",
    "sim.set_system(sys)\n",
    "sim.set_time_step(time_step)\n",
    "sim.set_final_time(final_time)\n",
    "sim.set_domain(dpsimpy.Domain.DP)\n",
    "sim.add_logger(logger)\n",
    "\n",
    "sim.run()"
   ]
  },
  {
   "cell_type": "code",
   "execution_count": null,
   "metadata": {},
   "outputs": [],
   "source": [
    "time_step = 0.00005\n",
    "final_time = 1\n",
    "sim_name = 'DP_PiLine_Component'\n",
    "dpsimpy.Logger.set_log_dir('logs/' + sim_name)\n",
    "\n",
    "n1 = dpsimpy.dp.SimNode('n1')\n",
    "n2 = dpsimpy.dp.SimNode('n2')\n",
    "gnd = dpsimpy.dp.SimNode.gnd\n",
    "\n",
    "resistance = 5\n",
    "inductance = 0.16\n",
    "capacitance = 1e-6\n",
    "conductance = 1e-6\n",
    "\n",
    "vs = dpsimpy.dp.ph1.VoltageSource('v_1')\n",
    "vs.set_parameters(complex(100000, 0))\n",
    "\n",
    "line = dpsimpy.dp.ph1.PiLine('Line')\n",
    "line.set_parameters(resistance, inductance, capacitance, conductance)\n",
    "\n",
    "load = dpsimpy.dp.ph1.Resistor('R_load')\n",
    "load.set_parameters(10000)\n",
    "\n",
    "vs.connect([gnd, n1])\n",
    "line.connect([n1, n2])\n",
    "load.connect([n2, gnd])\n",
    "\n",
    "sys = dpsimpy.SystemTopology(50, [n1, n2], [vs, line, load])\n",
    "\n",
    "logger = dpsimpy.Logger(sim_name)\n",
    "logger.log_attribute('v1', 'v', n1)\n",
    "logger.log_attribute('v2', 'v', n2)\n",
    "logger.log_attribute('iline', 'i_intf', line)\n",
    "logger.log_attribute('iload', 'i_intf', load)\n",
    "\n",
    "sim = dpsimpy.Simulation(sim_name)\n",
    "sim.set_system(sys)\n",
    "sim.set_time_step(time_step)\n",
    "sim.set_final_time(final_time)\n",
    "sim.set_domain(dpsimpy.Domain.DP)\n",
    "sim.add_logger(logger)\n",
    "\n",
    "sim.run()"
   ]
  },
  {
   "cell_type": "code",
   "execution_count": null,
   "metadata": {},
   "outputs": [],
   "source": [
    "time_step = 0.00005\n",
    "final_time = 1\n",
    "sim_name = 'DP_PiLine_Diakoptics'\n",
    "dpsimpy.Logger.set_log_dir('logs/' + sim_name)\n",
    "\n",
    "n1 = dpsimpy.dp.SimNode('n1')\n",
    "n2 = dpsimpy.dp.SimNode('n2')\n",
    "gnd = dpsimpy.dp.SimNode.gnd\n",
    "\n",
    "vs = dpsimpy.dp.ph1.VoltageSource('v_1')\n",
    "vs.set_parameters(complex(100000, 0))\n",
    "\n",
    "line = dpsimpy.dp.ph1.PiLine('Line')\n",
    "line.set_parameters(5, 0.16, 1e-6)\n",
    "\n",
    "load = dpsimpy.dp.ph1.Resistor('R_load')\n",
    "load.set_parameters(10000)\n",
    "\n",
    "vs.connect([gnd, n1])\n",
    "line.connect([n1, n2])\n",
    "load.connect([n2, gnd])\n",
    "\n",
    "sys = dpsimpy.SystemTopology(50, [n1, n2], [vs, load])\n",
    "sys.add_tear_component(line)\n",
    "\n",
    "logger = dpsimpy.Logger(sim_name)\n",
    "logger.log_attribute('v1', 'v', n1)\n",
    "logger.log_attribute('v2', 'v', n2)\n",
    "\n",
    "sim = dpsimpy.Simulation(sim_name)\n",
    "sim.set_system(sys)\n",
    "sim.set_tearing_components(sys.tear_components)\n",
    "sim.set_time_step(time_step)\n",
    "sim.set_final_time(final_time)\n",
    "sim.set_domain(dpsimpy.Domain.DP)\n",
    "sim.add_logger(logger)\n",
    "\n",
    "sim.run()"
   ]
  },
  {
   "cell_type": "code",
   "execution_count": null,
   "metadata": {},
   "outputs": [],
   "source": [
    "work_dir = 'logs/DP_PiLine_Elements/'\n",
    "log_name = 'DP_PiLine_Elements'\n",
    "print(work_dir + log_name + '.csv')\n",
    "piline_elements = rt.read_timeseries_dpsim(work_dir + log_name + '.csv')\n",
    "piline_elements_dp_shifted = ts.frequency_shift_list(piline_elements, 50)"
   ]
  },
  {
   "cell_type": "code",
   "execution_count": null,
   "metadata": {},
   "outputs": [],
   "source": [
    "plt.figure()\n",
    "plt.plot(piline_elements_dp_shifted['v1_shift'].time, piline_elements_dp_shifted['v1_shift'].values, label='v1_shift')\n",
    "plt.plot(piline_elements_dp_shifted['v2_shift'].time, piline_elements_dp_shifted['v2_shift'].values, label='v2_shift', linestyle=':')\n",
    "plt.legend()\n",
    "plt.show()"
   ]
  },
  {
   "cell_type": "code",
   "execution_count": null,
   "metadata": {},
   "outputs": [],
   "source": [
    "plt.figure()\n",
    "plt.plot(piline_elements_dp_shifted['iline_shift'].time, piline_elements_dp_shifted['iline_shift'].values, label='iline_shift')\n",
    "plt.legend()\n",
    "plt.show()"
   ]
  },
  {
   "cell_type": "markdown",
   "metadata": {},
   "source": [
    "## DP PiLine composite model"
   ]
  },
  {
   "cell_type": "code",
   "execution_count": null,
   "metadata": {},
   "outputs": [],
   "source": [
    "work_dir = 'logs/DP_PiLine_Component/'\n",
    "log_name = 'DP_PiLine_Component'\n",
    "print(work_dir + log_name + '.csv')\n",
    "piline_component = rt.read_timeseries_dpsim(work_dir + log_name + '.csv')\n",
    "piline_component_dp_shifted = ts.frequency_shift_list(piline_component, 50)"
   ]
  },
  {
   "cell_type": "code",
   "execution_count": null,
   "metadata": {},
   "outputs": [],
   "source": [
    "plt.figure()\n",
    "plt.plot(piline_component_dp_shifted['v1_shift'].time, piline_component_dp_shifted['v1_shift'].values, label='v1_shift')\n",
    "plt.plot(piline_component_dp_shifted['v2_shift'].time, piline_component_dp_shifted['v2_shift'].values, label='v2_shift', linestyle=':')\n",
    "plt.legend()\n",
    "plt.show()"
   ]
  },
  {
   "cell_type": "code",
   "execution_count": null,
   "metadata": {},
   "outputs": [],
   "source": [
    "plt.figure()\n",
    "plt.plot(piline_component_dp_shifted['iline_shift'].time, piline_component_dp_shifted['iline_shift'].values, label='iline_shift')\n",
    "plt.legend()\n",
    "plt.show()"
   ]
  },
  {
   "cell_type": "markdown",
   "metadata": {},
   "source": [
    "## Error for DP PiLine"
   ]
  },
  {
   "cell_type": "code",
   "execution_count": null,
   "metadata": {},
   "outputs": [],
   "source": [
    "plt.figure()\n",
    "for name in ['v1_shift', 'v2_shift', 'iline_shift']:\n",
    "    plt.plot(piline_elements_dp_shifted[name].time, piline_elements_dp_shifted[name].values - piline_component_dp_shifted[name].values, label=name+'_error')\n",
    "plt.legend()\n",
    "plt.show()"
   ]
  },
  {
   "cell_type": "markdown",
   "metadata": {},
   "source": [
    "## Assertion for DP PiLine"
   ]
  },
  {
   "cell_type": "code",
   "execution_count": null,
   "metadata": {},
   "outputs": [],
   "source": [
    "errors_dp_shifted = []\n",
    "for name in ['v1_shift', 'v2_shift', 'iline_shift']:\n",
    "    errors_dp_shifted.append(np.absolute(piline_elements_dp_shifted[name].values - piline_component_dp_shifted[name].values).max())\n",
    "    print(name + ': ' + str(errors_dp_shifted[-1]))\n",
    "assert np.max(errors_dp_shifted) < epsilon"
   ]
  },
  {
   "cell_type": "markdown",
   "metadata": {},
   "source": [
    "## EMT PiLine with RLC elements"
   ]
  },
  {
   "cell_type": "code",
   "execution_count": null,
   "metadata": {},
   "outputs": [],
   "source": [
    "time_step = 0.00005\n",
    "final_time = 1\n",
    "sim_name = 'EMT_PiLine_Elements'\n",
    "dpsimpy.Logger.set_log_dir('logs/' + sim_name)\n",
    "\n",
    "n1 = dpsimpy.emt.SimNode('n1', dpsimpy.PhaseType.ABC)\n",
    "n2 = dpsimpy.emt.SimNode('n2', dpsimpy.PhaseType.ABC)\n",
    "vn1 = dpsimpy.emt.SimNode('vn1', dpsimpy.PhaseType.ABC)\n",
    "gnd = dpsimpy.emt.SimNode.gnd\n",
    "\n",
    "resistance = 5\n",
    "inductance = 0.16\n",
    "capacitance = 1e-6\n",
    "conductance = 1e-6\n",
    "\n",
    "vs = dpsimpy.emt.ph3.VoltageSource('v_1', dpsimpy.LogLevel.debug)\n",
    "vs.set_parameters(dpsimpy.Math.single_phase_variable_to_three_phase(complex(100000, 0)), 50)\n",
    "res = dpsimpy.emt.ph3.Resistor('R_line', dpsimpy.LogLevel.debug)\n",
    "res.set_parameters(dpsimpy.Math.single_phase_parameter_to_three_phase(resistance))\n",
    "ind = dpsimpy.emt.ph3.Inductor('L_line', dpsimpy.LogLevel.debug)\n",
    "ind.set_parameters(dpsimpy.Math.single_phase_parameter_to_three_phase(inductance))\n",
    "cap1 = dpsimpy.emt.ph3.Capacitor('Cp_1', dpsimpy.LogLevel.debug)\n",
    "cap1.set_parameters(dpsimpy.Math.single_phase_parameter_to_three_phase(capacitance / 2))\n",
    "cap2 = dpsimpy.emt.ph3.Capacitor('Cp_2', dpsimpy.LogLevel.debug)\n",
    "cap2.set_parameters(dpsimpy.Math.single_phase_parameter_to_three_phase(capacitance / 2))\n",
    "con1 = dpsimpy.emt.ph3.Resistor('Gp_1', dpsimpy.LogLevel.debug)\n",
    "con1.set_parameters(dpsimpy.Math.single_phase_parameter_to_three_phase(2 / conductance))\n",
    "con2 = dpsimpy.emt.ph3.Resistor('Gp_2', dpsimpy.LogLevel.debug)\n",
    "con2.set_parameters(dpsimpy.Math.single_phase_parameter_to_three_phase(2 / conductance))\n",
    "\n",
    "load = dpsimpy.emt.ph3.Resistor('R_load', dpsimpy.LogLevel.debug)\n",
    "load.set_parameters(dpsimpy.Math.single_phase_parameter_to_three_phase(10000))\n",
    "\n",
    "vs.connect([gnd, n1])\n",
    "res.connect([n1, vn1])\n",
    "ind.connect([vn1, n2])\n",
    "cap1.connect([n1, gnd])\n",
    "cap2.connect([n2, gnd])\n",
    "con1.connect([n1, gnd])\n",
    "con2.connect([n2, gnd])\n",
    "load.connect([n2, gnd])\n",
    "\n",
    "sys = dpsimpy.SystemTopology(50, [n1, n2, vn1], [vs, res, ind, cap1, cap2, con1, con2, load])\n",
    "\n",
    "logger = dpsimpy.Logger(sim_name)\n",
    "logger.log_attribute('v1', 'v', n1)\n",
    "logger.log_attribute('v2', 'v', n2)\n",
    "logger.log_attribute('iline', 'i_intf', ind)\n",
    "\n",
    "sim = dpsimpy.Simulation(sim_name, dpsimpy.LogLevel.debug)\n",
    "sim.set_system(sys)\n",
    "sim.set_domain(dpsimpy.Domain.EMT)\n",
    "sim.set_time_step(time_step)\n",
    "sim.set_final_time(final_time)\n",
    "sim.add_logger(logger)\n",
    "\n",
    "sim.run()"
   ]
  },
  {
   "cell_type": "code",
   "execution_count": null,
   "metadata": {},
   "outputs": [],
   "source": [
    "time_step = 0.00005\n",
    "final_time = 1\n",
    "sim_name = 'EMT_PiLine_Component'\n",
    "dpsimpy.Logger.set_log_dir('logs/' + sim_name)\n",
    "\n",
    "n1 = dpsimpy.emt.SimNode('n1', dpsimpy.PhaseType.ABC)\n",
    "n2 = dpsimpy.emt.SimNode('n2', dpsimpy.PhaseType.ABC)\n",
    "gnd = dpsimpy.emt.SimNode.gnd\n",
    "\n",
    "resistance = 5\n",
    "inductance = 0.16\n",
    "capacitance = 1e-6\n",
    "conductance = 1e-6\n",
    "\n",
    "vs = dpsimpy.emt.ph3.VoltageSource('v_1', dpsimpy.LogLevel.debug)\n",
    "vs.set_parameters(dpsimpy.Math.single_phase_variable_to_three_phase(complex(100000, 0)), 50)\n",
    "\n",
    "line = dpsimpy.emt.ph3.PiLine('Line', dpsimpy.LogLevel.debug)\n",
    "line.set_parameters(dpsimpy.Math.single_phase_parameter_to_three_phase(resistance),\n",
    "                    dpsimpy.Math.single_phase_parameter_to_three_phase(inductance),\n",
    "                    dpsimpy.Math.single_phase_parameter_to_three_phase(capacitance),\n",
    "                    dpsimpy.Math.single_phase_parameter_to_three_phase(conductance))\n",
    "\n",
    "load = dpsimpy.emt.ph3.Resistor('R_load', dpsimpy.LogLevel.debug)\n",
    "load.set_parameters(dpsimpy.Math.single_phase_parameter_to_three_phase(10000))\n",
    "\n",
    "vs.connect([gnd, n1])\n",
    "line.connect([n1, n2])\n",
    "load.connect([n2, gnd])\n",
    "\n",
    "sys = dpsimpy.SystemTopology(50, [n1, n2], [vs, line, load])\n",
    "\n",
    "logger = dpsimpy.Logger(sim_name)\n",
    "logger.log_attribute('v1', 'v', n1)\n",
    "logger.log_attribute('v2', 'v', n2)\n",
    "logger.log_attribute('iline', 'i_intf', line)\n",
    "logger.log_attribute('iload', 'i_intf', load)\n",
    "\n",
    "sim = dpsimpy.Simulation(sim_name)\n",
    "sim.set_system(sys)\n",
    "sim.set_time_step(time_step)\n",
    "sim.set_final_time(final_time)\n",
    "sim.set_domain(dpsimpy.Domain.EMT)\n",
    "sim.add_logger(logger)\n",
    "\n",
    "sim.run()"
   ]
  },
  {
   "cell_type": "code",
   "execution_count": null,
   "metadata": {},
   "outputs": [],
   "source": [
    "work_dir = 'logs/EMT_PiLine_Elements/'\n",
    "log_name = 'EMT_PiLine_Elements'\n",
    "print(work_dir + log_name + '.csv')\n",
    "piline_elements_emt = rt.read_timeseries_dpsim(work_dir + log_name + '.csv')"
   ]
  },
  {
   "cell_type": "code",
   "execution_count": null,
   "metadata": {},
   "outputs": [],
   "source": [
    "plt.figure()\n",
    "plt.plot(piline_elements_emt['v1_0'].time, piline_elements_emt['v1_0'].values, label='v1_0')\n",
    "plt.plot(piline_elements_emt['v2_0'].time, piline_elements_emt['v2_0'].values, label='v2_0', linestyle=':')\n",
    "plt.legend()\n",
    "plt.show()"
   ]
  },
  {
   "cell_type": "code",
   "execution_count": null,
   "metadata": {},
   "outputs": [],
   "source": [
    "plt.figure()\n",
    "plt.plot(piline_elements_emt['iline_0'].time, piline_elements_emt['iline_0'].values, label='iline_0')\n",
    "plt.legend()\n",
    "plt.show()"
   ]
  },
  {
   "cell_type": "markdown",
   "metadata": {},
   "source": [
    "## EMT PiLine composite model"
   ]
  },
  {
   "cell_type": "code",
   "execution_count": null,
   "metadata": {},
   "outputs": [],
   "source": [
    "work_dir = 'logs/EMT_PiLine_Component/'\n",
    "log_name = 'EMT_PiLine_Component'\n",
    "print(work_dir + log_name + '.csv')\n",
    "piline_component_emt = rt.read_timeseries_dpsim(work_dir + log_name + '.csv')"
   ]
  },
  {
   "cell_type": "code",
   "execution_count": null,
   "metadata": {},
   "outputs": [],
   "source": [
    "plt.figure()\n",
    "plt.plot(piline_component_emt['v1_0'].time, piline_component_emt['v1_0'].values, label='v1_0')\n",
    "plt.plot(piline_component_emt['v2_0'].time, piline_component_emt['v2_0'].values, label='v2_0', linestyle=':')\n",
    "plt.legend()\n",
    "plt.show()"
   ]
  },
  {
   "cell_type": "code",
   "execution_count": null,
   "metadata": {},
   "outputs": [],
   "source": [
    "plt.figure()\n",
    "plt.plot(piline_component_emt['iline_0'].time, piline_component_emt['iline_0'].values, label='iline_0')\n",
    "plt.legend()\n",
    "plt.show()"
   ]
  },
  {
   "cell_type": "markdown",
   "metadata": {},
   "source": [
    "## Error for EMT PiLine"
   ]
  },
  {
   "cell_type": "code",
   "execution_count": null,
   "metadata": {},
   "outputs": [],
   "source": [
    "plt.figure()\n",
    "for name in ['v1_0', 'v2_0', 'iline_0']:\n",
    "    plt.plot(piline_elements_emt[name].time, piline_elements_emt[name].values - piline_component_emt[name].values, label=name+'_error')\n",
    "plt.legend()\n",
    "plt.show()"
   ]
  },
  {
   "cell_type": "markdown",
   "metadata": {},
   "source": [
    "## Assertion for EMT PiLine"
   ]
  },
  {
   "cell_type": "code",
   "execution_count": null,
   "metadata": {},
   "outputs": [],
   "source": [
    "errors_emt = []\n",
    "for name in ['v1_0', 'v2_0', 'iline_0']:\n",
    "    errors_emt.append(np.absolute(piline_elements_emt[name].values - piline_component_emt[name].values).max())\n",
    "    print(name + ': ' + str(errors_emt[-1]))\n",
    "assert np.max(errors_emt) < epsilon"
   ]
  },
  {
   "cell_type": "markdown",
   "metadata": {},
   "source": [
    "## Compare PiLine Component DP vs. EMT"
   ]
  },
  {
   "cell_type": "code",
   "execution_count": null,
   "metadata": {},
   "outputs": [],
   "source": [
    "plt.figure()\n",
    "plt.plot(piline_component_emt['v1_0'].time, np.sqrt(3/2)*piline_component_emt['v1_0'].values - piline_component_dp_shifted['v1_shift'].values, label='v1_0 vs. v1_shift')\n",
    "plt.plot(piline_component_emt['v2_0'].time, np.sqrt(3/2)*piline_component_emt['v2_0'].values - piline_component_dp_shifted['v2_shift'].values, label='v2_0 vs. v2_shift', linestyle=':')\n",
    "plt.legend()\n",
    "plt.show()"
   ]
  },
  {
   "cell_type": "code",
   "execution_count": null,
   "metadata": {},
   "outputs": [],
   "source": [
    "plt.figure()\n",
    "plt.plot(piline_component_emt['iline_0'].time, np.sqrt(3/2)*piline_component_emt['iline_0'].values - piline_component_dp_shifted['iline_shift'].values, label='iline_0'+' vs. '+'iline_shift')\n",
    "plt.legend()\n",
    "plt.show()"
   ]
  },
  {
   "cell_type": "markdown",
   "metadata": {},
   "source": [
    "## Assertion DP vs. EMT for PiLine Component"
   ]
  },
  {
   "cell_type": "code",
   "execution_count": null,
   "metadata": {},
   "outputs": [],
   "source": [
    "compare_errors_abs = []\n",
    "compare_errors_rel = []\n",
    "for name in [('v1_0', 'v1_shift'), ('v2_0', 'v2_shift'), ('iline_0', 'iline_shift')]:\n",
    "    compare_errors_abs.append(np.absolute(np.sqrt(3/2)*piline_component_emt[name[0]].values - piline_component_dp_shifted[name[1]].values).max())\n",
    "    compare_errors_rel.append(np.absolute(np.sqrt(3/2)*piline_component_emt[name[0]].values - piline_component_dp_shifted[name[1]].values).max()/piline_component_dp_shifted[name[1]].values.max())\n",
    "    print(name[0]+' vs. '+name[1] + ' (abs): ' + str(compare_errors_abs[-1]))\n",
    "    print(name[0]+' vs. '+name[1] + ' (rel): ' + str(compare_errors_rel[-1]))\n",
    "print('Max rel error: '+ '{:.2}'.format(np.max(compare_errors_rel)*100) +'%')\n",
    "assert np.max(compare_errors_rel) < 1e-3"
   ]
  },
  {
   "cell_type": "markdown",
   "metadata": {},
   "source": [
    "## Diakoptics PI-Line"
   ]
  },
  {
   "cell_type": "code",
   "execution_count": null,
   "metadata": {},
   "outputs": [],
   "source": [
    "work_dir = 'logs/DP_PiLine_Diakoptics/'\n",
    "log_name = 'DP_PiLine_Diakoptics'\n",
    "print(work_dir + log_name + '.csv')\n",
    "piline_diakoptics = rt.read_timeseries_dpsim(work_dir + log_name + '.csv')\n",
    "piline_diakoptics_emt = ts.frequency_shift_list(piline_diakoptics, 50)"
   ]
  },
  {
   "cell_type": "code",
   "execution_count": null,
   "metadata": {},
   "outputs": [],
   "source": [
    "plt.figure()\n",
    "plt.plot(piline_diakoptics_emt['v1_shift'].time, piline_diakoptics_emt['v1_shift'].values)\n",
    "plt.plot(piline_diakoptics_emt['v2_shift'].time, piline_diakoptics_emt['v2_shift'].values)\n",
    "#plt.xlim([0,0.02])\n",
    "plt.show()"
   ]
  },
  {
   "cell_type": "markdown",
   "metadata": {},
   "source": [
    "## Decoupling Line"
   ]
  },
  {
   "cell_type": "code",
   "execution_count": null,
   "metadata": {},
   "outputs": [],
   "source": [
    "time_step = 0.00005\n",
    "final_time = 0.1\n",
    "sim_name = 'DP_Decoupling_Elements'\n",
    "dpsimpy.Logger.set_log_dir('logs/' + sim_name)\n",
    "\n",
    "n1 = dpsimpy.dp.SimNode('n1')\n",
    "n2 = dpsimpy.dp.SimNode('n2')\n",
    "vn1 = dpsimpy.dp.SimNode('vn1')\n",
    "gnd = dpsimpy.dp.SimNode.gnd\n",
    "\n",
    "resistance = 5\n",
    "inductance = 0.16\n",
    "capacitance = 1e-6\n",
    "\n",
    "vs = dpsimpy.dp.ph1.VoltageSource('v_1')\n",
    "vs.set_parameters(100000 * np.exp(-np.pi*1j/2))\n",
    "res = dpsimpy.dp.ph1.Resistor('R_line')\n",
    "res.set_parameters(resistance)\n",
    "ind = dpsimpy.dp.ph1.Inductor('L_line')\n",
    "ind.set_parameters(inductance)\n",
    "cap1 = dpsimpy.dp.ph1.Capacitor('Cp_1')\n",
    "cap1.set_parameters(capacitance / 2)\n",
    "cap2 = dpsimpy.dp.ph1.Capacitor('Cp_2')\n",
    "cap2.set_parameters(capacitance / 2)\n",
    "\n",
    "load = dpsimpy.dp.ph1.Resistor('R_load')\n",
    "load.set_parameters(10000)\n",
    "\n",
    "vs.connect([gnd, n1])\n",
    "res.connect([n1, vn1])\n",
    "ind.connect([vn1, n2])\n",
    "cap1.connect([n1, gnd])\n",
    "cap2.connect([n2, gnd])\n",
    "load.connect([n2, gnd])\n",
    "\n",
    "sys = dpsimpy.SystemTopology(50, [n1, n2, vn1], [vs, res, ind, cap1, cap2, load])\n",
    "\n",
    "logger = dpsimpy.Logger(sim_name)\n",
    "logger.log_attribute('v1', 'v', n1)\n",
    "logger.log_attribute('v2', 'v', n2)\n",
    "\n",
    "sim = dpsimpy.Simulation(sim_name)\n",
    "sim.set_system(sys)\n",
    "sim.set_time_step(time_step)\n",
    "sim.set_final_time(final_time)\n",
    "sim.set_domain(dpsimpy.Domain.DP)\n",
    "sim.add_logger(logger)\n",
    "\n",
    "sim.run()"
   ]
  },
  {
   "cell_type": "code",
   "execution_count": null,
   "metadata": {},
   "outputs": [],
   "source": [
    "time_step = 0.00005\n",
    "final_time = 0.1\n",
    "sim_name = 'DP_Decoupling_Wave'\n",
    "dpsimpy.Logger.set_log_dir('logs/' + sim_name)\n",
    "\n",
    "n1 = dpsimpy.dp.SimNode('n1')\n",
    "n2 = dpsimpy.dp.SimNode('n2')\n",
    "gnd = dpsimpy.dp.SimNode.gnd\n",
    "\n",
    "resistance = 5\n",
    "inductance = 0.16\n",
    "capacitance = 1e-6\n",
    "\n",
    "vs = dpsimpy.dp.ph1.VoltageSource('Vsrc')\n",
    "vs.set_parameters(complex(100000, 0))\n",
    "\n",
    "dline = dpsimpy.signal.DecouplingLine('DecLine', dpsimpy.LogLevel.debug)\n",
    "dline.set_parameters(n1, n2, resistance, inductance, capacitance)\n",
    "\n",
    "load = dpsimpy.dp.ph1.Resistor('R_load')\n",
    "load.set_parameters(10000)\n",
    "\n",
    "vs.connect([gnd, n1])\n",
    "load.connect([n2, gnd])\n",
    "\n",
    "sys = dpsimpy.SystemTopology(50, [n1, n2], [vs, dline, load])\n",
    "sys.add(dline.get_line_components())\n",
    "\n",
    "logger = dpsimpy.Logger(sim_name)\n",
    "logger.log_attribute('v1', 'v', n1)\n",
    "logger.log_attribute('v2', 'v', n2)\n",
    "logger.log_attribute('i1', 'i_intf', vs)\n",
    "logger.log_attribute('i2', 'i_intf', load)\n",
    "logger.log_attribute('i_src1', 'i_src1', dline)\n",
    "logger.log_attribute('i_src2', 'i_src2', dline)\n",
    "\n",
    "sim = dpsimpy.Simulation(sim_name)\n",
    "sim.set_system(sys)\n",
    "sim.set_time_step(time_step)\n",
    "sim.set_final_time(final_time)\n",
    "sim.add_logger(logger)\n",
    "\n",
    "sim.run()"
   ]
  },
  {
   "cell_type": "code",
   "execution_count": null,
   "metadata": {},
   "outputs": [],
   "source": [
    "time_step = 0.00005\n",
    "final_time = 0.1\n",
    "sim_name = 'EMT_Decoupling_Wave'\n",
    "dpsimpy.Logger.set_log_dir('logs/' + sim_name)\n",
    "\n",
    "n1 = dpsimpy.emt.SimNode('n1')\n",
    "n2 = dpsimpy.emt.SimNode('n2')\n",
    "gnd = dpsimpy.emt.SimNode.gnd\n",
    "\n",
    "resistance = 5\n",
    "inductance = 0.16\n",
    "capacitance = 1e-6\n",
    "\n",
    "vs = dpsimpy.emt.ph1.VoltageSource('Vsrc_emt')\n",
    "vs.set_parameters(complex(100000, 0), 50)\n",
    "\n",
    "dline = dpsimpy.signal.DecouplingLineEMT('DecLine_emt', dpsimpy.LogLevel.debug)\n",
    "dline.set_parameters(n1, n2, resistance, inductance, capacitance)\n",
    "\n",
    "load = dpsimpy.emt.ph1.Resistor('R_load')\n",
    "load.set_parameters(10000)\n",
    "\n",
    "vs.connect([gnd, n1])\n",
    "load.connect([n2, gnd])\n",
    "\n",
    "sys = dpsimpy.SystemTopology(50, [n1, n2], [vs, dline, load])\n",
    "sys.add(dline.get_line_components())\n",
    "\n",
    "logger = dpsimpy.Logger(sim_name)\n",
    "logger.log_attribute('i1', 'i_intf', vs)\n",
    "logger.log_attribute('i_src1', 'i_src1', dline)\n",
    "logger.log_attribute('i_src2', 'i_src2', dline)\n",
    "logger.log_attribute('i2', 'i_intf', load)\n",
    "logger.log_attribute('v1', 'v', n1)\n",
    "logger.log_attribute('v2', 'v', n2)\n",
    "\n",
    "sim = dpsimpy.Simulation(sim_name)\n",
    "sim.set_system(sys)\n",
    "sim.set_time_step(time_step)\n",
    "sim.set_final_time(final_time)\n",
    "sim.set_domain(dpsimpy.Domain.EMT)\n",
    "sim.add_logger(logger)\n",
    "\n",
    "sim.run()"
   ]
  },
  {
   "cell_type": "code",
   "execution_count": null,
   "metadata": {},
   "outputs": [],
   "source": [
    "time_step = 0.00005\n",
    "final_time = 0.1\n",
    "sim_name = 'EMT_Decoupling_Wave_Ph3'\n",
    "dpsimpy.Logger.set_log_dir('logs/' + sim_name)\n",
    "\n",
    "n1 = dpsimpy.emt.SimNode('n1', dpsimpy.PhaseType.ABC)\n",
    "n2 = dpsimpy.emt.SimNode('n2', dpsimpy.PhaseType.ABC)\n",
    "gnd = dpsimpy.emt.SimNode.gnd\n",
    "\n",
    "resistance = dpsimpy.Math.single_phase_parameter_to_three_phase(5)\n",
    "inductance = dpsimpy.Math.single_phase_parameter_to_three_phase(0.16)\n",
    "capacitance = dpsimpy.Math.single_phase_parameter_to_three_phase(1e-6)\n",
    "\n",
    "vs = dpsimpy.emt.ph3.VoltageSource('Vsrc_emt')\n",
    "vs_ref_rms = 100000 * dpsimpy.PEAK1PH_TO_RMS3PH\n",
    "vs_ref_ph3 = dpsimpy.Math.single_phase_variable_to_three_phase(complex(vs_ref_rms, 0))\n",
    "vs.set_parameters(vs_ref_ph3, 50)\n",
    "\n",
    "dline = dpsimpy.signal.DecouplingLine_EMT_Ph3('DecLine_emt_ph3', dpsimpy.LogLevel.debug)\n",
    "dline.set_parameters(n1, n2, resistance, inductance, capacitance)\n",
    "\n",
    "load = dpsimpy.emt.ph3.Resistor('R_load')\n",
    "load.set_parameters(dpsimpy.Math.single_phase_parameter_to_three_phase(10000))\n",
    "\n",
    "vs.connect([gnd, n1])\n",
    "load.connect([n2, gnd])\n",
    "\n",
    "sys = dpsimpy.SystemTopology(50, [n1, n2], [vs, dline, load])\n",
    "sys.add(dline.get_line_components())\n",
    "\n",
    "logger = dpsimpy.Logger(sim_name)\n",
    "logger.log_attribute('v1', 'v', n1)\n",
    "logger.log_attribute('v2', 'v', n2)\n",
    "logger.log_attribute('i1', 'i_intf', vs)\n",
    "logger.log_attribute('i2', 'i_intf', load)\n",
    "logger.log_attribute('i_src1', 'i_src1', dline)\n",
    "logger.log_attribute('i_src2', 'i_src2', dline)\n",
    "\n",
    "sim = dpsimpy.Simulation(sim_name)\n",
    "sim.set_system(sys)\n",
    "sim.set_time_step(time_step)\n",
    "sim.set_final_time(final_time)\n",
    "sim.set_domain(dpsimpy.Domain.EMT)\n",
    "sim.add_logger(logger)\n",
    "\n",
    "sim.run()"
   ]
  },
  {
   "cell_type": "code",
   "execution_count": null,
   "metadata": {},
   "outputs": [],
   "source": [
    "work_dir = 'logs/DP_Decoupling_Wave/'\n",
    "log_name = 'DP_Decoupling_Wave'\n",
    "print(work_dir + log_name + '.csv')\n",
    "decoupling_wave = rt.read_timeseries_dpsim(work_dir + log_name + '.csv')\n",
    "decoupling_wave_emt = ts.frequency_shift_list(decoupling_wave, 50)"
   ]
  },
  {
   "cell_type": "code",
   "execution_count": null,
   "metadata": {},
   "outputs": [],
   "source": [
    "plt.figure()\n",
    "plt.plot(decoupling_wave_emt['v1_shift'].time, decoupling_wave_emt['v1_shift'].values)\n",
    "plt.plot(decoupling_wave_emt['v2_shift'].time, decoupling_wave_emt['v2_shift'].values)\n",
    "#plt.xlim([0,0.02])\n",
    "plt.show()"
   ]
  },
  {
   "cell_type": "code",
   "execution_count": null,
   "metadata": {},
   "outputs": [],
   "source": [
    "plt.figure()\n",
    "plt.plot(decoupling_wave_emt['i1_shift'].time, decoupling_wave_emt['i1_shift'].values)\n",
    "plt.plot(decoupling_wave_emt['i2_shift'].time, decoupling_wave_emt['i2_shift'].values)\n",
    "#plt.xlim([0.02,0.1])\n",
    "#plt.ylim([-20,20])\n",
    "plt.show()"
   ]
  },
  {
   "cell_type": "code",
   "execution_count": null,
   "metadata": {},
   "outputs": [],
   "source": [
    "plt.figure()\n",
    "plt.plot(decoupling_wave_emt['i_src1_shift'].time, decoupling_wave_emt['i_src1_shift'].values)\n",
    "plt.plot(decoupling_wave_emt['i_src2_shift'].time, decoupling_wave_emt['i_src2_shift'].values)\n",
    "#plt.xlim([0.02,0.1])\n",
    "#plt.ylim([-20,20])\n",
    "plt.show()"
   ]
  },
  {
   "cell_type": "code",
   "execution_count": null,
   "metadata": {},
   "outputs": [],
   "source": [
    "i_src1_phasor = decoupling_wave['i_src1'].phasor()\n",
    "i_src2_phasor = decoupling_wave['i_src2'].phasor()\n",
    "plt.figure()\n",
    "plt.plot(i_src1_phasor['abs'].time, i_src1_phasor['abs'].values)\n",
    "plt.plot(i_src2_phasor['abs'].time, i_src2_phasor['abs'].values)\n",
    "#plt.xlim([0.04,0.06])\n",
    "#plt.ylim([220,280])\n",
    "plt.show()"
   ]
  },
  {
   "cell_type": "code",
   "execution_count": null,
   "metadata": {},
   "outputs": [],
   "source": [
    "work_dir = 'logs/EMT_Decoupling_Wave/'\n",
    "log_name = 'EMT_Decoupling_Wave'\n",
    "print(work_dir + log_name + '.csv')\n",
    "emt_decoupling_wave = rt.read_timeseries_dpsim(work_dir + log_name + '.csv')"
   ]
  },
  {
   "cell_type": "code",
   "execution_count": null,
   "metadata": {},
   "outputs": [],
   "source": [
    "plt.figure()\n",
    "plt.plot(emt_decoupling_wave['v1'].time, emt_decoupling_wave['v1'].values)\n",
    "plt.plot(emt_decoupling_wave['v2'].time, emt_decoupling_wave['v2'].values)\n",
    "#plt.xlim([0,0.02])\n",
    "plt.show()"
   ]
  },
  {
   "cell_type": "code",
   "execution_count": null,
   "metadata": {},
   "outputs": [],
   "source": [
    "plt.figure()\n",
    "plt.plot(emt_decoupling_wave['i_src1'].time, emt_decoupling_wave['i_src1'].values)\n",
    "plt.plot(emt_decoupling_wave['i_src2'].time, emt_decoupling_wave['i_src2'].values)\n",
    "#plt.xlim([0,0.02])\n",
    "plt.show()"
   ]
  },
  {
   "cell_type": "code",
   "execution_count": null,
   "metadata": {},
   "outputs": [],
   "source": [
    "plt.figure()\n",
    "plt.plot(emt_decoupling_wave['i1'].time, emt_decoupling_wave['i1'].values)\n",
    "plt.plot(emt_decoupling_wave['i2'].time, emt_decoupling_wave['i2'].values)\n",
    "#plt.xlim([0,0.02])\n",
    "plt.show()"
   ]
  },
  {
   "cell_type": "code",
   "execution_count": null,
   "metadata": {},
   "outputs": [],
   "source": [
    "work_dir = 'logs/EMT_Decoupling_Wave_Ph3/'\n",
    "log_name = 'EMT_Decoupling_Wave_Ph3'\n",
    "print(work_dir + log_name + '.csv')\n",
    "emt_decoupling_wave_ph3 = rt.read_timeseries_dpsim(work_dir + log_name + '.csv')"
   ]
  },
  {
   "cell_type": "code",
   "execution_count": null,
   "metadata": {},
   "outputs": [],
   "source": [
    "plt.figure()\n",
    "plt.plot(emt_decoupling_wave_ph3['v1_0'].time, emt_decoupling_wave_ph3['v1_0'].values)\n",
    "plt.plot(emt_decoupling_wave_ph3['v2_0'].time, emt_decoupling_wave_ph3['v2_0'].values)\n",
    "#plt.xlim([0,0.02])\n",
    "plt.show()"
   ]
  },
  {
   "cell_type": "code",
   "execution_count": null,
   "metadata": {},
   "outputs": [],
   "source": [
    "plt.figure()\n",
    "plt.plot(emt_decoupling_wave_ph3['i_src1_0'].time, emt_decoupling_wave_ph3['i_src1_0'].values)\n",
    "plt.plot(emt_decoupling_wave_ph3['i_src2_0'].time, emt_decoupling_wave_ph3['i_src2_0'].values)\n",
    "#plt.xlim([0,0.02])\n",
    "plt.show()"
   ]
  },
  {
   "cell_type": "code",
   "execution_count": null,
   "metadata": {},
   "outputs": [],
   "source": [
    "plt.figure()\n",
    "plt.plot(emt_decoupling_wave_ph3['i1_0'].time, emt_decoupling_wave_ph3['i1_0'].values)\n",
    "plt.plot(emt_decoupling_wave_ph3['i2_0'].time, emt_decoupling_wave_ph3['i2_0'].values)\n",
    "#plt.xlim([0,0.02])\n",
    "plt.show()"
   ]
  },
  {
   "cell_type": "code",
   "execution_count": null,
   "metadata": {},
   "outputs": [],
   "source": [
    "plt.figure()\n",
    "plt.plot(emt_decoupling_wave['i1'].time, emt_decoupling_wave['i1'].values, color = '#939393ff', label = 'i1_emt')\n",
    "plt.plot(emt_decoupling_wave['i2'].time, emt_decoupling_wave['i2'].values, color = '#939393ff', label = 'i2_emt')\n",
    "plt.plot(decoupling_wave_emt['i1_shift'].time, decoupling_wave_emt['i1_shift'].values, linestyle=':', color = '#0055ffff', label = 'i1_dp')\n",
    "plt.plot(decoupling_wave_emt['i2_shift'].time, decoupling_wave_emt['i2_shift'].values, linestyle=':', color = '#d62728ff', label = 'i2_dp')\n",
    "plt.legend()\n",
    "plt.xlabel('time (s)')\n",
    "plt.ylabel('current (A)')\n",
    "#plt.xlim([0.02,0.1])\n",
    "#plt.ylim([-20,20])\n",
    "plt.savefig('tlm_dp_emt_current.pdf')"
   ]
  },
  {
   "cell_type": "code",
   "execution_count": null,
   "metadata": {},
   "outputs": [],
   "source": [
    "plt.figure()\n",
    "plt.plot(emt_decoupling_wave['v1'].time, emt_decoupling_wave['v1'].values, color = '#939393ff', label = 'v1_emt')\n",
    "plt.plot(emt_decoupling_wave['v2'].time, emt_decoupling_wave['v2'].values, color = '#939393ff', label = 'v2_emt')\n",
    "plt.plot(decoupling_wave_emt['v1_shift'].time, decoupling_wave_emt['v1_shift'].values, linestyle=':', color = '#0055ffff', label = 'v1_dp')\n",
    "plt.plot(decoupling_wave_emt['v2_shift'].time, decoupling_wave_emt['v2_shift'].values, linestyle=':', color = '#d62728ff', label = 'v1_dp')\n",
    "plt.legend()\n",
    "plt.xlabel('time (s)')\n",
    "plt.ylabel('voltage (V)')\n",
    "#plt.xlim([0.02,0.1])\n",
    "#plt.ylim([-20,20])\n",
    "plt.savefig('tlm_dp_emt_voltage.pdf')"
   ]
  },
  {
   "cell_type": "code",
   "execution_count": null,
   "metadata": {},
   "outputs": [],
   "source": [
    "plt.figure()\n",
    "plt.plot(emt_decoupling_wave['v1'].time, emt_decoupling_wave['v1'].values, color = '#939393ff', label = 'v1_emt')\n",
    "plt.plot(emt_decoupling_wave['v2'].time, emt_decoupling_wave['v2'].values, color = '#939393ff', label = 'v2_emt')\n",
    "plt.plot(emt_decoupling_wave_ph3['v1_0'].time, emt_decoupling_wave_ph3['v1_0'].values, linestyle=':', color = '#0055ffff', label = 'v1_emt_ph3')\n",
    "plt.plot(emt_decoupling_wave_ph3['v2_0'].time, emt_decoupling_wave_ph3['v2_0'].values, linestyle=':', color = '#d62728ff', label = 'v2_emt_ph3')\n",
    "plt.legend()\n",
    "plt.xlabel('time (s)')\n",
    "plt.ylabel('voltage (V)')\n",
    "#plt.xlim([0.02,0.1])\n",
    "#plt.ylim([-20,20])\n",
    "plt.savefig('tlm_dp_emt_voltage.pdf')"
   ]
  },
  {
   "cell_type": "code",
   "execution_count": null,
   "metadata": {},
   "outputs": [],
   "source": [
    "plt.figure()\n",
    "plt.plot(emt_decoupling_wave['i_src1'].time, emt_decoupling_wave['i_src1'].values, color = '#939393ff', label = 'i_src1_emt')\n",
    "plt.plot(emt_decoupling_wave['i_src2'].time, emt_decoupling_wave['i_src2'].values, color = '#939393ff', label = 'i_src2_emt')\n",
    "plt.plot(emt_decoupling_wave_ph3['i_src1_0'].time, emt_decoupling_wave_ph3['i_src1_0'].values, linestyle=':', color = '#0055ffff', label = 'i_src1_emt_ph3')\n",
    "plt.plot(emt_decoupling_wave_ph3['i_src2_0'].time, emt_decoupling_wave_ph3['i_src2_0'].values, linestyle=':', color = '#d62728ff', label = 'i_src2_emt_ph3')\n",
    "plt.legend()\n",
    "plt.xlabel('time (s)')\n",
    "plt.ylabel('voltage (V)')\n",
    "#plt.xlim([0.02,0.1])\n",
    "#plt.ylim([-20,20])\n",
    "plt.savefig('tlm_dp_emt_voltage.pdf')"
   ]
  }
 ],
 "metadata": {
  "kernelspec": {
   "display_name": "Python 3",
   "language": "python",
   "name": "python3"
  },
  "language_info": {
   "codemirror_mode": {
    "name": "ipython",
    "version": 3
   },
   "file_extension": ".py",
   "mimetype": "text/x-python",
   "name": "python",
   "nbconvert_exporter": "python",
   "pygments_lexer": "ipython3",
   "version": "3.9.13"
  }
 },
 "nbformat": 4,
 "nbformat_minor": 4
}
