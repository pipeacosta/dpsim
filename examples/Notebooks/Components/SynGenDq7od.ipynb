{
 "cells": [
  {
   "cell_type": "markdown",
   "metadata": {},
   "source": [
    "# Synchronous Generator dq 7th order"
   ]
  },
  {
   "cell_type": "code",
   "execution_count": null,
   "metadata": {},
   "outputs": [],
   "source": [
    "import villas.dataprocessing.readtools as rt\n",
    "import villas.dataprocessing.plottools as pt\n",
    "from villas.dataprocessing.timeseries import TimeSeries as ts\n",
    "import matplotlib.pyplot as plt\n",
    "import dpsimpy\n",
    "import numpy as np"
   ]
  },
  {
   "cell_type": "markdown",
   "metadata": {},
   "source": [
    "## Steady State - DPsim"
   ]
  },
  {
   "cell_type": "code",
   "execution_count": null,
   "metadata": {},
   "outputs": [],
   "source": [
    "# Define simulation parameters\n",
    "time_step = 0.0005\n",
    "final_time = 0.03\n",
    "sim_name = 'DP_SynGenDq7odODE_SteadyState'\n",
    "dpsimpy.Logger.set_log_dir('logs/' + sim_name)\n",
    "\n",
    "# Define machine parameters in per unit\n",
    "nom_power = 555e6\n",
    "nom_ph_ph_volt_rms = 24e3\n",
    "nom_freq = 60\n",
    "nom_field_curr = 1300\n",
    "pole_num = 2\n",
    "H = 3.7\n",
    "Rs = 0.003\n",
    "Ll = 0.15\n",
    "Lmd = 1.6599\n",
    "Lmq = 1.61\n",
    "Rfd = 0.0006\n",
    "Llfd = 0.1648\n",
    "Rkd = 0.0284\n",
    "Llkd = 0.1713\n",
    "Rkq1 = 0.0062\n",
    "Llkq1 = 0.7252\n",
    "Rkq2 = 0.0237\n",
    "Llkq2 = 0.125\n",
    "\n",
    "# Initialization parameters\n",
    "init_active_power = 300e6\n",
    "init_reactive_power = 0\n",
    "init_mech_power = 300e6\n",
    "init_terminal_volt = 24000 / np.sqrt(3) * np.sqrt(2)\n",
    "init_volt_angle = -np.pi / 2\n",
    "\n",
    "# Define grid parameters\n",
    "# resistance for 300 MW output\n",
    "R_load = 1.92\n",
    "\n",
    "# Nodes\n",
    "init_volt_n1 = [init_terminal_volt * np.exp(init_volt_angle * 1j),\n",
    "                init_terminal_volt * np.exp((init_volt_angle - 2 * np.pi / 3)* 1j),\n",
    "                init_terminal_volt * np.exp((init_volt_angle + 2 * np.pi / 3)* 1j)]\n",
    "n1 = dpsimpy.dp.SimNode('n1', dpsimpy.PhaseType.ABC, init_volt_n1)\n",
    "\n",
    "# Components\n",
    "gen = dpsimpy.dp.ph3.SynchronGeneratorDQODE('DP_SynGen_dq_SteadyState_SynGen')\n",
    "gen.set_parameters_fundamental_per_unit(nom_power, nom_ph_ph_volt_rms, nom_freq, pole_num, nom_field_curr, Rs,\n",
    "                                    Ll, Lmd, Lmq, Rfd, Llfd, Rkd, Llkd, Rkq1, Llkq1, Rkq2,\n",
    "                                    Llkq2, H, init_active_power, init_reactive_power, init_terminal_volt, init_volt_angle,\n",
    "                                    init_mech_power)\n",
    "gen.connect([n1])\n",
    "\n",
    "res = dpsimpy.dp.ph3.SeriesResistor('R_load', dpsimpy.LogLevel.info)\n",
    "res.set_parameters(R_load)\n",
    "res.connect([dpsimpy.dp.SimNode.gnd, n1])\n",
    "\n",
    "# System\n",
    "sys = dpsimpy.SystemTopology(60, [n1], [gen, res])\n",
    "\n",
    "# Logging\n",
    "logger = dpsimpy.Logger(sim_name)\n",
    "logger.log_attribute('v1', 'v', n1)\n",
    "logger.log_attribute('i_load', 'i_intf', res)\n",
    "\n",
    "# Simulation\n",
    "sim = dpsimpy.Simulation(sim_name, dpsimpy.LogLevel.info)\n",
    "sim.set_solver(dpsimpy.Solver.MNA)\n",
    "sim.set_system(sys)\n",
    "sim.set_time_step(time_step)\n",
    "sim.set_final_time(final_time)\n",
    "sim.set_domain(dpsimpy.Domain.DP)\n",
    "sim.add_logger(logger)\n",
    "sim.run()\n"
   ]
  },
  {
   "cell_type": "code",
   "execution_count": null,
   "metadata": {},
   "outputs": [],
   "source": [
    "# read log file\n",
    "work_dir = 'logs/DP_SynGenDq7odODE_SteadyState/'\n",
    "log_name = 'DP_SynGenDq7odODE_SteadyState'\n",
    "print(work_dir + log_name + '.csv')\n",
    "ts_dpsim_ode_ststate = rt.read_timeseries_dpsim(work_dir + log_name + '.csv')\n",
    "ts_dpsim_ode_ststate_emt = ts.frequency_shift_list(ts_dpsim_ode_ststate, 60)"
   ]
  },
  {
   "cell_type": "code",
   "execution_count": null,
   "metadata": {},
   "outputs": [],
   "source": [
    "ts_dpsim_ode_ststate_phasors = ts.phasors(ts_dpsim_ode_ststate)\n",
    "for node, phasor in ts_dpsim_ode_ststate_phasors.items():\n",
    "    print(node + ': ' + str(phasor['abs'].values[0]) + '<' + str(phasor['phase'].values[0]))"
   ]
  },
  {
   "cell_type": "code",
   "execution_count": null,
   "metadata": {},
   "outputs": [],
   "source": [
    "pt.plot_timeseries(1, ts_dpsim_ode_ststate_emt['v1_0_shift'])\n",
    "pt.plot_timeseries(1, ts_dpsim_ode_ststate_emt['v1_1_shift'])\n",
    "pt.plot_timeseries(1, ts_dpsim_ode_ststate_emt['v1_2_shift'])"
   ]
  },
  {
   "cell_type": "code",
   "execution_count": null,
   "metadata": {},
   "outputs": [],
   "source": [
    "pt.plot_timeseries(1, ts_dpsim_ode_ststate_emt['i_load_0_shift'])\n",
    "pt.plot_timeseries(1, ts_dpsim_ode_ststate_emt['i_load_1_shift'])\n",
    "pt.plot_timeseries(1, ts_dpsim_ode_ststate_emt['i_load_2_shift'])"
   ]
  },
  {
   "cell_type": "markdown",
   "metadata": {},
   "source": [
    "## Steady State - Simulink"
   ]
  },
  {
   "cell_type": "code",
   "execution_count": null,
   "metadata": {},
   "outputs": [],
   "source": [
    "# read Simulink log file\n",
    "import os\n",
    "import urllib.request\n",
    "\n",
    "if not os.path.exists('reference-results'):\n",
    "    os.mkdir('reference-results')\n",
    "\n",
    "url = 'https://raw.githubusercontent.com/dpsim-simulator/reference-results/master/Simulink/SynchronousGenerator/SynGen_dq_7th_SteadyState/SL_SynGenDq7od_SteadyState_v_i.csv'\n",
    "local_file = 'reference-results/SL_SynGenDq7od_SteadyState_v_i.csv'\n",
    "urllib.request.urlretrieve(url, local_file) \n",
    "\n",
    "ts_sl_ststate = rt.read_timeseries_simulink(local_file)"
   ]
  },
  {
   "cell_type": "code",
   "execution_count": null,
   "metadata": {},
   "outputs": [],
   "source": [
    "pt.plot_timeseries(1, ts_sl_ststate['i1'])\n",
    "pt.plot_timeseries(1, ts_sl_ststate['i2'])\n",
    "pt.plot_timeseries(1, ts_sl_ststate['i3'])\n",
    "plt.xlim(0,0.03)"
   ]
  },
  {
   "cell_type": "markdown",
   "metadata": {},
   "source": [
    "## Comparison - Steady State"
   ]
  },
  {
   "cell_type": "code",
   "execution_count": null,
   "metadata": {},
   "outputs": [],
   "source": [
    "pt.plot_timeseries(1, ts_dpsim_ode_ststate_emt['i_load_0_shift'])\n",
    "pt.plot_timeseries(1, ts_dpsim_ode_ststate_emt['i_load_1_shift'])\n",
    "pt.plot_timeseries(1, ts_dpsim_ode_ststate_emt['i_load_2_shift'])\n",
    "pt.plot_timeseries(1, ts_sl_ststate['i1'])\n",
    "pt.plot_timeseries(1, ts_sl_ststate['i2'])\n",
    "pt.plot_timeseries(1, ts_sl_ststate['i3'])\n",
    "plt.xlim(0,0.03)"
   ]
  },
  {
   "cell_type": "markdown",
   "metadata": {},
   "source": [
    "Time shift is required here to align plots."
   ]
  },
  {
   "cell_type": "markdown",
   "metadata": {},
   "source": [
    "## Three Phase Fault - Simulink"
   ]
  },
  {
   "cell_type": "code",
   "execution_count": null,
   "metadata": {},
   "outputs": [],
   "source": [
    "# read Simulink log file\n",
    "import os\n",
    "import urllib.request\n",
    "\n",
    "if not os.path.exists('reference-results'):\n",
    "    os.mkdir('reference-results')\n",
    "\n",
    "url = 'https://raw.githubusercontent.com/dpsim-simulator/reference-results/master/Simulink/SynchronousGenerator/SynGen_dq_7th_ThreePhFault/SL_SynGenDq7od_ThreePhFault_v_i.csv'\n",
    "local_file = 'reference-results/SL_SynGenDq7od_ThreePhFault_v_i.csv'\n",
    "urllib.request.urlretrieve(url, local_file) \n",
    "\n",
    "ts_sl_tpf = rt.read_timeseries_simulink(local_file)"
   ]
  },
  {
   "cell_type": "code",
   "execution_count": null,
   "metadata": {},
   "outputs": [],
   "source": [
    "pt.plot_timeseries(1, ts_sl_tpf['v1'])\n",
    "pt.plot_timeseries(1, ts_sl_tpf['v2'])\n",
    "pt.plot_timeseries(1, ts_sl_tpf['v3'])\n",
    "plt.xlim(0,0.3)"
   ]
  },
  {
   "cell_type": "code",
   "execution_count": null,
   "metadata": {},
   "outputs": [],
   "source": [
    "pt.plot_timeseries(1, ts_sl_tpf['i1'])\n",
    "pt.plot_timeseries(1, ts_sl_tpf['i2'])\n",
    "pt.plot_timeseries(1, ts_sl_tpf['i3'])\n",
    "plt.xlim(0,0.3)"
   ]
  },
  {
   "cell_type": "markdown",
   "metadata": {},
   "source": [
    "## Three Phase Fault - DPsim"
   ]
  },
  {
   "cell_type": "code",
   "execution_count": null,
   "metadata": {},
   "outputs": [],
   "source": [
    "# Define simulation parameters\n",
    "time_step = 0.00005\n",
    "final_time = 0.3\n",
    "sim_name = 'DP_SynGenDq7odODE_ThreePhFault'\n",
    "dpsimpy.Logger.set_log_dir('logs/' + sim_name)\n",
    "\n",
    "# Define machine parameters in per unit\n",
    "nom_power = 555e6\n",
    "nom_ph_ph_volt_rms = 24e3\n",
    "nom_freq = 60\n",
    "nom_field_curr = 1300\n",
    "pole_num = 2\n",
    "H = 3.7\n",
    "Rs = 0.003\n",
    "Ll = 0.15\n",
    "Lmd = 1.6599\n",
    "Lmq = 1.61\n",
    "Rfd = 0.0006\n",
    "Llfd = 0.1648\n",
    "Rkd = 0.0284\n",
    "Llkd = 0.1713\n",
    "Rkq1 = 0.0062\n",
    "Llkq1 = 0.7252\n",
    "Rkq2 = 0.0237\n",
    "Llkq2 = 0.125\n",
    "\n",
    "# Initialization parameters\n",
    "init_active_power = 300e6\n",
    "init_reactive_power = 0\n",
    "init_mech_power = 300e6\n",
    "init_terminal_volt = 24000 / np.sqrt(3) * np.sqrt(2)\n",
    "init_volt_angle = -np.pi / 2\n",
    "\n",
    "# Define grid parameters\n",
    "R_load = 1.92\n",
    "breaker_open = 1e6\n",
    "breaker_closed = 0.001\n",
    "\n",
    "# Nodes\n",
    "init_volt_n1 = [init_terminal_volt * np.exp(init_volt_angle * 1j),\n",
    "                init_terminal_volt * np.exp((init_volt_angle - 2 * np.pi / 3)* 1j),\n",
    "                init_terminal_volt * np.exp((init_volt_angle + 2 * np.pi / 3)* 1j)]\n",
    "n1 = dpsimpy.dp.SimNode('n1', dpsimpy.PhaseType.ABC, init_volt_n1)\n",
    "\n",
    "# Components\n",
    "gen = dpsimpy.dp.ph3.SynchronGeneratorDQODE('DP_SynGen', dpsimpy.LogLevel.debug)\n",
    "gen.set_parameters_fundamental_per_unit(nom_power, nom_ph_ph_volt_rms, nom_freq, pole_num, nom_field_curr, Rs,\n",
    "                                    Ll, Lmd, Lmq, Rfd, Llfd, Rkd, Llkd, Rkq1, Llkq1, Rkq2,\n",
    "                                    Llkq2, H, init_active_power, init_reactive_power, init_terminal_volt, init_volt_angle,\n",
    "                                    init_mech_power)\n",
    "\n",
    "res = dpsimpy.dp.ph3.SeriesResistor('R_load')\n",
    "res.set_parameters(R_load)\n",
    "\n",
    "fault = dpsimpy.dp.ph3.SeriesSwitch('Br_fault')\n",
    "fault.set_parameters(breaker_open, breaker_closed)\n",
    "\n",
    "# Connections\n",
    "gen.connect([n1])\n",
    "res.connect([dpsimpy.dp.SimNode.gnd, n1])\n",
    "fault.connect([dpsimpy.dp.SimNode.gnd, n1])\n",
    "\n",
    "# Logging\n",
    "logger = dpsimpy.Logger(sim_name)\n",
    "logger.log_attribute('v1', 'v', n1)\n",
    "logger.log_attribute('i_load', 'i_intf', res)\n",
    "logger.log_attribute('i_gen', 'i_intf', gen)\n",
    "logger.log_attribute('wr_gen', 'w_r', gen)\n",
    "\n",
    "# System\n",
    "sys = dpsimpy.SystemTopology(60, [n1], [gen, res, fault])\n",
    "\n",
    "# Simulation\n",
    "sim = dpsimpy.Simulation(sim_name, dpsimpy.LogLevel.info)\n",
    "sim.set_solver(dpsimpy.Solver.MNA)\n",
    "sim.set_system(sys)\n",
    "sim.set_time_step(time_step)\n",
    "sim.set_final_time(final_time)\n",
    "sim.set_domain(dpsimpy.Domain.DP)\n",
    "sim.add_logger(logger)\n",
    "\n",
    "# Events\n",
    "sw1 = dpsimpy.event.SwitchEvent(0.1, fault, True)\n",
    "sw2 = dpsimpy.event.SwitchEvent(0.2, fault, False)\n",
    "sim.add_event(sw1)\n",
    "sim.add_event(sw2)\n",
    "\n",
    "sim.run()"
   ]
  },
  {
   "cell_type": "code",
   "execution_count": null,
   "metadata": {},
   "outputs": [],
   "source": [
    "# read log file\n",
    "work_dir = 'logs/DP_SynGenDq7odODE_ThreePhFault/'\n",
    "log_name = 'DP_SynGenDq7odODE_ThreePhFault'\n",
    "print(work_dir + log_name + '.csv')\n",
    "ts_dpsim_ode_tpf = rt.read_timeseries_dpsim(work_dir + log_name + '.csv')\n",
    "ts_dpsim_ode_tpf_emt = ts.frequency_shift_list(ts_dpsim_ode_tpf, 60)"
   ]
  },
  {
   "cell_type": "code",
   "execution_count": null,
   "metadata": {},
   "outputs": [],
   "source": [
    "ts_dpsim_ode_tpf_phasors = ts.phasors(ts_dpsim_ode_tpf)\n",
    "for node, phasor in ts_dpsim_ode_tpf_phasors.items():\n",
    "    print(node + ': ' + str(phasor['abs'].values[0]) + '<' + str(phasor['phase'].values[0]))"
   ]
  },
  {
   "cell_type": "code",
   "execution_count": null,
   "metadata": {},
   "outputs": [],
   "source": [
    "#ts_dpsim_ode_tpf_emt"
   ]
  },
  {
   "cell_type": "code",
   "execution_count": null,
   "metadata": {},
   "outputs": [],
   "source": [
    "pt.plot_timeseries(1, ts_dpsim_ode_tpf_emt['v1_0_shift'])\n",
    "pt.plot_timeseries(1, ts_dpsim_ode_tpf_emt['v1_1_shift'])\n",
    "pt.plot_timeseries(1, ts_dpsim_ode_tpf_emt['v1_2_shift'])"
   ]
  },
  {
   "cell_type": "code",
   "execution_count": null,
   "metadata": {},
   "outputs": [],
   "source": [
    "pt.plot_timeseries(1, ts_dpsim_ode_tpf_emt['i_gen_0_shift'])\n",
    "pt.plot_timeseries(1, ts_dpsim_ode_tpf_emt['i_gen_1_shift'])\n",
    "pt.plot_timeseries(1, ts_dpsim_ode_tpf_emt['i_gen_2_shift'])"
   ]
  },
  {
   "cell_type": "markdown",
   "metadata": {},
   "source": [
    "### ODE and Simulink"
   ]
  },
  {
   "cell_type": "code",
   "execution_count": null,
   "metadata": {},
   "outputs": [],
   "source": [
    "#%matplotlib qt\n",
    "ts_sl_tpf_i1 = ts('i1', ts_sl_tpf['i1'].time, -ts_sl_tpf['i1'].values)\n",
    "ts_sl_tpf_i2 = ts('i2', ts_sl_tpf['i2'].time, -ts_sl_tpf['i2'].values)\n",
    "ts_sl_tpf_i3 = ts('i3', ts_sl_tpf['i3'].time, -ts_sl_tpf['i3'].values)\n",
    "\n",
    "#plt.figure(figsize=(20,10))\n",
    "ts_sl_tpf_i1.label = 'ia_sl'\n",
    "ts_sl_tpf_i2.label = 'ib_sl'\n",
    "ts_sl_tpf_i3.label = 'ic_sl'\n",
    "ts_dpsim_ode_tpf_emt['i_gen_0_shift'].label = 'ia_dpsim'\n",
    "ts_dpsim_ode_tpf_emt['i_gen_1_shift'].label = 'ib_dpsim'\n",
    "ts_dpsim_ode_tpf_emt['i_gen_2_shift'].label = 'ic_dpsim'\n",
    "pt.plot_timeseries(1, ts_sl_tpf_i1, plt_color = '#939393ff')\n",
    "pt.plot_timeseries(1, ts_sl_tpf_i2, plt_color = '#939393ff')\n",
    "pt.plot_timeseries(1, ts_sl_tpf_i3, plt_color = '#939393ff')\n",
    "pt.plot_timeseries(1, ts_dpsim_ode_tpf_emt['i_gen_0_shift'], plt_linestyle='-.', plt_color = '#d62728ff')\n",
    "pt.plot_timeseries(1, ts_dpsim_ode_tpf_emt['i_gen_1_shift'], plt_linestyle='-.', plt_color = '#0055ffff')\n",
    "pt.plot_timeseries(1, ts_dpsim_ode_tpf_emt['i_gen_2_shift'], plt_linestyle='-.', plt_color = '#00aa7fff')\n",
    "plt.xlabel('time (s)')\n",
    "plt.ylabel('voltage (V)')\n",
    "plt.xlim(0.05,0.25)\n",
    "#plt.ylim(-1.6e5,1.6e5)\n",
    "#plt.savefig('syngen_fault_ode.pdf')"
   ]
  },
  {
   "cell_type": "code",
   "execution_count": null,
   "metadata": {},
   "outputs": [],
   "source": [
    "pt.plot_timeseries(1, ts_dpsim_ode_tpf_phasors['i_gen_0']['phase'])\n",
    "plt.xlim([0.09,0.21])\n",
    "\n",
    "plt.figure()\n",
    "plt.plot(ts_dpsim_ode_tpf['wr_gen'].time, ts_dpsim_ode_tpf['wr_gen'].values * 60)\n",
    "plt.xlim([0.09,0.21])"
   ]
  },
  {
   "cell_type": "code",
   "execution_count": null,
   "metadata": {},
   "outputs": [],
   "source": [
    "import numpy as np\n",
    "diff = ts_sl_tpf_i1.values - ts_dpsim_ode_tpf_emt['i_gen_0_shift'].values\n",
    "assert np.max(diff[:4000]) < 200"
   ]
  },
  {
   "cell_type": "markdown",
   "metadata": {},
   "source": [
    "## Three Phase Fault - DPsim Trapez"
   ]
  },
  {
   "cell_type": "code",
   "execution_count": null,
   "metadata": {},
   "outputs": [],
   "source": [
    "# Define simulation parameters\n",
    "time_step = 0.00005\n",
    "final_time = 0.3\n",
    "sim_name = 'DP_SynGenDq7odTrapez_ThreePhFault'\n",
    "dpsimpy.Logger.set_log_dir('logs/' + sim_name)\n",
    "\n",
    "# Define machine parameters in per unit\n",
    "nom_power = 555e6\n",
    "nom_ph_ph_volt_rms = 24e3\n",
    "nom_freq = 60\n",
    "nom_field_curr = 1300\n",
    "pole_num = 2\n",
    "H = 3.7\n",
    "Rs = 0.003\n",
    "Ll = 0.15\n",
    "Lmd = 1.6599\n",
    "Lmq = 1.61\n",
    "Rfd = 0.0006\n",
    "Llfd = 0.1648\n",
    "Rkd = 0.0284\n",
    "Llkd = 0.1713\n",
    "Rkq1 = 0.0062\n",
    "Llkq1 = 0.7252\n",
    "Rkq2 = 0.0237\n",
    "Llkq2 = 0.125\n",
    "\n",
    "# Initialization parameters\n",
    "init_active_power = 300e6\n",
    "init_reactive_power = 0\n",
    "init_mech_power = 300e6\n",
    "init_terminal_volt = 24000 / np.sqrt(3) * np.sqrt(2)\n",
    "init_volt_angle = -np.pi / 2\n",
    "\n",
    "# Define grid parameters\n",
    "R_load = 1.92\n",
    "breaker_open = 1e6\n",
    "breaker_closed = 0.001\n",
    "\n",
    "# Nodes\n",
    "init_volt_n1 = [init_terminal_volt * np.exp(init_volt_angle * 1j),\n",
    "                init_terminal_volt * np.exp((init_volt_angle - 2 * np.pi / 3)* 1j),\n",
    "                init_terminal_volt * np.exp((init_volt_angle + 2 * np.pi / 3)* 1j)]\n",
    "n1 = dpsimpy.dp.SimNode('n1', dpsimpy.PhaseType.ABC, init_volt_n1)\n",
    "\n",
    "# Components\n",
    "gen = dpsimpy.dp.ph3.SynchronGeneratorDQTrapez('DP_SynGen_dq_ThreePhFault_SynGen')\n",
    "gen.set_parameters_fundamental_per_unit(nom_power, nom_ph_ph_volt_rms, nom_freq, pole_num, nom_field_curr, Rs,\n",
    "                                    Ll, Lmd, Lmq, Rfd, Llfd, Rkd, Llkd, Rkq1, Llkq1, Rkq2,\n",
    "                                    Llkq2, H, init_active_power, init_reactive_power, init_terminal_volt, init_volt_angle,\n",
    "                                    init_mech_power)\n",
    "\n",
    "res = dpsimpy.dp.ph3.SeriesResistor('R_load')\n",
    "res.set_parameters(R_load)\n",
    "\n",
    "fault = dpsimpy.dp.ph3.SeriesSwitch('Br_fault')\n",
    "fault.set_parameters(breaker_open, breaker_closed)\n",
    "\n",
    "# Connections\n",
    "gen.connect([n1])\n",
    "res.connect([dpsimpy.dp.SimNode.gnd, n1])\n",
    "fault.connect([dpsimpy.dp.SimNode.gnd, n1])\n",
    "\n",
    "# Logging\n",
    "logger = dpsimpy.Logger(sim_name)\n",
    "logger.log_attribute('v1', 'v', n1)\n",
    "logger.log_attribute('i_gen', 'i_intf', gen)\n",
    "\n",
    "# System\n",
    "sys = dpsimpy.SystemTopology(60, [n1], [gen, res, fault])\n",
    "\n",
    "# Simulation\n",
    "sim = dpsimpy.Simulation(sim_name, dpsimpy.LogLevel.info)\n",
    "sim.set_solver(dpsimpy.Solver.MNA)\n",
    "sim.set_system(sys)\n",
    "sim.set_time_step(time_step)\n",
    "sim.set_final_time(final_time)\n",
    "sim.set_domain(dpsimpy.Domain.DP)\n",
    "sim.add_logger(logger)\n",
    "\n",
    "# Events\n",
    "sw1 = dpsimpy.event.SwitchEvent(0.1, fault, True)\n",
    "sw2 = dpsimpy.event.SwitchEvent(0.2, fault, False)\n",
    "sim.add_event(sw1)\n",
    "sim.add_event(sw2)\n",
    "\n",
    "sim.run()"
   ]
  },
  {
   "cell_type": "code",
   "execution_count": null,
   "metadata": {},
   "outputs": [],
   "source": [
    "# read log file\n",
    "work_dir = 'logs/DP_SynGenDq7odTrapez_ThreePhFault/'\n",
    "log_name = 'DP_SynGenDq7odTrapez_ThreePhFault'\n",
    "print(work_dir + log_name + '.csv')\n",
    "ts_dpsim_trapez_tpf = rt.read_timeseries_dpsim(work_dir + log_name + '.csv')\n",
    "ts_dpsim_trapez_tpf_emt = ts.frequency_shift_list(ts_dpsim_trapez_tpf, 60)"
   ]
  },
  {
   "cell_type": "code",
   "execution_count": null,
   "metadata": {},
   "outputs": [],
   "source": [
    "pt.plot_timeseries(1, ts_dpsim_trapez_tpf_emt['i_gen_0_shift'])\n",
    "pt.plot_timeseries(1, ts_dpsim_trapez_tpf_emt['i_gen_1_shift'])\n",
    "pt.plot_timeseries(1, ts_dpsim_trapez_tpf_emt['i_gen_2_shift'])"
   ]
  },
  {
   "cell_type": "markdown",
   "metadata": {},
   "source": [
    "### Trapez and Simulink"
   ]
  },
  {
   "cell_type": "code",
   "execution_count": null,
   "metadata": {},
   "outputs": [],
   "source": [
    "ts_sl_tpf_i1 = ts('i1', ts_sl_tpf['i1'].time, -ts_sl_tpf['i1'].values)\n",
    "ts_sl_tpf_i2 = ts('i2', ts_sl_tpf['i2'].time, -ts_sl_tpf['i2'].values)\n",
    "ts_sl_tpf_i3 = ts('i3', ts_sl_tpf['i3'].time, -ts_sl_tpf['i3'].values)\n",
    "\n",
    "#plt.figure(figsize=(20,10))\n",
    "pt.plot_timeseries(1, ts_sl_tpf_i1)\n",
    "pt.plot_timeseries(1, ts_sl_tpf_i2)\n",
    "pt.plot_timeseries(1, ts_sl_tpf_i3)\n",
    "pt.plot_timeseries(1, ts_dpsim_trapez_tpf_emt['i_gen_0_shift'])\n",
    "pt.plot_timeseries(1, ts_dpsim_trapez_tpf_emt['i_gen_1_shift'])\n",
    "pt.plot_timeseries(1, ts_dpsim_trapez_tpf_emt['i_gen_2_shift'])"
   ]
  },
  {
   "cell_type": "code",
   "execution_count": null,
   "metadata": {},
   "outputs": [],
   "source": [
    "import numpy as np\n",
    "diff = ts_sl_tpf_i1.values - ts_dpsim_trapez_tpf_emt['i_gen_0_shift'].values\n",
    "assert np.max(diff[:4000]) < 200"
   ]
  }
 ],
 "metadata": {
  "kernelspec": {
   "display_name": "Python 3",
   "name": "python3"
  },
  "language_info": {
   "codemirror_mode": {
    "name": "ipython",
    "version": 3
   },
   "file_extension": ".py",
   "mimetype": "text/x-python",
   "name": "python",
   "nbconvert_exporter": "python",
   "pygments_lexer": "ipython3",
   "version": "3.9.10"
  },
  "orig_nbformat": 3
 },
 "nbformat": 4,
 "nbformat_minor": 4
}
