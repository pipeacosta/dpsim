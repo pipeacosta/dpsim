{
 "cells": [
  {
   "cell_type": "markdown",
   "metadata": {},
   "source": [
    "# EMT Syngen LoadStep - 9th Order DCIM versus VBR - Controller Tests"
   ]
  },
  {
   "cell_type": "code",
   "execution_count": null,
   "metadata": {},
   "outputs": [],
   "source": [
    "from villas.dataprocessing.readtools import *\n",
    "from villas.dataprocessing.timeseries import *\n",
    "import matplotlib.pyplot as plt\n",
    "import re\n",
    "import numpy as np\n",
    "import math\n",
    "import os\n",
    "import subprocess\n",
    "\n",
    "#%matplotlib widget\n",
    "\n",
    "PEAK1PH_TO_RMS3PH=np.sqrt(3./2.)\n",
    "\n",
    "root_path = subprocess.Popen(['git', 'rev-parse', '--show-toplevel'], stdout=subprocess.PIPE).communicate()[0].rstrip().decode('utf-8')\n",
    "\n",
    "path_exec = root_path + '/build/dpsim/examples/cxx/'\n",
    "\n",
    "finalTime = 30.0\n",
    "\n",
    "timeStepDCIM = 100e-6\n",
    "timeStepVBR = 500e-6\n",
    "\n",
    "loadStepEventTime = 5.0\n",
    "loadFactor = 1.1"
   ]
  },
  {
   "cell_type": "markdown",
   "metadata": {},
   "source": [
    "## Run simulation and read results of DCIM without controllers"
   ]
  },
  {
   "cell_type": "code",
   "execution_count": null,
   "metadata": {},
   "outputs": [],
   "source": [
    "name_exec = 'EMT_SynchronGenerator9OrderDCIM_LoadStep_TurbineGovernor_Exciter'\n",
    "\n",
    "model_name = name_exec\n",
    "\n",
    "sim = subprocess.Popen([path_exec+name_exec, '--name', model_name, '--timestep', str(timeStepDCIM), '--duration', str(finalTime), '--option', 'TIMESTEPEVENT='+str(loadStepEventTime), '--option', 'LOADFACTOR='+str(loadFactor)], stdout=subprocess.PIPE, stderr=subprocess.STDOUT)\n",
    "print(sim.communicate()[0].decode())\n",
    "\n",
    "path = 'logs/' + model_name + '/'\n",
    "dpsim_result_file = path  + model_name + '.csv'\n",
    "ts_dpsim_emt_dcim = read_timeseries_csv(dpsim_result_file)"
   ]
  },
  {
   "cell_type": "markdown",
   "metadata": {},
   "source": [
    "## Run simulation and read results of VBR without controllers"
   ]
  },
  {
   "cell_type": "code",
   "execution_count": null,
   "metadata": {},
   "outputs": [],
   "source": [
    "name_exec = 'EMT_SynchronGenerator9OrderVBR_LoadStep_TurbineGovernor_Exciter'\n",
    "\n",
    "model_name = name_exec\n",
    "\n",
    "sim = subprocess.Popen([path_exec+name_exec, '--name', model_name, '--timestep', str(timeStepVBR), '--duration', str(finalTime), '--option', 'TIMESTEPEVENT='+str(loadStepEventTime), '--option', 'LOADFACTOR='+str(loadFactor)], stdout=subprocess.PIPE, stderr=subprocess.STDOUT)\n",
    "print(sim.communicate()[0].decode())\n",
    "\n",
    "path = 'logs/' + model_name + '/'\n",
    "dpsim_result_file = path  + model_name + '.csv'\n",
    "ts_dpsim_emt_vbr = read_timeseries_csv(dpsim_result_file)"
   ]
  },
  {
   "cell_type": "markdown",
   "metadata": {},
   "source": [
    "## Generator bus voltages"
   ]
  },
  {
   "cell_type": "code",
   "execution_count": null,
   "metadata": {},
   "outputs": [],
   "source": [
    "plt.figure(figsize=(12,8))\n",
    "name = 'v1_0'\n",
    "plt.plot(ts_dpsim_emt_dcim[name].time, PEAK1PH_TO_RMS3PH*ts_dpsim_emt_dcim[name].values, label='dcim')\n",
    "plt.plot(ts_dpsim_emt_vbr[name].time, PEAK1PH_TO_RMS3PH*ts_dpsim_emt_vbr[name].values, label='vbr', linestyle='--')\n",
    "plt.legend()\n",
    "plt.show()"
   ]
  },
  {
   "cell_type": "markdown",
   "metadata": {},
   "source": [
    "## Generator current"
   ]
  },
  {
   "cell_type": "code",
   "execution_count": null,
   "metadata": {},
   "outputs": [],
   "source": [
    "plt.figure(figsize=(12,8))\n",
    "name = 'i_gen_0'\n",
    "plt.plot(ts_dpsim_emt_dcim[name].time, ts_dpsim_emt_dcim[name].values, label='dcim')\n",
    "plt.plot(ts_dpsim_emt_vbr[name].time, ts_dpsim_emt_vbr[name].values, label='vbr', linestyle='--')\n",
    "plt.legend()\n",
    "plt.show()"
   ]
  },
  {
   "cell_type": "markdown",
   "metadata": {},
   "source": [
    "## Generator omega"
   ]
  },
  {
   "cell_type": "code",
   "execution_count": null,
   "metadata": {},
   "outputs": [],
   "source": [
    "plt.figure(figsize=(12,8))\n",
    "name = 'wr_gen'\n",
    "plt.plot(ts_dpsim_emt_dcim[name].time, ts_dpsim_emt_dcim[name].values, label='dcim')\n",
    "plt.plot(ts_dpsim_emt_vbr[name].time, ts_dpsim_emt_vbr[name].values, label='vbr', linestyle='--')\n",
    "plt.legend()\n",
    "plt.show()"
   ]
  },
  {
   "cell_type": "markdown",
   "metadata": {},
   "source": [
    "## Assertion"
   ]
  },
  {
   "cell_type": "code",
   "execution_count": null,
   "metadata": {},
   "outputs": [],
   "source": [
    "name = 'wr_gen'\n",
    "rmse = ts_dpsim_emt_dcim[name].rmse(ts_dpsim_emt_dcim[name], ts_dpsim_emt_vbr[name].interpolate(timeStepDCIM))\n",
    "print(rmse)\n",
    "assert(rmse < 4e-4)"
   ]
  },
  {
   "cell_type": "markdown",
   "metadata": {
    "tags": []
   },
   "source": [
    "## Run simulation and read results of DCIM with governor"
   ]
  },
  {
   "cell_type": "code",
   "execution_count": null,
   "metadata": {},
   "outputs": [],
   "source": [
    "name_exec = 'EMT_SynchronGenerator9OrderDCIM_LoadStep_TurbineGovernor_Exciter'\n",
    "\n",
    "model_name = name_exec\n",
    "\n",
    "sim = subprocess.Popen([path_exec+name_exec, '--name', model_name, '--timestep', str(timeStepDCIM), '--duration', str(finalTime), '--option', 'WITHGOVERNOR=true', '--option', 'TIMESTEPEVENT='+str(loadStepEventTime), '--option', 'LOADFACTOR='+str(loadFactor)], stdout=subprocess.PIPE, stderr=subprocess.STDOUT)\n",
    "print(sim.communicate()[0].decode())\n",
    "\n",
    "path = 'logs/' + model_name + '/'\n",
    "dpsim_result_file = path  + model_name + '.csv'\n",
    "ts_dpsim_emt_dcim = read_timeseries_csv(dpsim_result_file)"
   ]
  },
  {
   "cell_type": "markdown",
   "metadata": {},
   "source": [
    "## Run simulation and read results of VBR with governor"
   ]
  },
  {
   "cell_type": "code",
   "execution_count": null,
   "metadata": {},
   "outputs": [],
   "source": [
    "name_exec = 'EMT_SynchronGenerator9OrderVBR_LoadStep_TurbineGovernor_Exciter'\n",
    "\n",
    "model_name = name_exec\n",
    "\n",
    "sim = subprocess.Popen([path_exec+name_exec, '--name', model_name, '--timestep', str(timeStepVBR), '--duration', str(finalTime), '--option', 'WITHGOVERNOR=true', '--option', 'TIMESTEPEVENT='+str(loadStepEventTime), '--option', 'LOADFACTOR='+str(loadFactor)], stdout=subprocess.PIPE, stderr=subprocess.STDOUT)\n",
    "print(sim.communicate()[0].decode())\n",
    "\n",
    "path = 'logs/' + model_name + '/'\n",
    "dpsim_result_file = path  + model_name + '.csv'\n",
    "ts_dpsim_emt_vbr = read_timeseries_csv(dpsim_result_file)"
   ]
  },
  {
   "cell_type": "markdown",
   "metadata": {},
   "source": [
    "## Generator bus voltages"
   ]
  },
  {
   "cell_type": "code",
   "execution_count": null,
   "metadata": {},
   "outputs": [],
   "source": [
    "plt.figure(figsize=(12,8))\n",
    "name = 'v1_0'\n",
    "plt.plot(ts_dpsim_emt_dcim[name].time, PEAK1PH_TO_RMS3PH*ts_dpsim_emt_dcim[name].values, label='dcim - with governor')\n",
    "plt.plot(ts_dpsim_emt_vbr[name].time, PEAK1PH_TO_RMS3PH*ts_dpsim_emt_vbr[name].values, label='vbr - with governor', linestyle='--')\n",
    "plt.legend()\n",
    "plt.show()"
   ]
  },
  {
   "cell_type": "markdown",
   "metadata": {},
   "source": [
    "## Generator current"
   ]
  },
  {
   "cell_type": "code",
   "execution_count": null,
   "metadata": {},
   "outputs": [],
   "source": [
    "plt.figure(figsize=(12,8))\n",
    "name = 'i_gen_0'\n",
    "plt.plot(ts_dpsim_emt_dcim[name].time, ts_dpsim_emt_dcim[name].values, label='dcim - with governor')\n",
    "plt.plot(ts_dpsim_emt_vbr[name].time, ts_dpsim_emt_vbr[name].values, label='vbr - with governor', linestyle='--')\n",
    "plt.legend()\n",
    "plt.show()"
   ]
  },
  {
   "cell_type": "markdown",
   "metadata": {},
   "source": [
    "## Generator omega"
   ]
  },
  {
   "cell_type": "code",
   "execution_count": null,
   "metadata": {},
   "outputs": [],
   "source": [
    "plt.figure(figsize=(12,8))\n",
    "name = 'wr_gen'\n",
    "plt.plot(ts_dpsim_emt_dcim[name].time, ts_dpsim_emt_dcim[name].values, label='dcim - with governor')\n",
    "plt.plot(ts_dpsim_emt_vbr[name].time, ts_dpsim_emt_vbr[name].values, label='vbr - with governor', linestyle='--')\n",
    "plt.legend()\n",
    "plt.show()"
   ]
  },
  {
   "cell_type": "markdown",
   "metadata": {},
   "source": [
    "## Assertion"
   ]
  },
  {
   "cell_type": "code",
   "execution_count": null,
   "metadata": {},
   "outputs": [],
   "source": [
    "name = 'wr_gen'\n",
    "rmse = ts_dpsim_emt_dcim[name].rmse(ts_dpsim_emt_dcim[name], ts_dpsim_emt_vbr[name].interpolate(timeStepDCIM))\n",
    "print(rmse)\n",
    "assert(rmse < 2.1e-5)"
   ]
  },
  {
   "cell_type": "markdown",
   "metadata": {
    "tags": []
   },
   "source": [
    "## Run simulation and read results of DCIM with governor and exciter"
   ]
  },
  {
   "cell_type": "code",
   "execution_count": null,
   "metadata": {},
   "outputs": [],
   "source": [
    "name_exec = 'EMT_SynchronGenerator9OrderDCIM_LoadStep_TurbineGovernor_Exciter'\n",
    "\n",
    "model_name = name_exec\n",
    "\n",
    "sim = subprocess.Popen([path_exec+name_exec, '--name', model_name, '--timestep', str(timeStepDCIM), '--duration', str(finalTime), '--option', 'WITHGOVERNOR=true', '--option', 'WITHEXCITER=true', '--option', 'TIMESTEPEVENT='+str(loadStepEventTime), '--option', 'LOADFACTOR='+str(loadFactor)], stdout=subprocess.PIPE, stderr=subprocess.STDOUT)\n",
    "print(sim.communicate()[0].decode())\n",
    "\n",
    "path = 'logs/' + model_name + '/'\n",
    "dpsim_result_file = path  + model_name + '.csv'\n",
    "ts_dpsim_emt_dcim = read_timeseries_csv(dpsim_result_file)"
   ]
  },
  {
   "cell_type": "markdown",
   "metadata": {},
   "source": [
    "## Run simulation and read results of VBR with governor and exciter"
   ]
  },
  {
   "cell_type": "code",
   "execution_count": null,
   "metadata": {},
   "outputs": [],
   "source": [
    "name_exec = 'EMT_SynchronGenerator9OrderVBR_LoadStep_TurbineGovernor_Exciter'\n",
    "\n",
    "model_name = name_exec\n",
    "\n",
    "sim = subprocess.Popen([path_exec+name_exec, '--name', model_name, '--timestep', str(timeStepVBR), '--duration', str(finalTime), '--option', 'WITHGOVERNOR=true', '--option', 'WITHEXCITER=true', '--option', 'TIMESTEPEVENT='+str(loadStepEventTime), '--option', 'LOADFACTOR='+str(loadFactor)], stdout=subprocess.PIPE, stderr=subprocess.STDOUT)\n",
    "print(sim.communicate()[0].decode())\n",
    "\n",
    "path = 'logs/' + model_name + '/'\n",
    "dpsim_result_file = path  + model_name + '.csv'\n",
    "ts_dpsim_emt_vbr = read_timeseries_csv(dpsim_result_file)"
   ]
  },
  {
   "cell_type": "markdown",
   "metadata": {},
   "source": [
    "## Generator bus voltages"
   ]
  },
  {
   "cell_type": "code",
   "execution_count": null,
   "metadata": {},
   "outputs": [],
   "source": [
    "plt.figure(figsize=(12,8))\n",
    "name = 'v1_0'\n",
    "plt.plot(ts_dpsim_emt_dcim[name].time, PEAK1PH_TO_RMS3PH*ts_dpsim_emt_dcim[name].values, label='dcim - with governor and exciter')\n",
    "plt.plot(ts_dpsim_emt_vbr[name].time, PEAK1PH_TO_RMS3PH*ts_dpsim_emt_vbr[name].values, label='vbr - with governor and exciter', linestyle='--')\n",
    "plt.legend()\n",
    "plt.show()"
   ]
  },
  {
   "cell_type": "markdown",
   "metadata": {},
   "source": [
    "## Generator current"
   ]
  },
  {
   "cell_type": "code",
   "execution_count": null,
   "metadata": {},
   "outputs": [],
   "source": [
    "plt.figure(figsize=(12,8))\n",
    "name = 'i_gen_0'\n",
    "plt.plot(ts_dpsim_emt_dcim[name].time, ts_dpsim_emt_dcim[name].values, label='dcim - with governor and exciter')\n",
    "plt.plot(ts_dpsim_emt_vbr[name].time, ts_dpsim_emt_vbr[name].values, label='vbr - with governor and exciter', linestyle='--')\n",
    "plt.legend()\n",
    "plt.show()"
   ]
  },
  {
   "cell_type": "markdown",
   "metadata": {},
   "source": [
    "## Generator omega"
   ]
  },
  {
   "cell_type": "code",
   "execution_count": null,
   "metadata": {},
   "outputs": [],
   "source": [
    "plt.figure(figsize=(12,8))\n",
    "name = 'wr_gen'\n",
    "plt.plot(ts_dpsim_emt_dcim[name].time, ts_dpsim_emt_dcim[name].values, label='dcim - with governor and exciter')\n",
    "plt.plot(ts_dpsim_emt_vbr[name].time, ts_dpsim_emt_vbr[name].values, label='vbr - with governor and exciter', linestyle='--')\n",
    "plt.legend()\n",
    "plt.show()"
   ]
  },
  {
   "cell_type": "markdown",
   "metadata": {},
   "source": [
    "## Assertion"
   ]
  },
  {
   "cell_type": "code",
   "execution_count": null,
   "metadata": {},
   "outputs": [],
   "source": [
    "name = 'wr_gen'\n",
    "rmse = ts_dpsim_emt_dcim[name].rmse(ts_dpsim_emt_dcim[name], ts_dpsim_emt_vbr[name].interpolate(timeStepDCIM))\n",
    "print(rmse)\n",
    "assert(rmse < 8e-6)"
   ]
  }
 ],
 "metadata": {
  "kernelspec": {
   "display_name": "Python 3 (ipykernel)",
   "language": "python",
   "name": "python3"
  },
  "language_info": {
   "codemirror_mode": {
    "name": "ipython",
    "version": 3
   },
   "file_extension": ".py",
   "mimetype": "text/x-python",
   "name": "python",
   "nbconvert_exporter": "python",
   "pygments_lexer": "ipython3",
   "version": "3.9.10"
  },
  "tests": {
   "skip": false
  }
 },
 "nbformat": 4,
 "nbformat_minor": 4
}
