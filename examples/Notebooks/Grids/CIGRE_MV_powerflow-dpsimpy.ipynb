{
 "cells": [
  {
   "cell_type": "markdown",
   "metadata": {},
   "source": [
    "# CIGRE MV Powerflow Solver Test"
   ]
  },
  {
   "cell_type": "markdown",
   "metadata": {},
   "source": [
    "## Run simulation"
   ]
  },
  {
   "cell_type": "code",
   "execution_count": null,
   "metadata": {},
   "outputs": [],
   "source": [
    "import requests\n",
    "import glob\n",
    "\n",
    "def download_grid_data(name, url):\n",
    "    with open(name, 'wb') as out_file:\n",
    "        content = requests.get(url, stream=True).content\n",
    "        out_file.write(content)\n",
    "\n",
    "url = 'https://raw.githubusercontent.com/dpsim-simulator/cim-grid-data/master/CIGRE_MV/NEPLAN/CIGRE_MV_no_tapchanger_With_LoadFlow_Results/Rootnet_FULL_NE_06J16h'\n",
    "filename = 'CIGRE-MV'\n",
    "download_grid_data(filename+'_EQ.xml', url+'_EQ.xml')\n",
    "download_grid_data(filename+'_TP.xml', url+'_TP.xml')\n",
    "download_grid_data(filename+'_SV.xml', url+'_SV.xml')\n",
    "\n",
    "files = glob.glob(filename+'_*.xml')\n",
    "print(files)"
   ]
  },
  {
   "cell_type": "code",
   "execution_count": null,
   "metadata": {},
   "outputs": [],
   "source": [
    "from villas.dataprocessing.readtools import *\n",
    "from villas.dataprocessing.timeseries import *\n",
    "import villas.dataprocessing.validationtools as validationtools\n",
    "import dpsimpy"
   ]
  },
  {
   "cell_type": "code",
   "execution_count": null,
   "metadata": {},
   "outputs": [],
   "source": [
    "name = 'CIGRE_MV'\n",
    "reader = dpsimpy.CIMReader(name)\n",
    "system = reader.loadCIM(50, files, dpsimpy.Domain.SP, dpsimpy.PhaseType.Single, dpsimpy.GeneratorType.PVNode)\n",
    "system"
   ]
  },
  {
   "cell_type": "code",
   "execution_count": null,
   "metadata": {},
   "outputs": [],
   "source": [
    "sim = dpsimpy.Simulation(name)\n",
    "sim.set_system(system)\n",
    "sim.set_domain(dpsimpy.Domain.SP)\n",
    "sim.set_solver(dpsimpy.Solver.NRP)\n",
    "\n",
    "logger = dpsimpy.Logger(name)\n",
    "for node in system.nodes:\n",
    "    logger.log_attribute(node.name()+'.V', 'v', node);\n",
    "sim.add_logger(logger)"
   ]
  },
  {
   "cell_type": "code",
   "execution_count": null,
   "metadata": {},
   "outputs": [],
   "source": [
    "sim.run()"
   ]
  },
  {
   "cell_type": "markdown",
   "metadata": {},
   "source": [
    "## Read DPsim results"
   ]
  },
  {
   "cell_type": "code",
   "execution_count": null,
   "metadata": {},
   "outputs": [],
   "source": [
    "path = 'logs/'\n",
    "logName = 'CIGRE_MV'\n",
    "dpsim_result_file = path + logName + '.csv'\n",
    "\n",
    "ts_dpsim = read_timeseries_csv(dpsim_result_file)\n",
    "\n",
    "# Fix for dpsim naming - TODO: unify dpsim notation in log file and update villas-dataprocessing accordingly\n",
    "for ts,values in ts_dpsim.items():\n",
    "    values.name = values.name[:-2]"
   ]
  },
  {
   "cell_type": "markdown",
   "metadata": {},
   "source": [
    "## Read NEPLAN results as reference"
   ]
  },
  {
   "cell_type": "code",
   "execution_count": null,
   "metadata": {},
   "outputs": [],
   "source": [
    "if not os.path.exists('reference-results'):\n",
    "    os.mkdir('reference-results')\n",
    "\n",
    "url = 'https://raw.githubusercontent.com/dpsim-simulator/reference-results/master/Neplan/ReferenceGrids/CIGRE_MV.rlf'\n",
    "neplan_result_file = 'reference-results/CIGRE_MV.rlf'\n",
    "urllib.request.urlretrieve(url, neplan_result_file) \n",
    "print(neplan_result_file)\n",
    "\n",
    "ts_NEPLAN = read_timeseries_NEPLAN_loadflow(neplan_result_file)\n",
    "#print([ts_NEPLAN[i].name for i in range(len(ts_NEPLAN))])"
   ]
  },
  {
   "cell_type": "markdown",
   "metadata": {},
   "source": [
    "## Comparison and assertion of results"
   ]
  },
  {
   "cell_type": "code",
   "execution_count": null,
   "metadata": {},
   "outputs": [],
   "source": [
    "net_name='CIGRE_MV_NoTap'\n",
    "threshold=0.5\n",
    "\n",
    "ts_NEPLAN_standardized=validationtools.convert_neplan_to_standard_timeseries(ts_NEPLAN)\n",
    "#print([ts_NEPLAN_standardized[i].name for i in range(len(ts_NEPLAN_standardized))])\n",
    "ts_dpsim_standardized=validationtools.convert_dpsim_to_standard_timeseries(ts_dpsim)\n",
    "#print([ts_dpsim_standardized[i].name for i in range(len(ts_dpsim_standardized))])\n",
    "res_err=validationtools.compare_timeseries(ts_NEPLAN_standardized,ts_dpsim_standardized)\n",
    "validationtools.assert_modelica_results(net_name,res_err,threshold)"
   ]
  }
 ],
 "metadata": {
  "kernelspec": {
   "display_name": "Python 3 (ipykernel)",
   "language": "python",
   "name": "python3"
  },
  "language_info": {
   "codemirror_mode": {
    "name": "ipython",
    "version": 3
   },
   "file_extension": ".py",
   "mimetype": "text/x-python",
   "name": "python",
   "nbconvert_exporter": "python",
   "pygments_lexer": "ipython3",
   "version": "3.9.12"
  },
  "tests": {
   "skip": true
  }
 },
 "nbformat": 4,
 "nbformat_minor": 4
}
