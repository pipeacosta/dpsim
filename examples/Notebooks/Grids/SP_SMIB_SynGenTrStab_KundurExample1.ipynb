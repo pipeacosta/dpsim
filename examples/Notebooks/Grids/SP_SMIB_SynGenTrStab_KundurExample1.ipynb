{
 "cells": [
  {
   "cell_type": "markdown",
   "metadata": {},
   "source": [
    "# SP SMIB SynGenTrStab Kundur Example 1"
   ]
  },
  {
   "cell_type": "markdown",
   "metadata": {},
   "source": [
    "This example is taken from: P. Kundur, \"Power System Stability and Control\", Example 13.2, pp. 864-869."
   ]
  },
  {
   "cell_type": "code",
   "execution_count": null,
   "metadata": {},
   "outputs": [],
   "source": [
    "from villas.dataprocessing.readtools import *\n",
    "from villas.dataprocessing.timeseries import *\n",
    "import matplotlib.pyplot as plt\n",
    "import re\n",
    "import numpy as np\n",
    "import math\n",
    "import os\n",
    "import subprocess\n",
    "\n",
    "#%matplotlib widget\n",
    "\n",
    "name = 'SP_SynGenTrStab_SMIB_Fault_KundurExample1'\n",
    "\n",
    "dpsim_path = subprocess.Popen(['git', 'rev-parse', '--show-toplevel'], stdout=subprocess.PIPE).communicate()[0].rstrip().decode('utf-8')\n",
    "\n",
    "path_exec = dpsim_path + '/build/dpsim/examples/cxx/'\n",
    "\n",
    "timestep = 100e-6"
   ]
  },
  {
   "cell_type": "markdown",
   "metadata": {},
   "source": [
    "## Run Simulation"
   ]
  },
  {
   "cell_type": "code",
   "execution_count": null,
   "metadata": {},
   "outputs": [],
   "source": [
    "sim = subprocess.Popen([path_exec+name, '--name', name, '--timestep', str(timestep)], stdout=subprocess.PIPE, stderr=subprocess.STDOUT)\n",
    "print(sim.communicate()[0].decode())"
   ]
  },
  {
   "cell_type": "markdown",
   "metadata": {},
   "source": [
    "## Read DPsim Results"
   ]
  },
  {
   "cell_type": "code",
   "execution_count": null,
   "metadata": {},
   "outputs": [],
   "source": [
    "model_name = 'SynGenTrStab_SMIB_Fault_KundurExample1'\n",
    "path_ref = 'logs/' + 'SP_' + model_name + '_SP/'\n",
    "dpsim_result_file_ref = path_ref  + 'SP_' + model_name + '_SP.csv'\n",
    "ts_dpsim_ref = read_timeseries_csv(dpsim_result_file_ref)"
   ]
  },
  {
   "cell_type": "markdown",
   "metadata": {},
   "source": [
    "## Read PSAT Results"
   ]
  },
  {
   "cell_type": "code",
   "execution_count": null,
   "metadata": {},
   "outputs": [],
   "source": [
    "import os\n",
    "import urllib.request\n",
    "\n",
    "if not os.path.exists('reference-results'):\n",
    "    os.mkdir('reference-results')\n",
    "\n",
    "url = 'https://raw.githubusercontent.com/dpsim-simulator/reference-results/master/PSAT/Kundur2-Example1/d_kundur2_example1_dpsim.out'\n",
    "local_file = 'reference-results/d_kundur2_example1_dpsim.out'\n",
    "urllib.request.urlretrieve(url, local_file) \n",
    "\n",
    "timeseries_names_psat = ['delta_Syn_1', 'omega_Syn_1', 'theta_Bus1', 'theta_Bus2', 'theta_Bus3', 'V_Bus1', 'V_Bus2', 'V_Bus3', 'pm_Syn_1', 'vf_Syn_1', 'p_Syn_1', 'q_Syn_1']\n",
    "\n",
    "ts_psat = read_timeseries_PSAT(local_file, timeseries_names_psat)"
   ]
  },
  {
   "cell_type": "markdown",
   "metadata": {},
   "source": [
    "## Unit harmonization"
   ]
  },
  {
   "cell_type": "code",
   "execution_count": null,
   "metadata": {},
   "outputs": [],
   "source": [
    "vbase = 400e3 # for p.u. conversion\n",
    "deg_to_rad = np.pi/180\n",
    "sbase = 100e6\n",
    "omega_base = 2*np.pi*60\n",
    "sgen = 2220e6"
   ]
  },
  {
   "cell_type": "markdown",
   "metadata": {},
   "source": [
    "## Definition ROI and common timestep"
   ]
  },
  {
   "cell_type": "code",
   "execution_count": null,
   "metadata": {},
   "outputs": [],
   "source": [
    "timestep_common = 100e-6\n",
    "\n",
    "t_begin=0\n",
    "t_end=10\n",
    "\n",
    "begin_idx = int(t_begin/timestep_common)\n",
    "end_idx= int(t_end/timestep_common)"
   ]
  },
  {
   "cell_type": "markdown",
   "metadata": {},
   "source": [
    "## Bus voltages"
   ]
  },
  {
   "cell_type": "code",
   "execution_count": null,
   "metadata": {},
   "outputs": [],
   "source": [
    "plt.figure(figsize=(12,8))\n",
    "\n",
    "for name in ['v1', 'v2', 'v3']:\n",
    "    plt.plot(ts_dpsim_ref[name].interpolate(timestep_common).time[begin_idx:end_idx], ts_dpsim_ref[name].interpolate(timestep_common).abs().values[begin_idx:end_idx], label=name + ' SP DPsim')\n",
    "for name in ['V_Bus1', 'V_Bus2', 'V_Bus3']:\n",
    "    plt.plot(ts_psat[name].interpolate(timestep_common).time[begin_idx:end_idx], ts_psat[name].interpolate(timestep_common).values[begin_idx:end_idx]*vbase, label=name + ' SP PSAT', linestyle='--')\n",
    "plt.legend()\n",
    "plt.show()"
   ]
  },
  {
   "cell_type": "markdown",
   "metadata": {},
   "source": [
    "## Bus angles"
   ]
  },
  {
   "cell_type": "code",
   "execution_count": null,
   "metadata": {},
   "outputs": [],
   "source": [
    "plt.figure(figsize=(12,8))\n",
    "\n",
    "for name in ['v1', 'v2', 'v3']:\n",
    "    plt.plot(ts_dpsim_ref[name].interpolate(timestep_common).time[begin_idx:end_idx], ts_dpsim_ref[name].interpolate(timestep_common).phase().values[begin_idx:end_idx]*deg_to_rad, label=name + ' phase SP DPsim')\n",
    "for name in ['theta_Bus1', 'theta_Bus2', 'theta_Bus3']:\n",
    "    plt.plot(ts_psat[name].interpolate(timestep_common).time[begin_idx:end_idx], ts_psat[name].interpolate(timestep_common).values[begin_idx:end_idx], label=name + ' SP PSAT', linestyle='--')\n",
    "plt.legend()\n",
    "plt.show()"
   ]
  },
  {
   "cell_type": "markdown",
   "metadata": {},
   "source": [
    "## Generator emf"
   ]
  },
  {
   "cell_type": "code",
   "execution_count": null,
   "metadata": {},
   "outputs": [],
   "source": [
    "plt.figure(figsize=(12,8))\n",
    "\n",
    "for name in ['Ep']:\n",
    "    plt.plot(ts_dpsim_ref[name].interpolate(timestep_common).time[begin_idx:end_idx], ts_dpsim_ref[name].interpolate(timestep_common).abs().values[begin_idx:end_idx], label=name + ' SP DPsim')\n",
    "for name in ['vf_Syn_1']:\n",
    "    plt.plot(ts_psat[name].interpolate(timestep_common).time[begin_idx:end_idx], ts_psat[name].interpolate(timestep_common).values[begin_idx:end_idx]*vbase, label=name + ' SP PSAT', linestyle='--')\n",
    "plt.ylim([0.5*vbase,1.5*vbase])\n",
    "plt.legend()\n",
    "plt.show()"
   ]
  },
  {
   "cell_type": "markdown",
   "metadata": {},
   "source": [
    "## Fault Vars (DPsim only)"
   ]
  },
  {
   "cell_type": "code",
   "execution_count": null,
   "metadata": {},
   "outputs": [],
   "source": [
    "plt.figure(figsize=(12,8))\n",
    "for name in ['v_fault']:\n",
    "    plt.plot(ts_dpsim_ref[name].interpolate(timestep_common).time[begin_idx:end_idx], ts_dpsim_ref[name].interpolate(timestep_common).abs().values[begin_idx:end_idx], label=name + 'SP DPsim')\n",
    "for name in ['i_fault']:\n",
    "    plt.plot(ts_dpsim_ref[name].interpolate(timestep_common).time[begin_idx:end_idx], ts_dpsim_ref[name].interpolate(timestep_common).abs().values[begin_idx:end_idx], label=name + 'SP DPsim')\n",
    "\n",
    "plt.xlim([0.4,0.6])\n",
    "plt.legend()\n",
    "plt.show()"
   ]
  },
  {
   "cell_type": "markdown",
   "metadata": {},
   "source": [
    "## Generator mechanical power"
   ]
  },
  {
   "cell_type": "code",
   "execution_count": null,
   "metadata": {},
   "outputs": [],
   "source": [
    "plt.figure(figsize=(12,8))\n",
    "\n",
    "for name in ['P_mech']:\n",
    "    plt.plot(ts_dpsim_ref[name].interpolate(timestep_common).time[begin_idx:end_idx], ts_dpsim_ref[name].interpolate(timestep_common).values[begin_idx:end_idx], label=name + ' SP DPsim')\n",
    "for name in ['pm_Syn_1']:\n",
    "    plt.plot(ts_psat[name].interpolate(timestep_common).time[begin_idx:end_idx], ts_psat[name].interpolate(timestep_common).values[begin_idx:end_idx]*sbase, label=name + ' SP PSAT', linestyle='--')\n",
    "plt.legend()\n",
    "plt.show()"
   ]
  },
  {
   "cell_type": "markdown",
   "metadata": {},
   "source": [
    "## Generator active power"
   ]
  },
  {
   "cell_type": "code",
   "execution_count": null,
   "metadata": {},
   "outputs": [],
   "source": [
    "plt.figure(figsize=(12,8))\n",
    "\n",
    "for name in ['P_elec']:\n",
    "    plt.plot(ts_dpsim_ref[name].interpolate(timestep_common).time[begin_idx:end_idx], ts_dpsim_ref[name].interpolate(timestep_common).values[begin_idx:end_idx], label=name + ' SP DPsim')\n",
    "for name in ['p_Syn_1']:\n",
    "    ts_psat[name].values = ts_psat[name].values*sbase\n",
    "    plt.plot(ts_psat[name].interpolate(timestep_common).time[begin_idx:end_idx], ts_psat[name].interpolate(timestep_common).values[begin_idx:end_idx], label=name + ' SP PSAT', linestyle='--')\n",
    "plt.legend()\n",
    "plt.show()"
   ]
  },
  {
   "cell_type": "markdown",
   "metadata": {},
   "source": [
    "## Generator reactive power"
   ]
  },
  {
   "cell_type": "code",
   "execution_count": null,
   "metadata": {},
   "outputs": [],
   "source": [
    "plt.figure(figsize=(12,8))\n",
    "\n",
    "for name in ['Q_elec']:\n",
    "    plt.plot(ts_dpsim_ref[name].interpolate(timestep_common).time[begin_idx:end_idx], ts_dpsim_ref[name].interpolate(timestep_common).values[begin_idx:end_idx], label=name + ' SP DPsim')\n",
    "for name in ['q_Syn_1']:\n",
    "    ts_psat[name].values = ts_psat[name].values*sbase\n",
    "    plt.plot(ts_psat[name].interpolate(timestep_common).time[begin_idx:end_idx], ts_psat[name].interpolate(timestep_common).values[begin_idx:end_idx], label=name + ' SP PSAT', linestyle='--')\n",
    "plt.legend()\n",
    "plt.show()"
   ]
  },
  {
   "cell_type": "markdown",
   "metadata": {},
   "source": [
    "## Rotor angular velocity $\\omega _r$"
   ]
  },
  {
   "cell_type": "code",
   "execution_count": null,
   "metadata": {},
   "outputs": [],
   "source": [
    "plt.figure(figsize=(12,8))\n",
    "\n",
    "for name in ['wr_gen']:\n",
    "    plt.plot(ts_dpsim_ref[name].interpolate(timestep_common).time[begin_idx:end_idx], ts_dpsim_ref[name].interpolate(timestep_common).values[begin_idx:end_idx], label='$\\omega _r$' + ' SP DPsim')\n",
    "for name in ['omega_Syn_1']:\n",
    "    ts_psat[name].values = ts_psat[name].values*omega_base\n",
    "    plt.plot(ts_psat[name].interpolate(timestep_common).time[begin_idx:end_idx], ts_psat[name].interpolate(timestep_common).values[begin_idx:end_idx], label='$\\omega _r$' + ' SP PSAT', linestyle='--')\n",
    "plt.legend()\n",
    "plt.show()"
   ]
  },
  {
   "cell_type": "markdown",
   "metadata": {},
   "source": [
    "## Rotor angle $\\delta _r$"
   ]
  },
  {
   "cell_type": "code",
   "execution_count": null,
   "metadata": {},
   "outputs": [],
   "source": [
    "plt.figure(figsize=(12,8))\n",
    "\n",
    "for name in ['delta_r_gen']: \n",
    "    plt.plot(ts_dpsim_ref[name].interpolate(timestep_common).time[begin_idx:end_idx], ts_dpsim_ref[name].interpolate(timestep_common).values[begin_idx:end_idx], label='$\\delta _r$' + ' SP DPsim')\n",
    "for name in ['delta_Syn_1']:\n",
    "    plt.plot(ts_psat[name].interpolate(timestep_common).time[begin_idx:end_idx], ts_psat[name].interpolate(timestep_common).values[begin_idx:end_idx], label='$\\delta _r$' + ' SP PSAT', linestyle='--')\n",
    "plt.legend()\n",
    "plt.show()"
   ]
  },
  {
   "cell_type": "markdown",
   "metadata": {},
   "source": [
    "## Comparison DPsim vs. PSAT"
   ]
  },
  {
   "cell_type": "code",
   "execution_count": null,
   "metadata": {},
   "outputs": [],
   "source": [
    "p_elec_diff = ts_dpsim_ref['P_elec'].rmse(ts_dpsim_ref['P_elec'].interpolate(timestep_common), ts_psat['p_Syn_1'].interpolate(timestep_common))\n",
    "print('{:.3f} MVA, which is {:.3f}% of nominal Sgen = {:.2f} MVA'.format(p_elec_diff/1e6, p_elec_diff/sgen*100, sgen/1e6))\n",
    "q_elec_diff = ts_dpsim_ref['Q_elec'].rmse(ts_dpsim_ref['Q_elec'].interpolate(timestep_common), ts_psat['q_Syn_1'].interpolate(timestep_common))\n",
    "print('{:.3f} MVA, which is {:.3}% of nominal Sgen = {:.2f} MVA'.format(q_elec_diff/1e6, q_elec_diff/sgen*100,sgen/1e6))\n",
    "omega_r_diff = ts_dpsim_ref['wr_gen'].rmse(ts_dpsim_ref['wr_gen'].interpolate(timestep_common), ts_psat['omega_Syn_1'].interpolate(timestep_common))\n",
    "print('{:.3f} 1/s, which is {:.3}% of nominal omega {:.2f} 1/s'.format(omega_r_diff, omega_r_diff/omega_base*100, omega_base))\n",
    "delta_r_gen_diff = ts_dpsim_ref['delta_r_gen'].rmse(ts_dpsim_ref['delta_r_gen'].interpolate(timestep_common), ts_psat['delta_Syn_1'].interpolate(timestep_common))\n",
    "print('{:.3} rad'.format(delta_r_gen_diff))"
   ]
  },
  {
   "cell_type": "markdown",
   "metadata": {},
   "source": [
    "## Assertion DPsim vs. PSAT"
   ]
  },
  {
   "cell_type": "code",
   "execution_count": null,
   "metadata": {},
   "outputs": [],
   "source": [
    "assert(p_elec_diff/1e6<0.6)\n",
    "assert(q_elec_diff/1e6<4)\n",
    "assert(omega_r_diff<0.002)\n",
    "assert(delta_r_gen_diff<2e-4)"
   ]
  },
  {
   "cell_type": "code",
   "execution_count": null,
   "metadata": {},
   "outputs": [],
   "source": []
  }
 ],
 "metadata": {
  "kernelspec": {
   "display_name": "Python 3 (ipykernel)",
   "language": "python",
   "name": "python3"
  },
  "language_info": {
   "codemirror_mode": {
    "name": "ipython",
    "version": 3
   },
   "file_extension": ".py",
   "mimetype": "text/x-python",
   "name": "python",
   "nbconvert_exporter": "python",
   "pygments_lexer": "ipython3",
   "version": "3.9.12"
  },
  "tests": {
   "skip": false
  }
 },
 "nbformat": 4,
 "nbformat_minor": 4
}
