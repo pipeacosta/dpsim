{
 "cells": [
  {
   "cell_type": "markdown",
   "metadata": {},
   "source": [
    "# Dynamic WSCC 9-bus System with Switch"
   ]
  },
  {
   "cell_type": "code",
   "execution_count": null,
   "metadata": {},
   "outputs": [],
   "source": [
    "import requests\n",
    "import glob\n",
    "\n",
    "def download_grid_data(name, url):\n",
    "    with open(name, 'wb') as out_file:\n",
    "        content = requests.get(url, stream=True).content\n",
    "        out_file.write(content)\n",
    "\n",
    "url = 'https://git.rwth-aachen.de/acs/public/grid-data/cim-grid-data/-/raw/master/WSCC-09/WSCC-09_RX_Dyn/WSCC-09_RX'\n",
    "filename = 'WSCC-09'\n",
    "download_grid_data(filename+'_EQ.xml', url+'_EQ.xml')\n",
    "download_grid_data(filename+'_TP.xml', url+'_TP.xml')\n",
    "download_grid_data(filename+'_SV.xml', url+'_SV.xml')\n",
    "\n",
    "files = glob.glob(filename+'_*.xml')\n",
    "print(files)"
   ]
  },
  {
   "cell_type": "code",
   "execution_count": null,
   "metadata": {},
   "outputs": [],
   "source": [
    "import villas.dataprocessing.plottools as pt\n",
    "import villas.dataprocessing.readtools as rt\n",
    "from villas.dataprocessing.timeseries import TimeSeries as ts\n",
    "import matplotlib.pyplot as plt\n",
    "import dpsimpy\n",
    "import numpy as np"
   ]
  },
  {
   "cell_type": "code",
   "execution_count": null,
   "metadata": {},
   "outputs": [],
   "source": [
    "sim_name = 'SP_WSCC-9bus_dyn_switch'"
   ]
  },
  {
   "cell_type": "markdown",
   "metadata": {},
   "source": [
    "## Simulation"
   ]
  },
  {
   "cell_type": "code",
   "execution_count": null,
   "metadata": {},
   "outputs": [],
   "source": [
    "dpsimpy.Logger.set_log_dir('logs/' + sim_name)\n",
    "reader = dpsimpy.CIMReader(sim_name, dpsimpy.LogLevel.debug, dpsimpy.LogLevel.debug)\n",
    "system = reader.loadCIM(60, files, dpsimpy.Domain.SP, dpsimpy.PhaseType.Single, dpsimpy.GeneratorType.TransientStability)\n",
    "\n",
    "# Extend topology with switch\n",
    "sw = dpsimpy.sp.ph1.Switch('Fault', dpsimpy.LogLevel.info)\n",
    "sw.set_parameters(1e12, 0.1*529)\n",
    "sw.connect([dpsimpy.sp.SimNode.gnd, system.node('BUS7')])\n",
    "sw.open()\n",
    "system.add(sw)\n",
    "\n",
    "# Use omegNom for torque conversion in SG models for validation with PSAT\n",
    "system.component('GEN1').set_model_flags(False)\n",
    "system.component('GEN2').set_model_flags(False)\n",
    "system.component('GEN3').set_model_flags(False)\n",
    "\n",
    "logger = dpsimpy.Logger(sim_name)\n",
    "\n",
    "for i in range(1, 10):\n",
    "    logger.log_attribute('v' + str(i), 'v', system.node('BUS' + str(i)))\n",
    "\n",
    "for i in range(1, 4):\n",
    "    logger.log_attribute('wr_' + str(i), 'w_r', system.component('GEN' + str(i)))\n",
    "    logger.log_attribute('delta_r_' + str(i), 'delta_r', system.component('GEN' + str(i)))\n",
    "    logger.log_attribute('P_elec_' + str(i), 'P_elec', system.component('GEN' + str(i)))\n",
    "    logger.log_attribute('P_mech_' + str(i), 'P_mech', system.component('GEN' + str(i)))\n",
    "\n",
    "\n",
    "sim = dpsimpy.Simulation(sim_name, dpsimpy.LogLevel.debug)\n",
    "sim.set_system(system)\n",
    "sim.set_time_step(0.0001)\n",
    "sim.set_final_time(2.0)\n",
    "sim.set_domain(dpsimpy.Domain.SP)\n",
    "sim.set_solver(dpsimpy.Solver.MNA)\n",
    "sim.do_init_from_nodes_and_terminals(True)\n",
    "\n",
    "sw_event_1 = dpsimpy.event.SwitchEvent(0.2 - 0.0001, sw, True)\n",
    "sim.add_event(sw_event_1)\n",
    "\n",
    "sim.add_logger(logger)\n",
    "sim.run()\n"
   ]
  },
  {
   "cell_type": "markdown",
   "metadata": {},
   "source": [
    "## Read simulation results"
   ]
  },
  {
   "cell_type": "code",
   "execution_count": null,
   "metadata": {},
   "outputs": [],
   "source": [
    "path = 'logs/SP_WSCC-9bus_dyn_switch/'\n",
    "logName = 'SP_WSCC-9bus_dyn_switch'\n",
    "logFilename = path + logName + '.csv'\n",
    "print(logFilename)\n",
    "\n",
    "ts_dpsim = rt.read_timeseries_dpsim(logFilename)\n",
    "phasors = ts.phasors(ts_dpsim)"
   ]
  },
  {
   "cell_type": "markdown",
   "metadata": {},
   "source": [
    "### Phasors at last time step in per unit"
   ]
  },
  {
   "cell_type": "code",
   "execution_count": null,
   "metadata": {},
   "outputs": [],
   "source": [
    "nominal_voltages = {'v1': 16500, 'v2': 18000, 'v3': 13800, \n",
    "                         'v4': 230000, 'v5': 230000, 'v6': 230000, \n",
    "                         'v7': 230000, 'v8': 230000, 'v9': 230000} \n",
    "for node, nom_voltage in nominal_voltages.items():\n",
    "    print(node + ': ' + str(phasors[node]['abs'].values[0] / nom_voltage) + '<' + str(phasors[node]['phase'].values[0]))"
   ]
  },
  {
   "cell_type": "markdown",
   "metadata": {},
   "source": [
    "### Plot node voltages"
   ]
  },
  {
   "cell_type": "code",
   "execution_count": null,
   "metadata": {},
   "outputs": [],
   "source": [
    "plt.figure()\n",
    "plt.plot(phasors['v1']['abs'].time, phasors['v1']['abs'].values, label='v1.abs')\n",
    "plt.plot(phasors['v2']['abs'].time, phasors['v2']['abs'].values, label='v2.abs')\n",
    "plt.plot(phasors['v3']['abs'].time, phasors['v3']['abs'].values, label='v3.abs')\n",
    "plt.legend()\n",
    "plt.ylim([0,20000])\n",
    "\n",
    "plt.figure()\n",
    "plt.plot(phasors['v4']['abs'].time, phasors['v4']['abs'].values, label='v4.abs')\n",
    "plt.plot(phasors['v5']['abs'].time, phasors['v5']['abs'].values, label='v5.abs')\n",
    "plt.plot(phasors['v6']['abs'].time, phasors['v6']['abs'].values, label='v6.abs')\n",
    "plt.plot(phasors['v7']['abs'].time, phasors['v7']['abs'].values, label='v7.abs')\n",
    "plt.plot(phasors['v8']['abs'].time, phasors['v8']['abs'].values, label='v8.abs')\n",
    "plt.plot(phasors['v9']['abs'].time, phasors['v9']['abs'].values, label='v9.abs')\n",
    "plt.legend()\n",
    "plt.ylim([0,240000])"
   ]
  },
  {
   "cell_type": "markdown",
   "metadata": {},
   "source": [
    "### Generator Speed"
   ]
  },
  {
   "cell_type": "code",
   "execution_count": null,
   "metadata": {},
   "outputs": [],
   "source": [
    "plt.figure()\n",
    "plt.plot(ts_dpsim['wr_1'].time, ts_dpsim['wr_1'].values, label='wr_1')\n",
    "plt.plot(ts_dpsim['wr_2'].time, ts_dpsim['wr_2'].values, label='wr_2')\n",
    "plt.plot(ts_dpsim['wr_3'].time, ts_dpsim['wr_3'].values, label='wr_3')\n",
    "plt.xlabel('time (s)')\n",
    "plt.ylabel('mechanical speed (rad/s)')\n",
    "plt.legend()\n",
    "plt.show()\n",
    "#plt.savefig('wscc_9bus_fault_gen_speed.pdf')"
   ]
  },
  {
   "cell_type": "markdown",
   "metadata": {},
   "source": [
    "## Validation with PSAT"
   ]
  },
  {
   "cell_type": "code",
   "execution_count": null,
   "metadata": {},
   "outputs": [],
   "source": [
    "import os\n",
    "import urllib.request\n",
    "\n",
    "if not os.path.exists('reference-results'):\n",
    "    os.mkdir('reference-results')\n",
    "\n",
    "url = 'https://raw.githubusercontent.com/dpsim-simulator/reference-results/master/PSAT/WSCC-9bus/d_009_fault_dpsim_01.out'\n",
    "local_file = 'reference-results/d_009_fault_dpsim_01.out'\n",
    "urllib.request.urlretrieve(url, local_file) \n",
    "\n",
    "syngen_power_name_dpsim_list = ['P_elec_1', 'P_elec_2', 'P_elec_3']\n",
    "syngen_power_name_psat_list = ['p_Syn_1', 'p_Syn_2', 'p_Syn_3']\n",
    "\n",
    "syngen_omega_name_dpsim_list = ['wr_1', 'wr_2', 'wr_3']\n",
    "syngen_omega_name_psat_list = ['omega_Syn_1', 'omega_Syn_2', 'omega_Syn_3']\n",
    "\n",
    "syngen_delta_name_dpsim_list = ['delta_r_1', 'delta_r_2', 'delta_r_3']\n",
    "syngen_delta_name_psat_list = ['delta_Syn_1', 'delta_Syn_2', 'delta_Syn_3']\n",
    "\n",
    "bus_volt_name_dpsim_list = ['v1', 'v2', 'v3', 'v4', 'v5', 'v6', 'v7', 'v8', 'v9']\n",
    "bus_volt_name_psat_list = ['V_Bus 1', 'V_Bus 2', 'V_Bus 3', 'V_Bus 4', 'V_Bus 5', 'V_Bus 6', 'V_Bus 7', 'V_Bus 8', 'V_Bus 9']\n",
    "bus_angle_name_psat_list = ['theta_Bus 1', 'theta_Bus 2', 'theta_Bus 3', 'theta_Bus 4', 'theta_Bus 5', 'theta_Bus 6', 'theta_Bus 7', 'theta_Bus 8', 'theta_Bus 9']\n",
    "\n",
    "timeseries_names_psat = syngen_power_name_psat_list+syngen_omega_name_psat_list+syngen_delta_name_psat_list+bus_volt_name_psat_list+bus_angle_name_psat_list\n",
    "\n",
    "ts_psat = rt.read_timeseries_PSAT(local_file, timeseries_names_psat)"
   ]
  },
  {
   "cell_type": "markdown",
   "metadata": {},
   "source": [
    "## Rotor speeds"
   ]
  },
  {
   "cell_type": "code",
   "execution_count": null,
   "metadata": {},
   "outputs": [],
   "source": [
    "plt.figure(figsize=(12,9))\n",
    "for syngen_omega_name_dpsim in syngen_omega_name_dpsim_list:\n",
    "    ts_dpsim[syngen_omega_name_dpsim].values = ts_dpsim[syngen_omega_name_dpsim].values/(2*np.pi*60)\n",
    "    plt.plot(ts_dpsim[syngen_omega_name_dpsim].time, ts_dpsim[syngen_omega_name_dpsim].values, label=syngen_omega_name_dpsim+' (dpsim)')\n",
    "for syngen_omega_name_psat in syngen_omega_name_psat_list:\n",
    "    plt.plot(ts_psat[syngen_omega_name_psat].time, ts_psat[syngen_omega_name_psat].values, label=syngen_omega_name_psat+' (psat)', linestyle='--')\n",
    "plt.xlabel('time (s)')\n",
    "plt.ylabel('mechanical speed (p.u)')\n",
    "plt.legend()\n",
    "plt.show()"
   ]
  },
  {
   "cell_type": "markdown",
   "metadata": {},
   "source": [
    "## Assert rotor speeds"
   ]
  },
  {
   "cell_type": "code",
   "execution_count": null,
   "metadata": {},
   "outputs": [],
   "source": [
    "assert(ts_dpsim[syngen_omega_name_dpsim_list[0]].rmse(ts_dpsim[syngen_omega_name_dpsim_list[0]], ts_psat[syngen_omega_name_psat_list[2]]) < 2e-4)\n",
    "assert(ts_dpsim[syngen_omega_name_dpsim_list[1]].rmse(ts_dpsim[syngen_omega_name_dpsim_list[1]], ts_psat[syngen_omega_name_psat_list[0]]) < 2e-4)\n",
    "assert(ts_dpsim[syngen_omega_name_dpsim_list[2]].rmse(ts_dpsim[syngen_omega_name_dpsim_list[2]], ts_psat[syngen_omega_name_psat_list[1]]) < 2e-4)"
   ]
  },
  {
   "cell_type": "markdown",
   "metadata": {},
   "source": [
    "## Rotor angles"
   ]
  },
  {
   "cell_type": "code",
   "execution_count": null,
   "metadata": {},
   "outputs": [],
   "source": [
    "plt.figure(figsize=(12,9))\n",
    "for syngen_delta_name_dpsim in syngen_delta_name_dpsim_list:\n",
    "    plt.plot(ts_dpsim[syngen_delta_name_dpsim].time, ts_dpsim[syngen_delta_name_dpsim].values, label=syngen_delta_name_dpsim+' (dpsim)')\n",
    "for syngen_delta_name_psat in syngen_delta_name_psat_list:\n",
    "    plt.plot(ts_psat[syngen_delta_name_psat].time, ts_psat[syngen_delta_name_psat].values, label=syngen_delta_name_psat+' (psat)', linestyle='--')\n",
    "plt.xlabel('time (s)')\n",
    "plt.ylabel('rotor angle (deg)')\n",
    "plt.legend()\n",
    "plt.show()"
   ]
  },
  {
   "cell_type": "markdown",
   "metadata": {},
   "source": [
    "## Bus voltages"
   ]
  },
  {
   "cell_type": "code",
   "execution_count": null,
   "metadata": {},
   "outputs": [],
   "source": [
    "plt.figure(figsize=(12,9))\n",
    "for bus_volt_name_dpsim in bus_volt_name_dpsim_list:\n",
    "    if bus_volt_name_dpsim == 'v1':\n",
    "        plt.plot(ts_dpsim[bus_volt_name_dpsim].time, ts_dpsim[bus_volt_name_dpsim].abs().values/16.5e3, label=bus_volt_name_dpsim + ' (dpsim)', color='C'+str(bus_volt_name_dpsim_list.index(bus_volt_name_dpsim)))\n",
    "    elif bus_volt_name_dpsim == 'v2':\n",
    "        plt.plot(ts_dpsim[bus_volt_name_dpsim].time, ts_dpsim[bus_volt_name_dpsim].abs().values/18e3, label=bus_volt_name_dpsim + ' (dpsim)', color='C'+str(bus_volt_name_dpsim_list.index(bus_volt_name_dpsim)))\n",
    "    elif bus_volt_name_dpsim == 'v3':\n",
    "        plt.plot(ts_dpsim[bus_volt_name_dpsim].time, ts_dpsim[bus_volt_name_dpsim].abs().values/13.8e3, label=bus_volt_name_dpsim + ' (dpsim)', color='C'+str(bus_volt_name_dpsim_list.index(bus_volt_name_dpsim)))\n",
    "    else:\n",
    "        plt.plot(ts_dpsim[bus_volt_name_dpsim].time, ts_dpsim[bus_volt_name_dpsim].abs().values/230e3, label=bus_volt_name_dpsim + ' (dpsim)', color='C'+str(bus_volt_name_dpsim_list.index(bus_volt_name_dpsim)))\n",
    "for bus_volt_name_psat in bus_volt_name_psat_list:\n",
    "        plt.plot(ts_psat[bus_volt_name_psat].time, ts_psat[bus_volt_name_psat].values, label=bus_volt_name_psat + ' (psat)', linestyle='--', color='C'+str(bus_volt_name_psat_list.index(bus_volt_name_psat)))\n",
    "plt.xlabel('time (s)')\n",
    "plt.ylabel('voltage (p.u.)')\n",
    "plt.legend()\n",
    "plt.show()"
   ]
  },
  {
   "cell_type": "markdown",
   "metadata": {},
   "source": [
    "## Bus angles"
   ]
  },
  {
   "cell_type": "code",
   "execution_count": null,
   "metadata": {},
   "outputs": [],
   "source": [
    "plt.figure(figsize=(12,9))\n",
    "for bus_volt_name_dpsim in bus_volt_name_dpsim_list:\n",
    "    plt.plot(ts_dpsim[bus_volt_name_dpsim].time, ts_dpsim[bus_volt_name_dpsim].phase().values/180*np.pi, label=bus_volt_name_dpsim + ' (dpsim)', color='C'+str(bus_volt_name_dpsim_list.index(bus_volt_name_dpsim)))\n",
    "for bus_angle_name_psat in bus_angle_name_psat_list:\n",
    "    plt.plot(ts_psat[bus_angle_name_psat].time, ts_psat[bus_angle_name_psat].values, label=bus_angle_name_psat + ' (psat)', linestyle='--', color='C'+str(bus_angle_name_psat_list.index(bus_angle_name_psat)))\n",
    "plt.xlabel('time (s)')\n",
    "plt.ylabel('angle (rad)')\n",
    "plt.legend()\n",
    "plt.show()"
   ]
  },
  {
   "cell_type": "markdown",
   "metadata": {},
   "source": [
    "## SG active power"
   ]
  },
  {
   "cell_type": "code",
   "execution_count": null,
   "metadata": {},
   "outputs": [],
   "source": [
    "plt.figure(figsize=(12,9))\n",
    "for syngen_power_name_dpsim in syngen_power_name_dpsim_list:\n",
    "    plt.plot(ts_dpsim[syngen_power_name_dpsim].time, ts_dpsim[syngen_power_name_dpsim].values/100e6, label=syngen_power_name_dpsim+' (dpsim)')\n",
    "for syngen_power_name_psat in syngen_power_name_psat_list:\n",
    "    plt.plot(ts_psat[syngen_power_name_psat].time, ts_psat[syngen_power_name_psat].values, label=syngen_power_name_psat+' (psat)', linestyle='--')\n",
    "plt.xlabel('time (s)')\n",
    "plt.ylabel('power (W)')\n",
    "plt.legend()\n",
    "plt.show()"
   ]
  }
 ],
 "metadata": {
  "kernelspec": {
   "display_name": "Python 3.9.2 64-bit",
   "language": "python",
   "name": "python3"
  },
  "language_info": {
   "codemirror_mode": {
    "name": "ipython",
    "version": 3
   },
   "file_extension": ".py",
   "mimetype": "text/x-python",
   "name": "python",
   "nbconvert_exporter": "python",
   "pygments_lexer": "ipython3",
   "version": "3.9.2"
  },
  "vscode": {
   "interpreter": {
    "hash": "31f2aee4e71d21fbe5cf8b01ff0e069b9275f58929596ceb00d14d90e3e16cd6"
   }
  }
 },
 "nbformat": 4,
 "nbformat_minor": 4
}
