{
 "cells": [
  {
   "cell_type": "code",
   "execution_count": null,
   "id": "d38ae51f-7dcc-4d8f-91bf-3f0a897e0e45",
   "metadata": {},
   "outputs": [],
   "source": [
    "import villas.dataprocessing.readtools as rt\n",
    "from villas.dataprocessing.timeseries import TimeSeries as ts\n",
    "import matplotlib.pyplot as plt\n",
    "import re\n",
    "import numpy as np\n",
    "import math\n",
    "import os\n",
    "import dpsimpy"
   ]
  },
  {
   "cell_type": "code",
   "execution_count": null,
   "id": "534e7ab2-2784-491f-aa49-132fb89e4f29",
   "metadata": {},
   "outputs": [],
   "source": [
    "import requests\n",
    "import glob\n",
    "\n",
    "def download_grid_data(name, url):\n",
    "    with open(name, 'wb') as out_file:\n",
    "        content = requests.get(url, stream=True).content\n",
    "        out_file.write(content)\n",
    "\n",
    "url = 'https://raw.githubusercontent.com/dpsim-simulator/cim-grid-data/master/WSCC-09/WSCC-09_RX/WSCC-09_RX'\n",
    "filename = 'WSCC-09_RX'\n",
    "download_grid_data(filename+'_EQ.xml', url+'_EQ.xml')\n",
    "download_grid_data(filename+'_TP.xml', url+'_TP.xml')\n",
    "download_grid_data(filename+'_SV.xml', url+'_SV.xml')\n",
    "download_grid_data(filename+'_DI.xml', url+'_DI.xml')\n",
    "\n",
    "files = glob.glob(filename+'_*.xml')\n",
    "print(files)"
   ]
  },
  {
   "cell_type": "code",
   "execution_count": null,
   "id": "77f5bb79-6009-4b4d-afbb-357927b965a7",
   "metadata": {},
   "outputs": [],
   "source": [
    "final_time = 0.5\n",
    "time_step = 1e-4\n",
    "\n",
    "log_dir = \"logs\"\n",
    "log_level = dpsimpy.LogLevel.info\n",
    "\n",
    "num_copies = 0\n",
    "num_threads = 0\n",
    "num_seq = 0\n",
    "sim_name = \"WSCC_9bus_coupled_\" + str(num_copies) + \"_\" + str(num_threads) + \"_\" + str(num_seq)\n",
    "\n",
    "def simulate_coupled(filenames, copies, threads, seq, implementation):\n",
    "    dpsimpy.Logger.set_log_dir(log_dir+\"/\"+sim_name)\n",
    "    reader = dpsimpy.CIMReader(sim_name, log_level, log_level)\n",
    "    sys = reader.loadCIM(60, filenames, dpsimpy.Domain.DP, dpsimpy.PhaseType.Single, dpsimpy.GeneratorType.IdealVoltageSource)\n",
    "    \n",
    "    # if copies > 0:\n",
    "    #     multiply_connected(sys, copies, 12.5, 0.16, 1e-6)\n",
    "    \n",
    "    sim = dpsimpy.Simulation(sim_name, log_level)\n",
    "    sim.set_system(sys)\n",
    "    sim.set_domain(dpsimpy.Domain.DP)\n",
    "    sim.set_solver(dpsimpy.Solver.MNA)\n",
    "    sim.set_time_step(time_step)\n",
    "    sim.set_final_time(final_time)\n",
    "    sim.set_direct_solver_implementation(implementation)\n",
    "    sim.run()"
   ]
  },
  {
   "cell_type": "code",
   "execution_count": null,
   "id": "3631d276-8dfc-4a67-9458-e1415fa7c5c6",
   "metadata": {},
   "outputs": [],
   "source": [
    "%%capture\n",
    "simulate_coupled(files, 0, 0, 0, dpsimpy.DirectLinearSolverImpl.SparseLU)\n",
    "ts_dpsim_lv_sparse = rt.read_timeseries_dpsim(dpsimpy.Logger.get_log_dir()+\"/\"+sim_name+\"_LeftVector.csv\")\n",
    "ts_dpsim_rv_sparse = rt.read_timeseries_dpsim(dpsimpy.Logger.get_log_dir()+\"/\"+sim_name+\"_RightVector.csv\")"
   ]
  },
  {
   "cell_type": "code",
   "execution_count": null,
   "id": "fce36089-2554-4ae9-8887-b0cb4b6fbb87",
   "metadata": {},
   "outputs": [],
   "source": [
    "%%capture\n",
    "simulate_coupled(files, 0, 0, 0, dpsimpy.DirectLinearSolverImpl.KLU)\n",
    "ts_dpsim_lv_klu = rt.read_timeseries_dpsim(dpsimpy.Logger.get_log_dir()+\"/\"+sim_name+\"_LeftVector.csv\")\n",
    "ts_dpsim_rv_klu = rt.read_timeseries_dpsim(dpsimpy.Logger.get_log_dir()+\"/\"+sim_name+\"_RightVector.csv\")"
   ]
  },
  {
   "cell_type": "code",
   "execution_count": null,
   "id": "98aa6f9c-95d2-476a-96af-1fcdb7c9a788",
   "metadata": {},
   "outputs": [],
   "source": [
    "%%capture\n",
    "simulate_coupled(files, 0, 0, 0, dpsimpy.DirectLinearSolverImpl.DenseLU)\n",
    "ts_dpsim_lv_denselu = rt.read_timeseries_dpsim(dpsimpy.Logger.get_log_dir()+\"/\"+sim_name+\"_LeftVector.csv\")\n",
    "ts_dpsim_rv_denselu = rt.read_timeseries_dpsim(dpsimpy.Logger.get_log_dir()+\"/\"+sim_name+\"_RightVector.csv\")"
   ]
  },
  {
   "cell_type": "code",
   "execution_count": null,
   "id": "67bd35b2-d5d1-4f30-8eed-6e6baf954cef",
   "metadata": {},
   "outputs": [],
   "source": [
    "tolerance = 1e-1\n",
    "\n",
    "for entry in ts_dpsim_rv_sparse:\n",
    "    sparse_values = ts_dpsim_rv_sparse[entry].values\n",
    "    klu_values = ts_dpsim_rv_klu[entry].values\n",
    "    denselu_values = ts_dpsim_rv_denselu[entry].values\n",
    "    # 2-norm of errors\n",
    "    error_1 = np.linalg.norm(sparse_values-klu_values, ord=2)\n",
    "    error_2 = np.linalg.norm(denselu_values-sparse_values, ord=2)\n",
    "    assert(error_1 < tolerance)\n",
    "    assert(error_2 < tolerance)\n",
    "\n",
    "for entry in ts_dpsim_lv_sparse:\n",
    "    sparse_values = ts_dpsim_lv_sparse[entry].values\n",
    "    klu_values = ts_dpsim_lv_klu[entry].values\n",
    "    denselu_values = ts_dpsim_lv_denselu[entry].values\n",
    "    # 2-norm of errors\n",
    "    error_1 = np.linalg.norm(sparse_values-klu_values, ord=2)\n",
    "    error_2 = np.linalg.norm(denselu_values-sparse_values, ord=2)\n",
    "    assert(error_1 < tolerance)\n",
    "    assert(error_2 < tolerance)"
   ]
  }
 ],
 "metadata": {
  "kernelspec": {
   "display_name": "Python 3 (ipykernel)",
   "language": "python",
   "name": "python3"
  },
  "language_info": {
   "codemirror_mode": {
    "name": "ipython",
    "version": 3
   },
   "file_extension": ".py",
   "mimetype": "text/x-python",
   "name": "python",
   "nbconvert_exporter": "python",
   "pygments_lexer": "ipython3",
   "version": "3.8.10"
  }
 },
 "nbformat": 4,
 "nbformat_minor": 5
}
