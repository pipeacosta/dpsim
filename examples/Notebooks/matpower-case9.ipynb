{
 "cells": [
  {
   "cell_type": "code",
   "execution_count": null,
   "id": "d7bd4564-5a12-4dc9-bf8d-798ac9b8c2fa",
   "metadata": {},
   "outputs": [],
   "source": [
    "import pandas as pd\n",
    "import numpy as np\n",
    "import os\n",
    "import dpsim"
   ]
  },
  {
   "cell_type": "code",
   "execution_count": null,
   "id": "b284ad95-3132-4ab2-9ee5-ba4aa9b70de2",
   "metadata": {},
   "outputs": [],
   "source": [
    "import requests\n",
    "url = 'https://raw.githubusercontent.com/dpsim-simulator/reference-results/master/Matpower/case9results.mat'\n",
    "with open('case9results.mat', 'wb') as out_file:\n",
    "    content = requests.get(url, stream=True).content\n",
    "    out_file.write(content)"
   ]
  },
  {
   "cell_type": "code",
   "execution_count": null,
   "id": "5f6bc46d-dabc-427f-9324-983deadb061c",
   "metadata": {},
   "outputs": [],
   "source": [
    "mpc_reader = dpsim.matpower.Reader('case9results.mat', 'case9results')"
   ]
  },
  {
   "cell_type": "code",
   "execution_count": null,
   "id": "8d39ced7-f508-47f9-b60e-af1541aa836c",
   "metadata": {},
   "outputs": [],
   "source": [
    "system = mpc_reader.load_mpc()"
   ]
  },
  {
   "cell_type": "code",
   "execution_count": null,
   "id": "b69a80ba-bca2-4c76-b4fc-03b91f25f1fc",
   "metadata": {},
   "outputs": [],
   "source": [
    "sim_name = 'case9'\n",
    "dpsim.Logger.set_log_dir('logs/' + sim_name)\n",
    "logger = dpsim.Logger(sim_name)\n",
    "\n",
    "for node in system.nodes:\n",
    "    logger.log_attribute(node.name()+'.V', 'v', node)\n",
    "    logger.log_attribute(node.name()+'.S', 's', node)\n",
    "    \n",
    "# Parametrize and run simulation\n",
    "sim = dpsim.Simulation(sim_name, dpsim.LogLevel.info)\n",
    "sim.set_system(system)\n",
    "sim.set_time_step(1)\n",
    "sim.set_final_time(1)\n",
    "sim.set_domain(dpsim.Domain.SP)\n",
    "sim.set_solver(dpsim.Solver.NRP)\n",
    "sim.do_init_from_nodes_and_terminals(False)\n",
    "sim.add_logger(logger)\n",
    "sim.run()"
   ]
  },
  {
   "cell_type": "code",
   "execution_count": null,
   "id": "f3cf7824-18b6-44e9-be5e-5141cf73cc34",
   "metadata": {},
   "outputs": [],
   "source": [
    "import villas.dataprocessing.readtools as rt\n",
    "from villas.dataprocessing.timeseries import TimeSeries as ts\n",
    "\n",
    "log_file = 'logs/' + sim_name +'/' + sim_name + '.csv'\n",
    "print(log_file)\n",
    "ts_dpsimpy = rt.read_timeseries_dpsim(log_file)"
   ]
  },
  {
   "cell_type": "code",
   "execution_count": null,
   "id": "ef5b5c22-c639-4eb8-b822-ab5ba761c329",
   "metadata": {},
   "outputs": [],
   "source": [
    "results = pd.DataFrame(columns=['Bus', 'V_mag(pu)', 'V_angle(deg)', 'P(MW)', 'Q (MVAr)'])\n",
    "\n",
    "for i in range(len(system.nodes)):\n",
    "    node = system.nodes[i].name()\n",
    "    node_baseV = mpc_reader.mpc_bus_data.loc[mpc_reader.mpc_bus_data['bus_i'] == int(node), 'baseKV'].iloc[0] * 1e3\n",
    "    w_mw = 1e-6\n",
    "    results.loc[i] = ([node] + [np.absolute(ts_dpsimpy[node + '.V'].values[-1]) / node_baseV]\n",
    "        + [np.degrees(np.angle(ts_dpsimpy[node + '.V'].values[-1]))] \n",
    "        + [w_mw * np.real(ts_dpsimpy[node + '.S'].values[-1])] \n",
    "        + [w_mw * np.imag(ts_dpsimpy[node + '.S'].values[-1])])"
   ]
  },
  {
   "cell_type": "code",
   "execution_count": null,
   "id": "b1a97116-3257-4da9-aaa4-72460d305bff",
   "metadata": {},
   "outputs": [],
   "source": [
    "results"
   ]
  },
  {
   "cell_type": "code",
   "execution_count": null,
   "id": "6ab2b7ce-6cf1-4e18-ad7b-7e160caf5fea",
   "metadata": {},
   "outputs": [],
   "source": [
    "import scipy.io\n",
    "input_mat = 'case9results.mat'\n",
    "data = scipy.io.loadmat(input_mat)\n",
    " \n",
    "bus_data = pd.DataFrame(data['case9results'][0][0]['bus'])\n",
    "bus_data.columns = [\"bus_i\", \"type\", \"Pd\", \"Qd\", \"Gs\", \"Bs\", \"area\", \"Vm\", \"Va\", \"baseKV\", \"zone\", \"Vmax\", \"Vmin\"]"
   ]
  },
  {
   "cell_type": "code",
   "execution_count": null,
   "id": "6e38bfc8-16a4-437e-a72a-9a6bf5c7a085",
   "metadata": {},
   "outputs": [],
   "source": [
    "bus_data"
   ]
  },
  {
   "cell_type": "code",
   "execution_count": null,
   "id": "8d0e183a-5562-4ef1-be9d-f757c3096ca9",
   "metadata": {},
   "outputs": [],
   "source": [
    "assert all(bus_data['Vm'] - results['V_mag(pu)'] < 0.001)"
   ]
  },
  {
   "cell_type": "code",
   "execution_count": null,
   "id": "068f2bf8-2eb6-46ae-aa64-e90d78305a94",
   "metadata": {},
   "outputs": [],
   "source": [
    "assert all(bus_data['Va'] - results['V_angle(deg)'] < 0.05)"
   ]
  },
  {
   "cell_type": "code",
   "execution_count": null,
   "id": "2a4a7847-3845-4e15-bb6b-f63bd75bf9f7",
   "metadata": {},
   "outputs": [],
   "source": []
  }
 ],
 "metadata": {
  "kernelspec": {
   "display_name": "Python 3 (ipykernel)",
   "language": "python",
   "name": "python3"
  },
  "language_info": {
   "codemirror_mode": {
    "name": "ipython",
    "version": 3
   },
   "file_extension": ".py",
   "mimetype": "text/x-python",
   "name": "python",
   "nbconvert_exporter": "python",
   "pygments_lexer": "ipython3",
   "version": "3.9.9"
  }
 },
 "nbformat": 4,
 "nbformat_minor": 5
}
